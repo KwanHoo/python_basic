{
  "nbformat": 4,
  "nbformat_minor": 0,
  "metadata": {
    "colab": {
      "name": "4_Matrix_Multiplication.ipynb",
      "provenance": [],
      "collapsed_sections": []
    },
    "kernelspec": {
      "name": "python3",
      "display_name": "Python 3"
    },
    "language_info": {
      "name": "python"
    },
    "accelerator": "GPU"
  },
  "cells": [
    {
      "cell_type": "markdown",
      "metadata": {
        "id": "DLVefVP-8FiV"
      },
      "source": [
        "# AI 4week 실습 과제\n",
        "#### pytorch matrix multiplication\n",
        "\n",
        "- matrix multiplication\n",
        "- batch matrix multiplication\n",
        "- matmul\n",
        "- @ operator"
      ]
    },
    {
      "cell_type": "code",
      "metadata": {
        "colab": {
          "base_uri": "https://localhost:8080/"
        },
        "id": "h5hxhdgh7xRn",
        "outputId": "5e743129-0c08-44c0-d500-99015e779c4a"
      },
      "source": [
        "!pip3 install torch==1.9.0 torchvision torchaudio"
      ],
      "execution_count": 1,
      "outputs": [
        {
          "output_type": "stream",
          "name": "stdout",
          "text": [
            "Requirement already satisfied: torch==1.9.0 in /usr/local/lib/python3.7/dist-packages (1.9.0+cu102)\n",
            "Requirement already satisfied: torchvision in /usr/local/lib/python3.7/dist-packages (0.10.0+cu102)\n",
            "Collecting torchaudio\n",
            "  Downloading torchaudio-0.9.1-cp37-cp37m-manylinux1_x86_64.whl (1.9 MB)\n",
            "\u001b[K     |████████████████████████████████| 1.9 MB 5.1 MB/s \n",
            "\u001b[?25hRequirement already satisfied: typing-extensions in /usr/local/lib/python3.7/dist-packages (from torch==1.9.0) (3.7.4.3)\n",
            "Requirement already satisfied: numpy in /usr/local/lib/python3.7/dist-packages (from torchvision) (1.19.5)\n",
            "Requirement already satisfied: pillow>=5.3.0 in /usr/local/lib/python3.7/dist-packages (from torchvision) (7.1.2)\n",
            "  Downloading torchaudio-0.9.0-cp37-cp37m-manylinux1_x86_64.whl (1.9 MB)\n",
            "\u001b[K     |████████████████████████████████| 1.9 MB 32.0 MB/s \n",
            "\u001b[?25hInstalling collected packages: torchaudio\n",
            "Successfully installed torchaudio-0.9.0\n"
          ]
        }
      ]
    },
    {
      "cell_type": "code",
      "metadata": {
        "id": "Y8ZJih4i8B9f"
      },
      "source": [
        "import torch"
      ],
      "execution_count": 2,
      "outputs": []
    },
    {
      "cell_type": "markdown",
      "metadata": {
        "id": "dRwUoqDE8Tnv"
      },
      "source": [
        "## 0. [Broadcasting](https://pytorch.org/docs/stable/notes/broadcasting.html#broadcasting-semantics)"
      ]
    },
    {
      "cell_type": "code",
      "metadata": {
        "colab": {
          "base_uri": "https://localhost:8080/"
        },
        "id": "-8qvTWTF8E4J",
        "outputId": "bbbd5aa7-714e-40e1-df2f-a56e303f4e71"
      },
      "source": [
        "# broadcasting\n",
        "a = torch.FloatTensor([[1, 2, 3], [4, 5, 6]])\n",
        "\n",
        "print((a+10).size())\n",
        "print(torch.add(a, 10).size())\n",
        "print(a+10)"
      ],
      "execution_count": 3,
      "outputs": [
        {
          "output_type": "stream",
          "name": "stdout",
          "text": [
            "torch.Size([2, 3])\n",
            "torch.Size([2, 3])\n",
            "tensor([[11., 12., 13.],\n",
            "        [14., 15., 16.]])\n"
          ]
        }
      ]
    },
    {
      "cell_type": "code",
      "metadata": {
        "colab": {
          "base_uri": "https://localhost:8080/"
        },
        "id": "Xv_lApPF8ZIB",
        "outputId": "ef8c945f-8867-4bf4-e9de-eaca35298eaf"
      },
      "source": [
        "x = torch.FloatTensor(5,1,4,1)\n",
        "y = torch.FloatTensor(  3,1,1)\n",
        "print((x+y).size())\n",
        "print((x-y).size())\n",
        "print((x.matmul(y)).size())"
      ],
      "execution_count": 4,
      "outputs": [
        {
          "output_type": "stream",
          "name": "stdout",
          "text": [
            "torch.Size([5, 3, 4, 1])\n",
            "torch.Size([5, 3, 4, 1])\n",
            "torch.Size([5, 3, 4, 1])\n"
          ]
        }
      ]
    },
    {
      "cell_type": "code",
      "metadata": {
        "colab": {
          "base_uri": "https://localhost:8080/"
        },
        "id": "syMQoJkU8aPj",
        "outputId": "38f2bd4e-5072-4433-ffbf-df0c2af960f8"
      },
      "source": [
        "# -- broadcasting  1 -- #\n",
        "# [5, 3, 2, 3] x [3, 4] = [5, 3, 2, 4]\n",
        "a = torch.randn(5, 3, 2, 3)\n",
        "b = torch.randn(3, 4)\n",
        "\n",
        "res1 = torch.matmul(a, b)\n",
        "res2 = a@b\n",
        "\n",
        "print(res1.size(), res2.size())\n",
        "\n",
        "# -- broadcasting  2 -- #\n",
        "a = torch.randn(10, 3, 4)\n",
        "b = torch.randn(4)\n",
        "print(torch.matmul(a, b).size())\n",
        "print((a@b).size())"
      ],
      "execution_count": 5,
      "outputs": [
        {
          "output_type": "stream",
          "name": "stdout",
          "text": [
            "torch.Size([5, 3, 2, 4]) torch.Size([5, 3, 2, 4])\n",
            "torch.Size([10, 3])\n",
            "torch.Size([10, 3])\n"
          ]
        }
      ]
    },
    {
      "cell_type": "code",
      "metadata": {
        "colab": {
          "base_uri": "https://localhost:8080/",
          "height": 241
        },
        "id": "6a7EtCWf8cQC",
        "outputId": "303984fd-81bf-430a-d470-8325b9eadafc"
      },
      "source": [
        "x = torch.ones(1,3,1)\n",
        "y = torch.ones(3,1,7)\n",
        "\n",
        "res = x.add_(y)\n",
        "print(res.size())\n",
        "print(res)"
      ],
      "execution_count": 6,
      "outputs": [
        {
          "output_type": "error",
          "ename": "RuntimeError",
          "evalue": "ignored",
          "traceback": [
            "\u001b[0;31m---------------------------------------------------------------------------\u001b[0m",
            "\u001b[0;31mRuntimeError\u001b[0m                              Traceback (most recent call last)",
            "\u001b[0;32m<ipython-input-6-7a7444be8ab9>\u001b[0m in \u001b[0;36m<module>\u001b[0;34m()\u001b[0m\n\u001b[1;32m      2\u001b[0m \u001b[0my\u001b[0m \u001b[0;34m=\u001b[0m \u001b[0mtorch\u001b[0m\u001b[0;34m.\u001b[0m\u001b[0mones\u001b[0m\u001b[0;34m(\u001b[0m\u001b[0;36m3\u001b[0m\u001b[0;34m,\u001b[0m\u001b[0;36m1\u001b[0m\u001b[0;34m,\u001b[0m\u001b[0;36m7\u001b[0m\u001b[0;34m)\u001b[0m\u001b[0;34m\u001b[0m\u001b[0;34m\u001b[0m\u001b[0m\n\u001b[1;32m      3\u001b[0m \u001b[0;34m\u001b[0m\u001b[0m\n\u001b[0;32m----> 4\u001b[0;31m \u001b[0mres\u001b[0m \u001b[0;34m=\u001b[0m \u001b[0mx\u001b[0m\u001b[0;34m.\u001b[0m\u001b[0madd_\u001b[0m\u001b[0;34m(\u001b[0m\u001b[0my\u001b[0m\u001b[0;34m)\u001b[0m\u001b[0;34m\u001b[0m\u001b[0;34m\u001b[0m\u001b[0m\n\u001b[0m\u001b[1;32m      5\u001b[0m \u001b[0mprint\u001b[0m\u001b[0;34m(\u001b[0m\u001b[0mres\u001b[0m\u001b[0;34m.\u001b[0m\u001b[0msize\u001b[0m\u001b[0;34m(\u001b[0m\u001b[0;34m)\u001b[0m\u001b[0;34m)\u001b[0m\u001b[0;34m\u001b[0m\u001b[0;34m\u001b[0m\u001b[0m\n\u001b[1;32m      6\u001b[0m \u001b[0mprint\u001b[0m\u001b[0;34m(\u001b[0m\u001b[0mres\u001b[0m\u001b[0;34m)\u001b[0m\u001b[0;34m\u001b[0m\u001b[0;34m\u001b[0m\u001b[0m\n",
            "\u001b[0;31mRuntimeError\u001b[0m: output with shape [1, 3, 1] doesn't match the broadcast shape [3, 3, 7]"
          ]
        }
      ]
    },
    {
      "cell_type": "markdown",
      "metadata": {
        "id": "h3PCPsRC8g7a"
      },
      "source": [
        "## 1. [torch.mm](https://pytorch.org/docs/stable/generated/torch.mm.html)"
      ]
    },
    {
      "cell_type": "code",
      "metadata": {
        "colab": {
          "base_uri": "https://localhost:8080/"
        },
        "id": "bebiVNI38fPf",
        "outputId": "70444605-77b8-413e-cd34-946f09016e33"
      },
      "source": [
        "a = torch.randn(2, 3)\n",
        "b = torch.randn(3, 4)\n",
        "print(torch.mm(a, b).size()) #[2, 3] x [3, 4]= [2, 4]\n",
        "print(torch.mm(a,b))"
      ],
      "execution_count": 7,
      "outputs": [
        {
          "output_type": "stream",
          "name": "stdout",
          "text": [
            "torch.Size([2, 4])\n",
            "tensor([[-0.6884,  1.1831,  0.5899, -2.2066],\n",
            "        [ 0.0039,  0.3859,  1.1798, -2.2313]])\n"
          ]
        }
      ]
    },
    {
      "cell_type": "markdown",
      "metadata": {
        "id": "dboR-Ln18lrs"
      },
      "source": [
        "## 2. [torch.bmm](https://pytorch.org/docs/stable/generated/torch.bmm.html)"
      ]
    },
    {
      "cell_type": "code",
      "metadata": {
        "colab": {
          "base_uri": "https://localhost:8080/"
        },
        "id": "eme-kQGg8mxT",
        "outputId": "3174f6c7-b1a1-4bae-9163-845afcc4a081"
      },
      "source": [
        "a = torch.randn(10, 2, 3)\n",
        "print(a[1])\n",
        "b = torch.randn(10, 3, 4)\n",
        "print(b[1])\n",
        "print(torch.bmm(a, b).size())\n",
        "print(torch.bmm(a, b))"
      ],
      "execution_count": 8,
      "outputs": [
        {
          "output_type": "stream",
          "name": "stdout",
          "text": [
            "tensor([[ 0.4446,  2.4250,  0.4816],\n",
            "        [-1.1471, -0.5561,  1.3311]])\n",
            "tensor([[-0.3633,  1.8805, -1.4860, -1.6845],\n",
            "        [ 0.1643,  0.1679,  0.8737, -0.0781],\n",
            "        [-0.5128, -0.4658,  1.2077,  0.5905]])\n",
            "torch.Size([10, 2, 4])\n",
            "tensor([[[-2.7399, -0.5463,  0.8225,  1.7603],\n",
            "         [ 0.3067,  0.6802, -0.8302,  0.3505]],\n",
            "\n",
            "        [[-0.0100,  1.0188,  2.0397, -0.6541],\n",
            "         [-0.3571, -2.8706,  2.8263,  2.7617]],\n",
            "\n",
            "        [[ 0.1871, -0.4606,  0.5230,  0.2022],\n",
            "         [-0.9508,  1.7865, -4.5657, -0.2833]],\n",
            "\n",
            "        [[ 0.8718,  0.2276, -1.2175, -0.1586],\n",
            "         [ 1.0783,  1.5058, -0.4938,  0.1298]],\n",
            "\n",
            "        [[ 0.4812,  1.4944, -0.2412, -2.0278],\n",
            "         [ 1.8604,  2.2196, -2.3966, -1.1427]],\n",
            "\n",
            "        [[-1.4118,  0.8808,  0.9876,  1.1626],\n",
            "         [ 3.0262,  0.4430,  1.5026,  1.5227]],\n",
            "\n",
            "        [[-1.0533,  1.1621, -9.5032,  3.7385],\n",
            "         [-1.2748, -0.4816,  0.6658, -1.4935]],\n",
            "\n",
            "        [[ 2.3864, -0.3735,  0.1454, -0.6233],\n",
            "         [ 3.1805, -0.2990,  0.3230, -0.6915]],\n",
            "\n",
            "        [[-0.5729,  2.4841,  2.6565, -0.3257],\n",
            "         [ 0.8171, -2.8595, -1.3623,  1.6869]],\n",
            "\n",
            "        [[-0.6361,  1.1147, -0.0561,  0.6365],\n",
            "         [ 2.4536, -2.3393, -0.3453,  0.0513]]])\n"
          ]
        }
      ]
    },
    {
      "cell_type": "markdown",
      "metadata": {
        "id": "mEkWsefu89zw"
      },
      "source": [
        "## 3. [torch.matmul](https://pytorch.org/docs/stable/generated/torch.matmul.html)\n",
        "\n",
        "[1] vector x vector (두 tensor 모두 1-dim)\n",
        "\n",
        "[2] matrix x matrix (두 tensor 모두 2-dim)\n",
        "\n",
        "[3] 첫번째 tensor 1-dim, 두번째 tensor 2-dim\n",
        "\n",
        "[4] 첫번째 tensor 2-dim, 두번째 tensor 1-dim"
      ]
    },
    {
      "cell_type": "code",
      "metadata": {
        "colab": {
          "base_uri": "https://localhost:8080/"
        },
        "id": "KX1pV_Oa9CQW",
        "outputId": "6160d08e-6854-4eda-8de3-dd2ede3e7cfe"
      },
      "source": [
        "# -- 1 -- #\n",
        "a = torch.randn(5)\n",
        "print(a)\n",
        "b = torch.randn(5)\n",
        "print(b)\n",
        "print(torch.matmul(a, b).size())\n",
        "print(torch.matmul(a, b))"
      ],
      "execution_count": 9,
      "outputs": [
        {
          "output_type": "stream",
          "name": "stdout",
          "text": [
            "tensor([ 0.1115, -0.8215, -0.7674,  0.7654, -1.3451])\n",
            "tensor([ 0.6591,  1.3273,  0.9079,  0.2446, -0.8851])\n",
            "torch.Size([])\n",
            "tensor(-0.3359)\n"
          ]
        }
      ]
    },
    {
      "cell_type": "code",
      "metadata": {
        "colab": {
          "base_uri": "https://localhost:8080/"
        },
        "id": "zTfnmH1v99ff",
        "outputId": "3532bda1-4ae9-4cdf-e026-1fea22cd104c"
      },
      "source": [
        "# -- 2 -- #\n",
        "a = torch.randn(3, 4)\n",
        "print(a)\n",
        "b = torch.randn(4, 5)\n",
        "print(b)\n",
        "print(torch.matmul(a, b).size())\n",
        "print(torch.matmul(a, b))"
      ],
      "execution_count": 10,
      "outputs": [
        {
          "output_type": "stream",
          "name": "stdout",
          "text": [
            "tensor([[ 1.5073,  0.7732, -1.3870,  0.2983],\n",
            "        [ 0.0255,  0.9407,  0.7949,  0.1127],\n",
            "        [ 1.5484,  0.8303, -0.0338, -2.2111]])\n",
            "tensor([[ 0.6110, -2.5979, -0.8997,  1.1737, -0.0162],\n",
            "        [ 0.7907, -0.6883,  0.7996,  0.5632,  1.4080],\n",
            "        [-0.6778,  0.8665, -0.6154,  1.0911, -0.9106],\n",
            "        [-1.4821, -0.0833,  0.3001,  0.3882,  0.6611]])\n",
            "torch.Size([3, 5])\n",
            "tensor([[ 2.0303, -5.6748,  0.2051,  0.8070,  2.5245],\n",
            "        [ 0.0536, -0.0344,  0.2739,  1.4708,  0.6748],\n",
            "        [ 4.9026, -4.4394, -1.3721,  1.3897, -0.2869]])\n"
          ]
        }
      ]
    },
    {
      "cell_type": "code",
      "metadata": {
        "colab": {
          "base_uri": "https://localhost:8080/"
        },
        "id": "whGXl6Q8-K9T",
        "outputId": "c7b8760d-6e75-46fc-c046-7afa616c608c"
      },
      "source": [
        "# -- 3 -- #\n",
        "a = torch.randn(3) # [3] -> [(1), 3]\n",
        "print(a)\n",
        "b = torch.randn(3, 4)\n",
        "print(b)\n",
        "print('\\n\\nresult : ', torch.matmul(a, b))\n",
        "print(torch.matmul(a, b).size()) # [1, 3] x [3, 4] = [1, 4] => [4]\n",
        "\n"
      ],
      "execution_count": 11,
      "outputs": [
        {
          "output_type": "stream",
          "name": "stdout",
          "text": [
            "tensor([-1.9429, -1.1799,  0.8365])\n",
            "tensor([[-0.0629, -0.9833, -2.3997, -0.6287],\n",
            "        [-0.5534, -1.7407, -0.1623,  1.3599],\n",
            "        [ 0.6748,  2.1346,  1.6902,  1.5193]])\n",
            "\n",
            "\n",
            "result :  tensor([1.3397, 5.7497, 6.2675, 0.8878])\n",
            "torch.Size([4])\n"
          ]
        }
      ]
    },
    {
      "cell_type": "code",
      "metadata": {
        "colab": {
          "base_uri": "https://localhost:8080/"
        },
        "id": "X8XBvkBL-MJy",
        "outputId": "316e3d68-af56-41f7-b03d-0b9c19291247"
      },
      "source": [
        "# -- 4 -- #\n",
        "a = torch.randn(3, 4)\n",
        "print(a)\n",
        "b = torch.randn(4)\n",
        "print(b)\n",
        "print('\\n\\nresult : ', torch.matmul(a, b))\n",
        "print(torch.matmul(a, b).size()) # [3, 4] x [4] = [3, 1]"
      ],
      "execution_count": 12,
      "outputs": [
        {
          "output_type": "stream",
          "name": "stdout",
          "text": [
            "tensor([[-0.0586, -0.1232,  1.0634, -0.5204],\n",
            "        [ 1.9617, -0.8000,  0.0999,  0.7756],\n",
            "        [-0.9439, -1.2233,  1.3684,  0.0046]])\n",
            "tensor([ 0.3190,  0.0286, -1.2052, -0.3299])\n",
            "\n",
            "\n",
            "result :  tensor([-1.1322,  0.2268, -1.9869])\n",
            "torch.Size([3])\n"
          ]
        }
      ]
    },
    {
      "cell_type": "markdown",
      "metadata": {
        "id": "8KZFffyX-rPh"
      },
      "source": [
        "[5] batched matrix multiply (두 tensor 모두 1-dim 이상, 하나의 tensor N-dim)\n",
        "\n",
        "- batched matrix x broadcasted vector\n",
        "\n",
        "- batched matrix x batched matrix \n",
        "\n",
        "- batched matrix x broadcasted matrix"
      ]
    },
    {
      "cell_type": "code",
      "metadata": {
        "colab": {
          "base_uri": "https://localhost:8080/"
        },
        "id": "qlZFMQRT-r77",
        "outputId": "4716937c-2d54-4cda-8b5d-d4af49a3400d"
      },
      "source": [
        "batch_size = 10\n",
        "\n",
        "# -- batched matrix x broadcasted vector -- #\n",
        "a = torch.randn(batch_size, 3, 4)\n",
        "print(a[0])\n",
        "b = torch.randn(4)\n",
        "print(b)\n",
        "print(torch.matmul(a, b).size())\n",
        "print(torch.matmul(a, b))\n",
        "\n"
      ],
      "execution_count": 13,
      "outputs": [
        {
          "output_type": "stream",
          "name": "stdout",
          "text": [
            "tensor([[ 0.6898,  0.8835, -0.5664, -0.5129],\n",
            "        [ 1.6732, -2.3487,  0.4547,  0.7303],\n",
            "        [-0.0751, -0.1284,  0.1434, -1.6282]])\n",
            "tensor([ 1.1904,  0.0303, -0.2320,  0.7071])\n",
            "torch.Size([10, 3])\n",
            "tensor([[ 0.6166,  2.3315, -1.2778],\n",
            "        [-0.8101, -0.0396, -0.9244],\n",
            "        [ 0.0850,  0.9861, -1.3184],\n",
            "        [ 0.0261, -0.7287,  1.3359],\n",
            "        [ 1.5719, -0.3294, -0.0318],\n",
            "        [-0.2048,  2.5461, -1.4905],\n",
            "        [-0.6434,  2.1012, -0.1017],\n",
            "        [-0.4508,  0.6856,  0.6877],\n",
            "        [ 1.4790, -2.2307, -0.6888],\n",
            "        [-2.4789,  0.5605,  3.2967]])\n"
          ]
        }
      ]
    },
    {
      "cell_type": "code",
      "metadata": {
        "colab": {
          "base_uri": "https://localhost:8080/"
        },
        "id": "jFa2x0e0-3zi",
        "outputId": "0bf2ba09-5dec-4069-ad39-553710c54a20"
      },
      "source": [
        "# -- batched matrix x batched matrix -- #\n",
        "a = torch.randn(batch_size, 3, 4)\n",
        "b = torch.randn(batch_size, 4, 5)\n",
        "print(torch.matmul(a, b).size())\n",
        "\n",
        "# -- batched matrix x broadcasted matrix -- #\n",
        "a = torch.randn(batch_size, 3, 4) # [10, 3, 4]\n",
        "b = torch.randn(4, 5) # [(1), 4, 5]\n",
        "print(torch.matmul(a, b).size()) "
      ],
      "execution_count": 14,
      "outputs": [
        {
          "output_type": "stream",
          "name": "stdout",
          "text": [
            "torch.Size([10, 3, 5])\n",
            "torch.Size([10, 3, 5])\n"
          ]
        }
      ]
    },
    {
      "cell_type": "markdown",
      "metadata": {
        "id": "eZYZe5Ml_UYM"
      },
      "source": [
        "\n",
        "\n",
        "```\n",
        "# 코드로 형식 지정됨\n",
        "```\n",
        "\n",
        "## 4. @ operator"
      ]
    },
    {
      "cell_type": "code",
      "metadata": {
        "colab": {
          "base_uri": "https://localhost:8080/"
        },
        "id": "P50tl4Jg_VIj",
        "outputId": "f62764e6-258a-4bb0-c9c7-509a58c5a0a7"
      },
      "source": [
        "# [2, 3] x [3, 2] = [2, 2]\n",
        "a = torch.tensor([[1, 2, 3], [4, 5, 6]]) # [2, 3]\n",
        "b = torch.tensor([[2, 2], [2, 2], [2, 2]]) # [3, 2]\n",
        "\n",
        "res1 = torch.matmul(a, b)\n",
        "res2 = a@b\n",
        "\n",
        "print(res1.size(), res2.size())\n",
        "print('res1 : ', res1)\n",
        "print('res2 : ', res2)\n",
        "\n",
        "# [2, 3] x [3, 2] x [2, 1] = [2, 1]\n",
        "a = torch.tensor([[1, 2, 3], [4, 5, 6]]) # [2, 3]\n",
        "b = torch.tensor([[2, 2], [2, 2], [2, 2]]) # [3, 2]\n",
        "c = torch.tensor([[3], [3]]) # [2, 1]\n",
        "\n",
        "res1 = torch.matmul(torch.matmul(a, b), c) # (a @ b) @ c\n",
        "res2 = a@b@c\n",
        "\n",
        "print(res1.size(), res2.size())\n",
        "print('res1 : ', res1)\n",
        "print('res2 : ', res2)"
      ],
      "execution_count": 15,
      "outputs": [
        {
          "output_type": "stream",
          "name": "stdout",
          "text": [
            "torch.Size([2, 2]) torch.Size([2, 2])\n",
            "res1 :  tensor([[12, 12],\n",
            "        [30, 30]])\n",
            "res2 :  tensor([[12, 12],\n",
            "        [30, 30]])\n",
            "torch.Size([2, 1]) torch.Size([2, 1])\n",
            "res1 :  tensor([[ 72],\n",
            "        [180]])\n",
            "res2 :  tensor([[ 72],\n",
            "        [180]])\n"
          ]
        }
      ]
    },
    {
      "cell_type": "code",
      "metadata": {
        "colab": {
          "base_uri": "https://localhost:8080/"
        },
        "id": "-PUbe13a_pEq",
        "outputId": "a0ba3a29-6da0-45cb-9dc9-60b739ac7563"
      },
      "source": [
        "a = torch.randn(10, 1, 2, 3)\n",
        "b = torch.randn(5, 3, 2) # -> [10,5,3,2]\n",
        "print(torch.matmul(a, b).size())  # (2,3) * (3,2) => (2,2)"
      ],
      "execution_count": 16,
      "outputs": [
        {
          "output_type": "stream",
          "name": "stdout",
          "text": [
            "torch.Size([10, 5, 2, 2])\n"
          ]
        }
      ]
    },
    {
      "cell_type": "code",
      "metadata": {
        "colab": {
          "base_uri": "https://localhost:8080/"
        },
        "id": "GkTaQzzR_yNg",
        "outputId": "81d45b0f-501f-451a-e80f-58b69166d830"
      },
      "source": [
        "a = torch.randn(10, 2, 3, 4)\n",
        "b = torch.randn(1, 4, 3)  # -> (10, 2, 4, 3)\n",
        "print(torch.matmul(a, b).size())  #(3,4) * (4,3) ->(3,3)"
      ],
      "execution_count": 17,
      "outputs": [
        {
          "output_type": "stream",
          "name": "stdout",
          "text": [
            "torch.Size([10, 2, 3, 3])\n"
          ]
        }
      ]
    },
    {
      "cell_type": "code",
      "metadata": {
        "colab": {
          "base_uri": "https://localhost:8080/"
        },
        "id": "vH4zFiWUHiO-",
        "outputId": "45440227-78a3-46b8-8261-1cd8963aa555"
      },
      "source": [
        "a = torch.randn(10, 5, 2, 3)\n",
        "b = torch.randn(5, 3, 2)\n",
        "print(torch.matmul(a, b).size())"
      ],
      "execution_count": 18,
      "outputs": [
        {
          "output_type": "stream",
          "name": "stdout",
          "text": [
            "torch.Size([10, 5, 2, 2])\n"
          ]
        }
      ]
    },
    {
      "cell_type": "code",
      "metadata": {
        "colab": {
          "base_uri": "https://localhost:8080/"
        },
        "id": "lFxM0kyVHqIH",
        "outputId": "92bbe851-7558-42c9-f0d2-160a8c3f715b"
      },
      "source": [
        "a = torch.randn(10, 2, 3, 4)\n",
        "b = torch.randn(4)\n",
        "print(torch.matmul(a, b).size())"
      ],
      "execution_count": 19,
      "outputs": [
        {
          "output_type": "stream",
          "name": "stdout",
          "text": [
            "torch.Size([10, 2, 3])\n"
          ]
        }
      ]
    },
    {
      "cell_type": "code",
      "metadata": {
        "colab": {
          "base_uri": "https://localhost:8080/"
        },
        "id": "wXCQiviZHsL_",
        "outputId": "892b8f73-2232-4af6-dc65-6a1964116bc2"
      },
      "source": [
        "a = torch.randn(10, 2, 1, 4, 5) # -> [10,2,5,4,5]\n",
        "b = torch.randn(5, 5, 4) # ->[10,2,5,5,4]\n",
        "print(torch.matmul(a, b).size())"
      ],
      "execution_count": 20,
      "outputs": [
        {
          "output_type": "stream",
          "name": "stdout",
          "text": [
            "torch.Size([10, 2, 5, 4, 4])\n"
          ]
        }
      ]
    },
    {
      "cell_type": "markdown",
      "metadata": {
        "id": "u-T9-qeGIqjy"
      },
      "source": [
        "- 실습 과제 "
      ]
    },
    {
      "cell_type": "code",
      "metadata": {
        "colab": {
          "base_uri": "https://localhost:8080/"
        },
        "id": "pkrk-8U6Ip6f",
        "outputId": "f9eb930b-583d-4a8c-f45b-2ff17234602c"
      },
      "source": [
        "# 과제1) [a,1,b,b] x [c,b,b] = [a,c, b,b]\n",
        "\n",
        "A = torch.randn(3,1,2,2)\n",
        "B = torch.randn(5,2,2)\n",
        "print(torch.matmul(A,B).size())"
      ],
      "execution_count": 22,
      "outputs": [
        {
          "output_type": "stream",
          "name": "stdout",
          "text": [
            "torch.Size([3, 5, 2, 2])\n"
          ]
        }
      ]
    },
    {
      "cell_type": "code",
      "metadata": {
        "colab": {
          "base_uri": "https://localhost:8080/"
        },
        "id": "SXHPRceKJN1-",
        "outputId": "8942b03e-4337-42d4-e923-c68c6ad2c8a9"
      },
      "source": [
        "# 과제2) [a,1,b,c] x [d,c,b] = [a,d, b,b]\n",
        "\n",
        "A = torch.randn(3,1,2,3)\n",
        "B = torch.randn(5,3,2)\n",
        "print(torch.matmul(A,B).size())"
      ],
      "execution_count": 23,
      "outputs": [
        {
          "output_type": "stream",
          "name": "stdout",
          "text": [
            "torch.Size([3, 5, 2, 2])\n"
          ]
        }
      ]
    },
    {
      "cell_type": "code",
      "metadata": {
        "colab": {
          "base_uri": "https://localhost:8080/",
          "height": 206
        },
        "id": "fvOmMWw8J0GO",
        "outputId": "b9553f92-44b1-4ab8-8351-31053cfe13eb"
      },
      "source": [
        "# 과제3) [a,e,b,c] x [d,c,b] = ERROR  # e != 1인경우\n",
        "\n",
        "A = torch.randn(3,2,2,3)\n",
        "B = torch.randn(5,3,2)\n",
        "print(torch.matmul(A,B).size())"
      ],
      "execution_count": 24,
      "outputs": [
        {
          "output_type": "error",
          "ename": "RuntimeError",
          "evalue": "ignored",
          "traceback": [
            "\u001b[0;31m---------------------------------------------------------------------------\u001b[0m",
            "\u001b[0;31mRuntimeError\u001b[0m                              Traceback (most recent call last)",
            "\u001b[0;32m<ipython-input-24-64a108358856>\u001b[0m in \u001b[0;36m<module>\u001b[0;34m()\u001b[0m\n\u001b[1;32m      3\u001b[0m \u001b[0mA\u001b[0m \u001b[0;34m=\u001b[0m \u001b[0mtorch\u001b[0m\u001b[0;34m.\u001b[0m\u001b[0mrandn\u001b[0m\u001b[0;34m(\u001b[0m\u001b[0;36m3\u001b[0m\u001b[0;34m,\u001b[0m\u001b[0;36m2\u001b[0m\u001b[0;34m,\u001b[0m\u001b[0;36m2\u001b[0m\u001b[0;34m,\u001b[0m\u001b[0;36m3\u001b[0m\u001b[0;34m)\u001b[0m\u001b[0;34m\u001b[0m\u001b[0;34m\u001b[0m\u001b[0m\n\u001b[1;32m      4\u001b[0m \u001b[0mB\u001b[0m \u001b[0;34m=\u001b[0m \u001b[0mtorch\u001b[0m\u001b[0;34m.\u001b[0m\u001b[0mrandn\u001b[0m\u001b[0;34m(\u001b[0m\u001b[0;36m5\u001b[0m\u001b[0;34m,\u001b[0m\u001b[0;36m3\u001b[0m\u001b[0;34m,\u001b[0m\u001b[0;36m2\u001b[0m\u001b[0;34m)\u001b[0m\u001b[0;34m\u001b[0m\u001b[0;34m\u001b[0m\u001b[0m\n\u001b[0;32m----> 5\u001b[0;31m \u001b[0mprint\u001b[0m\u001b[0;34m(\u001b[0m\u001b[0mtorch\u001b[0m\u001b[0;34m.\u001b[0m\u001b[0mmatmul\u001b[0m\u001b[0;34m(\u001b[0m\u001b[0mA\u001b[0m\u001b[0;34m,\u001b[0m\u001b[0mB\u001b[0m\u001b[0;34m)\u001b[0m\u001b[0;34m.\u001b[0m\u001b[0msize\u001b[0m\u001b[0;34m(\u001b[0m\u001b[0;34m)\u001b[0m\u001b[0;34m)\u001b[0m\u001b[0;34m\u001b[0m\u001b[0;34m\u001b[0m\u001b[0m\n\u001b[0m",
            "\u001b[0;31mRuntimeError\u001b[0m: The size of tensor a (2) must match the size of tensor b (5) at non-singleton dimension 1"
          ]
        }
      ]
    },
    {
      "cell_type": "markdown",
      "metadata": {
        "id": "JSINSNTgKDJa"
      },
      "source": [
        "과제 3의 경우 브로드 캐스팅 조건을 만족하지 못했다.  \n",
        "B의경우 A와 같은 차원을 만들어주기 위해 앞의 차원이 하나 더 늘어나게된다.  \n",
        "이후 A, B 두번째 인덱스 값은 각각 2와 3으로 둘중하나가 1이 되어야 한다는 조건을 만족하지 못하게 된다.  \n",
        "그래서 에러가 뜨게된다.\n"
      ]
    },
    {
      "cell_type": "code",
      "metadata": {
        "colab": {
          "base_uri": "https://localhost:8080/"
        },
        "id": "3BFqaEqEKCAf",
        "outputId": "7520da76-7fa2-4ee8-d0ae-f211e152b1b7"
      },
      "source": [
        "# 과제4) [a,b,1,c,d] x [e,d,f] = [a,b,e, c,f]\n",
        "\n",
        "A = torch.randn(3,2,1,4,5)\n",
        "B = torch.randn(6,5,8)\n",
        "print(torch.matmul(A,B).size())"
      ],
      "execution_count": 25,
      "outputs": [
        {
          "output_type": "stream",
          "name": "stdout",
          "text": [
            "torch.Size([3, 2, 6, 4, 8])\n"
          ]
        }
      ]
    },
    {
      "cell_type": "code",
      "metadata": {
        "colab": {
          "base_uri": "https://localhost:8080/"
        },
        "id": "CqIRZcJGLc8v",
        "outputId": "aa742c0a-2120-47bf-ef40-282d22110cb9"
      },
      "source": [
        "# 과제5) [a,1,b,c,d] x [e,b,d,f] = [a,e,b,c,f]\n",
        "\n",
        "A = torch.randn(3,1,2,4,5)\n",
        "B = torch.randn(6,2,5,8)\n",
        "print(torch.matmul(A,B).size())"
      ],
      "execution_count": 26,
      "outputs": [
        {
          "output_type": "stream",
          "name": "stdout",
          "text": [
            "torch.Size([3, 6, 2, 4, 8])\n"
          ]
        }
      ]
    },
    {
      "cell_type": "code",
      "metadata": {
        "colab": {
          "base_uri": "https://localhost:8080/",
          "height": 206
        },
        "id": "tTTs9vapL8gZ",
        "outputId": "285e049d-02be-46ae-ad82-24c9599f5bae"
      },
      "source": [
        "# 과제6) [a,b,c,d,e,f] x [b,c,f,g] = ERROR\n",
        "\n",
        "A = torch.randn(3,4,5,6,7,8)\n",
        "B = torch.randn(4,5,8,9)\n",
        "print(torch.matmul(A,B).size())"
      ],
      "execution_count": 27,
      "outputs": [
        {
          "output_type": "error",
          "ename": "RuntimeError",
          "evalue": "ignored",
          "traceback": [
            "\u001b[0;31m---------------------------------------------------------------------------\u001b[0m",
            "\u001b[0;31mRuntimeError\u001b[0m                              Traceback (most recent call last)",
            "\u001b[0;32m<ipython-input-27-4fa82e9a3dbd>\u001b[0m in \u001b[0;36m<module>\u001b[0;34m()\u001b[0m\n\u001b[1;32m      3\u001b[0m \u001b[0mA\u001b[0m \u001b[0;34m=\u001b[0m \u001b[0mtorch\u001b[0m\u001b[0;34m.\u001b[0m\u001b[0mrandn\u001b[0m\u001b[0;34m(\u001b[0m\u001b[0;36m3\u001b[0m\u001b[0;34m,\u001b[0m\u001b[0;36m4\u001b[0m\u001b[0;34m,\u001b[0m\u001b[0;36m5\u001b[0m\u001b[0;34m,\u001b[0m\u001b[0;36m6\u001b[0m\u001b[0;34m,\u001b[0m\u001b[0;36m7\u001b[0m\u001b[0;34m,\u001b[0m\u001b[0;36m8\u001b[0m\u001b[0;34m)\u001b[0m\u001b[0;34m\u001b[0m\u001b[0;34m\u001b[0m\u001b[0m\n\u001b[1;32m      4\u001b[0m \u001b[0mB\u001b[0m \u001b[0;34m=\u001b[0m \u001b[0mtorch\u001b[0m\u001b[0;34m.\u001b[0m\u001b[0mrandn\u001b[0m\u001b[0;34m(\u001b[0m\u001b[0;36m4\u001b[0m\u001b[0;34m,\u001b[0m\u001b[0;36m5\u001b[0m\u001b[0;34m,\u001b[0m\u001b[0;36m8\u001b[0m\u001b[0;34m,\u001b[0m\u001b[0;36m9\u001b[0m\u001b[0;34m)\u001b[0m\u001b[0;34m\u001b[0m\u001b[0;34m\u001b[0m\u001b[0m\n\u001b[0;32m----> 5\u001b[0;31m \u001b[0mprint\u001b[0m\u001b[0;34m(\u001b[0m\u001b[0mtorch\u001b[0m\u001b[0;34m.\u001b[0m\u001b[0mmatmul\u001b[0m\u001b[0;34m(\u001b[0m\u001b[0mA\u001b[0m\u001b[0;34m,\u001b[0m\u001b[0mB\u001b[0m\u001b[0;34m)\u001b[0m\u001b[0;34m.\u001b[0m\u001b[0msize\u001b[0m\u001b[0;34m(\u001b[0m\u001b[0;34m)\u001b[0m\u001b[0;34m)\u001b[0m\u001b[0;34m\u001b[0m\u001b[0;34m\u001b[0m\u001b[0m\n\u001b[0m",
            "\u001b[0;31mRuntimeError\u001b[0m: The size of tensor a (6) must match the size of tensor b (5) at non-singleton dimension 3"
          ]
        }
      ]
    },
    {
      "cell_type": "markdown",
      "metadata": {
        "id": "im1j24mMMZVa"
      },
      "source": [
        "과제6의 경우 브로드 캐스팅 조건을 만족하지 못했다.  \n",
        "둘중하나가 1이 되어야 한다는 조건을 위배로 에러 발생"
      ]
    },
    {
      "cell_type": "code",
      "metadata": {
        "colab": {
          "base_uri": "https://localhost:8080/"
        },
        "id": "whX1_2zCMreB",
        "outputId": "599e9f4e-3374-4ced-be97-c34b6e87646c"
      },
      "source": [
        "# 과제7) [a,b,c,d,e,f] x [1,c,d,f,a] = [a,b,c,d,e,a]\n",
        "\n",
        "A = torch.randn(3,4,5,6,2,7)\n",
        "B = torch.randn(1,5,6,7,3)\n",
        "print(torch.matmul(A,B).size())"
      ],
      "execution_count": 36,
      "outputs": [
        {
          "output_type": "stream",
          "name": "stdout",
          "text": [
            "torch.Size([3, 4, 5, 6, 2, 3])\n"
          ]
        }
      ]
    },
    {
      "cell_type": "code",
      "metadata": {
        "colab": {
          "base_uri": "https://localhost:8080/"
        },
        "id": "od_QAZ-LOs9c",
        "outputId": "ab37da9d-a849-4f84-910e-efaa10e7b2b1"
      },
      "source": [
        "# 과제8) [g,a,b,c,d,e,f] x [1,c,d,f,a] = [g,a,b,c,d,e,a]\n",
        "\n",
        "A = torch.randn(9,3,4,5,6,2,7)\n",
        "B = torch.randn(1,5,6,7,3)\n",
        "print(torch.matmul(A,B).size())"
      ],
      "execution_count": 40,
      "outputs": [
        {
          "output_type": "stream",
          "name": "stdout",
          "text": [
            "torch.Size([9, 3, 4, 5, 6, 2, 3])\n"
          ]
        }
      ]
    },
    {
      "cell_type": "code",
      "metadata": {
        "colab": {
          "base_uri": "https://localhost:8080/"
        },
        "id": "nCWPLQYVPnGh",
        "outputId": "72e6ae29-2f99-4a8c-92f4-cd56eabacd5f"
      },
      "source": [
        "# 과제9) [h,g,a,b,c,d,e,f] x [a,1,c,d,f,a] = [h,g,a,b,c,d,e,a]\n",
        "\n",
        "A = torch.randn(8,9,3,4,5,6,2,7)\n",
        "B = torch.randn(3,1,5,6,7,3)\n",
        "print(torch.matmul(A,B).size())"
      ],
      "execution_count": 42,
      "outputs": [
        {
          "output_type": "stream",
          "name": "stdout",
          "text": [
            "torch.Size([8, 9, 3, 4, 5, 6, 2, 3])\n"
          ]
        }
      ]
    },
    {
      "cell_type": "code",
      "metadata": {
        "colab": {
          "base_uri": "https://localhost:8080/",
          "height": 206
        },
        "id": "Fw9cqPUMQBAP",
        "outputId": "6e678bb1-1ae4-4962-ee69-b9a9ee871d2a"
      },
      "source": [
        "# 과제10) [h,g,a,b,c,d,e,f] x [a,c,c,d,f,a] = ERROR\n",
        "\n",
        "A = torch.randn(8,9,3,4,5,6,2,7)\n",
        "B = torch.randn(3,5,5,6,7,3)\n",
        "print(torch.matmul(A,B).size())"
      ],
      "execution_count": 57,
      "outputs": [
        {
          "output_type": "error",
          "ename": "RuntimeError",
          "evalue": "ignored",
          "traceback": [
            "\u001b[0;31m---------------------------------------------------------------------------\u001b[0m",
            "\u001b[0;31mRuntimeError\u001b[0m                              Traceback (most recent call last)",
            "\u001b[0;32m<ipython-input-57-bac8cf9d2829>\u001b[0m in \u001b[0;36m<module>\u001b[0;34m()\u001b[0m\n\u001b[1;32m      3\u001b[0m \u001b[0mA\u001b[0m \u001b[0;34m=\u001b[0m \u001b[0mtorch\u001b[0m\u001b[0;34m.\u001b[0m\u001b[0mrandn\u001b[0m\u001b[0;34m(\u001b[0m\u001b[0;36m8\u001b[0m\u001b[0;34m,\u001b[0m\u001b[0;36m9\u001b[0m\u001b[0;34m,\u001b[0m\u001b[0;36m3\u001b[0m\u001b[0;34m,\u001b[0m\u001b[0;36m4\u001b[0m\u001b[0;34m,\u001b[0m\u001b[0;36m5\u001b[0m\u001b[0;34m,\u001b[0m\u001b[0;36m6\u001b[0m\u001b[0;34m,\u001b[0m\u001b[0;36m2\u001b[0m\u001b[0;34m,\u001b[0m\u001b[0;36m7\u001b[0m\u001b[0;34m)\u001b[0m\u001b[0;34m\u001b[0m\u001b[0;34m\u001b[0m\u001b[0m\n\u001b[1;32m      4\u001b[0m \u001b[0mB\u001b[0m \u001b[0;34m=\u001b[0m \u001b[0mtorch\u001b[0m\u001b[0;34m.\u001b[0m\u001b[0mrandn\u001b[0m\u001b[0;34m(\u001b[0m\u001b[0;36m3\u001b[0m\u001b[0;34m,\u001b[0m\u001b[0;36m5\u001b[0m\u001b[0;34m,\u001b[0m\u001b[0;36m5\u001b[0m\u001b[0;34m,\u001b[0m\u001b[0;36m6\u001b[0m\u001b[0;34m,\u001b[0m\u001b[0;36m7\u001b[0m\u001b[0;34m,\u001b[0m\u001b[0;36m3\u001b[0m\u001b[0;34m)\u001b[0m\u001b[0;34m\u001b[0m\u001b[0;34m\u001b[0m\u001b[0m\n\u001b[0;32m----> 5\u001b[0;31m \u001b[0mprint\u001b[0m\u001b[0;34m(\u001b[0m\u001b[0mtorch\u001b[0m\u001b[0;34m.\u001b[0m\u001b[0mmatmul\u001b[0m\u001b[0;34m(\u001b[0m\u001b[0mA\u001b[0m\u001b[0;34m,\u001b[0m\u001b[0mB\u001b[0m\u001b[0;34m)\u001b[0m\u001b[0;34m.\u001b[0m\u001b[0msize\u001b[0m\u001b[0;34m(\u001b[0m\u001b[0;34m)\u001b[0m\u001b[0;34m)\u001b[0m\u001b[0;34m\u001b[0m\u001b[0;34m\u001b[0m\u001b[0m\n\u001b[0m",
            "\u001b[0;31mRuntimeError\u001b[0m: The size of tensor a (4) must match the size of tensor b (5) at non-singleton dimension 3"
          ]
        }
      ]
    },
    {
      "cell_type": "markdown",
      "metadata": {
        "id": "eI3oL9fTQJD7"
      },
      "source": [
        "두 텐서 간브로드캐스팅 조건\n",
        "- 각 tensor는 최소 1-dim 이상\n",
        "- dim zie가 같음\n",
        "- 둘 중 하나가 1\n",
        "- 둘 중 하나가 없음\n",
        "\n",
        "연산 결과로 나오는 tesnor zie는 두 텐서 사이즈의 최대값\n",
        "\n",
        "과제 예제 10의 경우 위의 10예제에서 B의 두번째 인덱스 값을 1에서 5로 바꾸었다. 둘 중 하나가 1인 것을 위배해서 ERROR가 발상한다."
      ]
    },
    {
      "cell_type": "code",
      "metadata": {
        "colab": {
          "base_uri": "https://localhost:8080/"
        },
        "id": "BSw5B-B1RsWS",
        "outputId": "66835cf1-3250-42b8-83bf-2d5219b5ad6d"
      },
      "source": [
        "print('감사합니다!!')"
      ],
      "execution_count": 58,
      "outputs": [
        {
          "output_type": "stream",
          "name": "stdout",
          "text": [
            "감사합니다!!\n"
          ]
        }
      ]
    }
  ]
}