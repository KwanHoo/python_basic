{
  "nbformat": 4,
  "nbformat_minor": 0,
  "metadata": {
    "colab": {
      "name": "FoodNutritionAnalysis+EDA.ipynb",
      "provenance": [],
      "collapsed_sections": []
    },
    "kernelspec": {
      "name": "python3",
      "display_name": "Python 3"
    },
    "language_info": {
      "name": "python"
    },
    "accelerator": "GPU"
  },
  "cells": [
    {
      "cell_type": "markdown",
      "source": [
        "# Introduction"
      ],
      "metadata": {
        "id": "IxXDR4vauWAK"
      }
    },
    {
      "cell_type": "markdown",
      "source": [
        "이 커널은 CSV 파일에서 수행할 수 잇는 다양한 시각화의 탐색 및 통합입니다. 비주얼은 플롯과 matplotlib에서 나온다. 게다가, 그것은 또한 우리가 먹는 음식의 질과 그것이 운반하는 영양소에 대한 귀중한 통찰력을 가지고 있습니다."
      ],
      "metadata": {
        "id": "agZ3LQMKufRS"
      }
    },
    {
      "cell_type": "markdown",
      "source": [
        "## 식품과 영양\n",
        "\n",
        "![Nutrition Image](https://images.unsplash.com/photo-1498837167922-ddd27525d352?ixlib=rb-1.2.1&ixid=eyJhcHBfaWQiOjEyMDd9&auto=format&fit=crop&w=750&q=80)\n",
        "\n",
        "\n",
        "음식과 영양은 우리 몸에 에너지를 공급하면서 연료를 얻는 방법입니다. 우리는 우리 몸에 있는 영양분을 매일 새로운 공급으로 대체할 필요가 있습니다. 물은 영양의 중요한 구성요소이다. 지방, 단백질, 그리고 탄수화물은 모두 필요하다.영양학( nutrition nutrition學, )은 생물의 유지, 성장, 생식, 건강, 질병과 관련하여 음식물의 영양소와 다른 물질들을 해석하는 학문이다. 섭취, 흡수, 동화, 생합성, 이화작용, 배설 등이 포함된다.\n",
        "\n",
        "\n",
        "의식적으로 알고 먹는 것은 건강한 내장을 위해서뿐만 아니라 마음의 평화를 위해서도 필수적이다. 또한, 야채, 과일, 그리고 통곡물로 채워진 식단은 뇌졸중, 당뇨 그리고 심장병과 같은 주요 질병들을 예방하는데 도움이 될 수 있습니다.종종, 우리는 우리 몸에 꼭 알맞지 않은 우리가 좋아하는 음식을 게걸스럽게 먹는 것을 좋아한다.그러한 혹이 가끔 발생하는 것은 괜찮지만, 만약 그 사람이 건강에 좋은 음식과 균형을 맞추지 않는다면 그러한 식단은 극도로 해로울 수 있다.\n",
        "\n",
        "\n",
        "이 노트는 가장 흔한 음식과 그안에 잇는 영양학적 사실을 분석한다."
      ],
      "metadata": {
        "id": "IxaRYo90uiKi"
      }
    },
    {
      "cell_type": "markdown",
      "source": [
        "## 데이터 정리\n",
        "\n"
      ],
      "metadata": {
        "id": "rjJ5jyqlunLx"
      }
    },
    {
      "cell_type": "markdown",
      "source": [
        "데이터 정리는 모든 데이터 과학 프로젝트의 첫 번째 단계입니다. 여기 데이터는 깨끗해 보이지만 약간의 수정이 필요합니다.\n"
      ],
      "metadata": {
        "id": "xWj4Jx_ruqBX"
      }
    },
    {
      "cell_type": "code",
      "source": [
        "import pandas as pd\n",
        "import numpy as np \n",
        "import plotly.express as px\n",
        "import seaborn as sns\n",
        "import plotly.offline as py\n",
        "import plotly.graph_objects as go\n"
      ],
      "metadata": {
        "id": "BObH43xluYTU"
      },
      "execution_count": null,
      "outputs": []
    },
    {
      "cell_type": "code",
      "source": [
        "nutrients=pd.read_csv(\"nutrients_csvfile.csv\")\n",
        "nutrients.head()"
      ],
      "metadata": {
        "colab": {
          "base_uri": "https://localhost:8080/",
          "height": 206
        },
        "id": "jFQqpXTfuzhO",
        "outputId": "d6e7d04b-6825-4ab9-9652-98f370e69d88"
      },
      "execution_count": null,
      "outputs": [
        {
          "output_type": "execute_result",
          "data": {
            "text/plain": [
              "                    Food Measure  Grams Calories Protein Fat Sat.Fat Fiber  \\\n",
              "0             Cows' milk   1 qt.    976      660      32  40      36     0   \n",
              "1              Milk skim   1 qt.    984      360      36   t       t     0   \n",
              "2             Buttermilk   1 cup    246      127       9   5       4     0   \n",
              "3  Evaporated, undiluted   1 cup    252      345      16  20      18     0   \n",
              "4         Fortified milk  6 cups  1,419    1,373      89  42      23   1.4   \n",
              "\n",
              "  Carbs        Category  \n",
              "0    48  Dairy products  \n",
              "1    52  Dairy products  \n",
              "2    13  Dairy products  \n",
              "3    24  Dairy products  \n",
              "4   119  Dairy products  "
            ],
            "text/html": [
              "\n",
              "  <div id=\"df-8bf09c50-ff1f-4739-af24-e17e180f12bb\">\n",
              "    <div class=\"colab-df-container\">\n",
              "      <div>\n",
              "<style scoped>\n",
              "    .dataframe tbody tr th:only-of-type {\n",
              "        vertical-align: middle;\n",
              "    }\n",
              "\n",
              "    .dataframe tbody tr th {\n",
              "        vertical-align: top;\n",
              "    }\n",
              "\n",
              "    .dataframe thead th {\n",
              "        text-align: right;\n",
              "    }\n",
              "</style>\n",
              "<table border=\"1\" class=\"dataframe\">\n",
              "  <thead>\n",
              "    <tr style=\"text-align: right;\">\n",
              "      <th></th>\n",
              "      <th>Food</th>\n",
              "      <th>Measure</th>\n",
              "      <th>Grams</th>\n",
              "      <th>Calories</th>\n",
              "      <th>Protein</th>\n",
              "      <th>Fat</th>\n",
              "      <th>Sat.Fat</th>\n",
              "      <th>Fiber</th>\n",
              "      <th>Carbs</th>\n",
              "      <th>Category</th>\n",
              "    </tr>\n",
              "  </thead>\n",
              "  <tbody>\n",
              "    <tr>\n",
              "      <th>0</th>\n",
              "      <td>Cows' milk</td>\n",
              "      <td>1 qt.</td>\n",
              "      <td>976</td>\n",
              "      <td>660</td>\n",
              "      <td>32</td>\n",
              "      <td>40</td>\n",
              "      <td>36</td>\n",
              "      <td>0</td>\n",
              "      <td>48</td>\n",
              "      <td>Dairy products</td>\n",
              "    </tr>\n",
              "    <tr>\n",
              "      <th>1</th>\n",
              "      <td>Milk skim</td>\n",
              "      <td>1 qt.</td>\n",
              "      <td>984</td>\n",
              "      <td>360</td>\n",
              "      <td>36</td>\n",
              "      <td>t</td>\n",
              "      <td>t</td>\n",
              "      <td>0</td>\n",
              "      <td>52</td>\n",
              "      <td>Dairy products</td>\n",
              "    </tr>\n",
              "    <tr>\n",
              "      <th>2</th>\n",
              "      <td>Buttermilk</td>\n",
              "      <td>1 cup</td>\n",
              "      <td>246</td>\n",
              "      <td>127</td>\n",
              "      <td>9</td>\n",
              "      <td>5</td>\n",
              "      <td>4</td>\n",
              "      <td>0</td>\n",
              "      <td>13</td>\n",
              "      <td>Dairy products</td>\n",
              "    </tr>\n",
              "    <tr>\n",
              "      <th>3</th>\n",
              "      <td>Evaporated, undiluted</td>\n",
              "      <td>1 cup</td>\n",
              "      <td>252</td>\n",
              "      <td>345</td>\n",
              "      <td>16</td>\n",
              "      <td>20</td>\n",
              "      <td>18</td>\n",
              "      <td>0</td>\n",
              "      <td>24</td>\n",
              "      <td>Dairy products</td>\n",
              "    </tr>\n",
              "    <tr>\n",
              "      <th>4</th>\n",
              "      <td>Fortified milk</td>\n",
              "      <td>6 cups</td>\n",
              "      <td>1,419</td>\n",
              "      <td>1,373</td>\n",
              "      <td>89</td>\n",
              "      <td>42</td>\n",
              "      <td>23</td>\n",
              "      <td>1.4</td>\n",
              "      <td>119</td>\n",
              "      <td>Dairy products</td>\n",
              "    </tr>\n",
              "  </tbody>\n",
              "</table>\n",
              "</div>\n",
              "      <button class=\"colab-df-convert\" onclick=\"convertToInteractive('df-8bf09c50-ff1f-4739-af24-e17e180f12bb')\"\n",
              "              title=\"Convert this dataframe to an interactive table.\"\n",
              "              style=\"display:none;\">\n",
              "        \n",
              "  <svg xmlns=\"http://www.w3.org/2000/svg\" height=\"24px\"viewBox=\"0 0 24 24\"\n",
              "       width=\"24px\">\n",
              "    <path d=\"M0 0h24v24H0V0z\" fill=\"none\"/>\n",
              "    <path d=\"M18.56 5.44l.94 2.06.94-2.06 2.06-.94-2.06-.94-.94-2.06-.94 2.06-2.06.94zm-11 1L8.5 8.5l.94-2.06 2.06-.94-2.06-.94L8.5 2.5l-.94 2.06-2.06.94zm10 10l.94 2.06.94-2.06 2.06-.94-2.06-.94-.94-2.06-.94 2.06-2.06.94z\"/><path d=\"M17.41 7.96l-1.37-1.37c-.4-.4-.92-.59-1.43-.59-.52 0-1.04.2-1.43.59L10.3 9.45l-7.72 7.72c-.78.78-.78 2.05 0 2.83L4 21.41c.39.39.9.59 1.41.59.51 0 1.02-.2 1.41-.59l7.78-7.78 2.81-2.81c.8-.78.8-2.07 0-2.86zM5.41 20L4 18.59l7.72-7.72 1.47 1.35L5.41 20z\"/>\n",
              "  </svg>\n",
              "      </button>\n",
              "      \n",
              "  <style>\n",
              "    .colab-df-container {\n",
              "      display:flex;\n",
              "      flex-wrap:wrap;\n",
              "      gap: 12px;\n",
              "    }\n",
              "\n",
              "    .colab-df-convert {\n",
              "      background-color: #E8F0FE;\n",
              "      border: none;\n",
              "      border-radius: 50%;\n",
              "      cursor: pointer;\n",
              "      display: none;\n",
              "      fill: #1967D2;\n",
              "      height: 32px;\n",
              "      padding: 0 0 0 0;\n",
              "      width: 32px;\n",
              "    }\n",
              "\n",
              "    .colab-df-convert:hover {\n",
              "      background-color: #E2EBFA;\n",
              "      box-shadow: 0px 1px 2px rgba(60, 64, 67, 0.3), 0px 1px 3px 1px rgba(60, 64, 67, 0.15);\n",
              "      fill: #174EA6;\n",
              "    }\n",
              "\n",
              "    [theme=dark] .colab-df-convert {\n",
              "      background-color: #3B4455;\n",
              "      fill: #D2E3FC;\n",
              "    }\n",
              "\n",
              "    [theme=dark] .colab-df-convert:hover {\n",
              "      background-color: #434B5C;\n",
              "      box-shadow: 0px 1px 3px 1px rgba(0, 0, 0, 0.15);\n",
              "      filter: drop-shadow(0px 1px 2px rgba(0, 0, 0, 0.3));\n",
              "      fill: #FFFFFF;\n",
              "    }\n",
              "  </style>\n",
              "\n",
              "      <script>\n",
              "        const buttonEl =\n",
              "          document.querySelector('#df-8bf09c50-ff1f-4739-af24-e17e180f12bb button.colab-df-convert');\n",
              "        buttonEl.style.display =\n",
              "          google.colab.kernel.accessAllowed ? 'block' : 'none';\n",
              "\n",
              "        async function convertToInteractive(key) {\n",
              "          const element = document.querySelector('#df-8bf09c50-ff1f-4739-af24-e17e180f12bb');\n",
              "          const dataTable =\n",
              "            await google.colab.kernel.invokeFunction('convertToInteractive',\n",
              "                                                     [key], {});\n",
              "          if (!dataTable) return;\n",
              "\n",
              "          const docLinkHtml = 'Like what you see? Visit the ' +\n",
              "            '<a target=\"_blank\" href=https://colab.research.google.com/notebooks/data_table.ipynb>data table notebook</a>'\n",
              "            + ' to learn more about interactive tables.';\n",
              "          element.innerHTML = '';\n",
              "          dataTable['output_type'] = 'display_data';\n",
              "          await google.colab.output.renderOutput(dataTable, element);\n",
              "          const docLink = document.createElement('div');\n",
              "          docLink.innerHTML = docLinkHtml;\n",
              "          element.appendChild(docLink);\n",
              "        }\n",
              "      </script>\n",
              "    </div>\n",
              "  </div>\n",
              "  "
            ]
          },
          "metadata": {},
          "execution_count": 23
        }
      ]
    },
    {
      "cell_type": "markdown",
      "source": [
        "우선, 데이터의 t는 작은 양을 나타내므로 0으로 대체하는게 좋음"
      ],
      "metadata": {
        "id": "xMWwxnGXxm58"
      }
    },
    {
      "cell_type": "code",
      "source": [
        "nutrients=nutrients.replace(\"t\",0)\n",
        "nutrients=nutrients.replace(\"t'\",0)\n",
        "\n",
        "nutrients.head()"
      ],
      "metadata": {
        "colab": {
          "base_uri": "https://localhost:8080/",
          "height": 206
        },
        "id": "BKD6xYlpvXYg",
        "outputId": "69f8016d-6db9-451c-b4fe-a42cbb4565ec"
      },
      "execution_count": null,
      "outputs": [
        {
          "output_type": "execute_result",
          "data": {
            "text/plain": [
              "                    Food Measure  Grams Calories Protein Fat Sat.Fat Fiber  \\\n",
              "0             Cows' milk   1 qt.    976      660      32  40      36     0   \n",
              "1              Milk skim   1 qt.    984      360      36   0       0     0   \n",
              "2             Buttermilk   1 cup    246      127       9   5       4     0   \n",
              "3  Evaporated, undiluted   1 cup    252      345      16  20      18     0   \n",
              "4         Fortified milk  6 cups  1,419    1,373      89  42      23   1.4   \n",
              "\n",
              "  Carbs        Category  \n",
              "0    48  Dairy products  \n",
              "1    52  Dairy products  \n",
              "2    13  Dairy products  \n",
              "3    24  Dairy products  \n",
              "4   119  Dairy products  "
            ],
            "text/html": [
              "\n",
              "  <div id=\"df-12c5a40e-b216-4b4e-a83a-7ce92892010e\">\n",
              "    <div class=\"colab-df-container\">\n",
              "      <div>\n",
              "<style scoped>\n",
              "    .dataframe tbody tr th:only-of-type {\n",
              "        vertical-align: middle;\n",
              "    }\n",
              "\n",
              "    .dataframe tbody tr th {\n",
              "        vertical-align: top;\n",
              "    }\n",
              "\n",
              "    .dataframe thead th {\n",
              "        text-align: right;\n",
              "    }\n",
              "</style>\n",
              "<table border=\"1\" class=\"dataframe\">\n",
              "  <thead>\n",
              "    <tr style=\"text-align: right;\">\n",
              "      <th></th>\n",
              "      <th>Food</th>\n",
              "      <th>Measure</th>\n",
              "      <th>Grams</th>\n",
              "      <th>Calories</th>\n",
              "      <th>Protein</th>\n",
              "      <th>Fat</th>\n",
              "      <th>Sat.Fat</th>\n",
              "      <th>Fiber</th>\n",
              "      <th>Carbs</th>\n",
              "      <th>Category</th>\n",
              "    </tr>\n",
              "  </thead>\n",
              "  <tbody>\n",
              "    <tr>\n",
              "      <th>0</th>\n",
              "      <td>Cows' milk</td>\n",
              "      <td>1 qt.</td>\n",
              "      <td>976</td>\n",
              "      <td>660</td>\n",
              "      <td>32</td>\n",
              "      <td>40</td>\n",
              "      <td>36</td>\n",
              "      <td>0</td>\n",
              "      <td>48</td>\n",
              "      <td>Dairy products</td>\n",
              "    </tr>\n",
              "    <tr>\n",
              "      <th>1</th>\n",
              "      <td>Milk skim</td>\n",
              "      <td>1 qt.</td>\n",
              "      <td>984</td>\n",
              "      <td>360</td>\n",
              "      <td>36</td>\n",
              "      <td>0</td>\n",
              "      <td>0</td>\n",
              "      <td>0</td>\n",
              "      <td>52</td>\n",
              "      <td>Dairy products</td>\n",
              "    </tr>\n",
              "    <tr>\n",
              "      <th>2</th>\n",
              "      <td>Buttermilk</td>\n",
              "      <td>1 cup</td>\n",
              "      <td>246</td>\n",
              "      <td>127</td>\n",
              "      <td>9</td>\n",
              "      <td>5</td>\n",
              "      <td>4</td>\n",
              "      <td>0</td>\n",
              "      <td>13</td>\n",
              "      <td>Dairy products</td>\n",
              "    </tr>\n",
              "    <tr>\n",
              "      <th>3</th>\n",
              "      <td>Evaporated, undiluted</td>\n",
              "      <td>1 cup</td>\n",
              "      <td>252</td>\n",
              "      <td>345</td>\n",
              "      <td>16</td>\n",
              "      <td>20</td>\n",
              "      <td>18</td>\n",
              "      <td>0</td>\n",
              "      <td>24</td>\n",
              "      <td>Dairy products</td>\n",
              "    </tr>\n",
              "    <tr>\n",
              "      <th>4</th>\n",
              "      <td>Fortified milk</td>\n",
              "      <td>6 cups</td>\n",
              "      <td>1,419</td>\n",
              "      <td>1,373</td>\n",
              "      <td>89</td>\n",
              "      <td>42</td>\n",
              "      <td>23</td>\n",
              "      <td>1.4</td>\n",
              "      <td>119</td>\n",
              "      <td>Dairy products</td>\n",
              "    </tr>\n",
              "  </tbody>\n",
              "</table>\n",
              "</div>\n",
              "      <button class=\"colab-df-convert\" onclick=\"convertToInteractive('df-12c5a40e-b216-4b4e-a83a-7ce92892010e')\"\n",
              "              title=\"Convert this dataframe to an interactive table.\"\n",
              "              style=\"display:none;\">\n",
              "        \n",
              "  <svg xmlns=\"http://www.w3.org/2000/svg\" height=\"24px\"viewBox=\"0 0 24 24\"\n",
              "       width=\"24px\">\n",
              "    <path d=\"M0 0h24v24H0V0z\" fill=\"none\"/>\n",
              "    <path d=\"M18.56 5.44l.94 2.06.94-2.06 2.06-.94-2.06-.94-.94-2.06-.94 2.06-2.06.94zm-11 1L8.5 8.5l.94-2.06 2.06-.94-2.06-.94L8.5 2.5l-.94 2.06-2.06.94zm10 10l.94 2.06.94-2.06 2.06-.94-2.06-.94-.94-2.06-.94 2.06-2.06.94z\"/><path d=\"M17.41 7.96l-1.37-1.37c-.4-.4-.92-.59-1.43-.59-.52 0-1.04.2-1.43.59L10.3 9.45l-7.72 7.72c-.78.78-.78 2.05 0 2.83L4 21.41c.39.39.9.59 1.41.59.51 0 1.02-.2 1.41-.59l7.78-7.78 2.81-2.81c.8-.78.8-2.07 0-2.86zM5.41 20L4 18.59l7.72-7.72 1.47 1.35L5.41 20z\"/>\n",
              "  </svg>\n",
              "      </button>\n",
              "      \n",
              "  <style>\n",
              "    .colab-df-container {\n",
              "      display:flex;\n",
              "      flex-wrap:wrap;\n",
              "      gap: 12px;\n",
              "    }\n",
              "\n",
              "    .colab-df-convert {\n",
              "      background-color: #E8F0FE;\n",
              "      border: none;\n",
              "      border-radius: 50%;\n",
              "      cursor: pointer;\n",
              "      display: none;\n",
              "      fill: #1967D2;\n",
              "      height: 32px;\n",
              "      padding: 0 0 0 0;\n",
              "      width: 32px;\n",
              "    }\n",
              "\n",
              "    .colab-df-convert:hover {\n",
              "      background-color: #E2EBFA;\n",
              "      box-shadow: 0px 1px 2px rgba(60, 64, 67, 0.3), 0px 1px 3px 1px rgba(60, 64, 67, 0.15);\n",
              "      fill: #174EA6;\n",
              "    }\n",
              "\n",
              "    [theme=dark] .colab-df-convert {\n",
              "      background-color: #3B4455;\n",
              "      fill: #D2E3FC;\n",
              "    }\n",
              "\n",
              "    [theme=dark] .colab-df-convert:hover {\n",
              "      background-color: #434B5C;\n",
              "      box-shadow: 0px 1px 3px 1px rgba(0, 0, 0, 0.15);\n",
              "      filter: drop-shadow(0px 1px 2px rgba(0, 0, 0, 0.3));\n",
              "      fill: #FFFFFF;\n",
              "    }\n",
              "  </style>\n",
              "\n",
              "      <script>\n",
              "        const buttonEl =\n",
              "          document.querySelector('#df-12c5a40e-b216-4b4e-a83a-7ce92892010e button.colab-df-convert');\n",
              "        buttonEl.style.display =\n",
              "          google.colab.kernel.accessAllowed ? 'block' : 'none';\n",
              "\n",
              "        async function convertToInteractive(key) {\n",
              "          const element = document.querySelector('#df-12c5a40e-b216-4b4e-a83a-7ce92892010e');\n",
              "          const dataTable =\n",
              "            await google.colab.kernel.invokeFunction('convertToInteractive',\n",
              "                                                     [key], {});\n",
              "          if (!dataTable) return;\n",
              "\n",
              "          const docLinkHtml = 'Like what you see? Visit the ' +\n",
              "            '<a target=\"_blank\" href=https://colab.research.google.com/notebooks/data_table.ipynb>data table notebook</a>'\n",
              "            + ' to learn more about interactive tables.';\n",
              "          element.innerHTML = '';\n",
              "          dataTable['output_type'] = 'display_data';\n",
              "          await google.colab.output.renderOutput(dataTable, element);\n",
              "          const docLink = document.createElement('div');\n",
              "          docLink.innerHTML = docLinkHtml;\n",
              "          element.appendChild(docLink);\n",
              "        }\n",
              "      </script>\n",
              "    </div>\n",
              "  </div>\n",
              "  "
            ]
          },
          "metadata": {},
          "execution_count": 24
        }
      ]
    },
    {
      "cell_type": "markdown",
      "source": [
        "이제, 우리는 숫자 데이터를 각각의 정수나 부동 변수로 변환하기 위해 데이터 세트에서 쉼표와 같은 모든 표현을 제거해야함"
      ],
      "metadata": {
        "id": "dRQOmz5wx3Fu"
      }
    },
    {
      "cell_type": "code",
      "source": [
        "nutrients=nutrients.replace(\",\",\"\", regex=True)\n",
        "nutrients['Fiber']=nutrients['Fiber'].replace(\"a\",\"\", regex=True)\n",
        "nutrients['Calories'][91]=(8+44)/2"
      ],
      "metadata": {
        "id": "jKicHgmOu8QY"
      },
      "execution_count": null,
      "outputs": []
    },
    {
      "cell_type": "markdown",
      "source": [
        "이제 그램, 칼로리, 단백질, 지방, 포화지방, 섬유질, 탄수화물 데이터형을 int로 변환해봄"
      ],
      "metadata": {
        "id": "o9yMt9XPyCPJ"
      }
    },
    {
      "cell_type": "code",
      "source": [
        "nutrients['Grams']=pd.to_numeric(nutrients['Grams'])\n",
        "nutrients['Calories']=pd.to_numeric(nutrients['Calories'])\n",
        "nutrients['Protein']=pd.to_numeric(nutrients['Protein'])\n",
        "nutrients['Fat']=pd.to_numeric(nutrients['Fat'])\n",
        "nutrients['Sat.Fat']=pd.to_numeric(nutrients['Sat.Fat'])\n",
        "nutrients['Fiber']=pd.to_numeric(nutrients['Fiber'])\n",
        "nutrients['Carbs']=pd.to_numeric(nutrients['Carbs'])"
      ],
      "metadata": {
        "id": "A2RBtSu0vK7M"
      },
      "execution_count": null,
      "outputs": []
    },
    {
      "cell_type": "code",
      "source": [
        "nutrients.dtypes\n"
      ],
      "metadata": {
        "colab": {
          "base_uri": "https://localhost:8080/"
        },
        "id": "xRomFaj0vQRj",
        "outputId": "80ffd965-781e-4762-f27f-181bb6fa0117"
      },
      "execution_count": null,
      "outputs": [
        {
          "output_type": "execute_result",
          "data": {
            "text/plain": [
              "Food         object\n",
              "Measure      object\n",
              "Grams         int64\n",
              "Calories    float64\n",
              "Protein       int64\n",
              "Fat           int64\n",
              "Sat.Fat     float64\n",
              "Fiber       float64\n",
              "Carbs       float64\n",
              "Category     object\n",
              "dtype: object"
            ]
          },
          "metadata": {},
          "execution_count": 28
        }
      ]
    },
    {
      "cell_type": "code",
      "source": [
        "nutrients.shape"
      ],
      "metadata": {
        "colab": {
          "base_uri": "https://localhost:8080/"
        },
        "id": "7UWxYO1rHTue",
        "outputId": "97666b0f-284f-414b-e1f7-40b2f7d2eb14"
      },
      "execution_count": null,
      "outputs": [
        {
          "output_type": "execute_result",
          "data": {
            "text/plain": [
              "(335, 10)"
            ]
          },
          "metadata": {},
          "execution_count": 29
        }
      ]
    },
    {
      "cell_type": "markdown",
      "source": [
        "모든 데이터가 원하는 유형으로 변경될걸 확인할 수 있음\n"
      ],
      "metadata": {
        "id": "PznBZbT3yQAU"
      }
    },
    {
      "cell_type": "markdown",
      "source": [
        "### 데이터 품질에 대한 마지막 빠른 확인 "
      ],
      "metadata": {
        "id": "hhiN32CDyS34"
      }
    },
    {
      "cell_type": "code",
      "source": [
        "print(nutrients.isnull().any())\n",
        "print('-'*245)\n",
        "print(nutrients.describe())\n",
        "print('-'*245)"
      ],
      "metadata": {
        "colab": {
          "base_uri": "https://localhost:8080/"
        },
        "id": "_gBZt1mxvcPM",
        "outputId": "11615321-723d-42ee-bd23-045957d2207e"
      },
      "execution_count": null,
      "outputs": [
        {
          "output_type": "stream",
          "name": "stdout",
          "text": [
            "Food        False\n",
            "Measure     False\n",
            "Grams       False\n",
            "Calories     True\n",
            "Protein     False\n",
            "Fat         False\n",
            "Sat.Fat      True\n",
            "Fiber        True\n",
            "Carbs       False\n",
            "Category    False\n",
            "dtype: bool\n",
            "-----------------------------------------------------------------------------------------------------------------------------------------------------------------------------------------------------------------------------------------------------\n",
            "             Grams     Calories     Protein         Fat     Sat.Fat  \\\n",
            "count   335.000000   334.000000  335.000000  335.000000  333.000000   \n",
            "mean    143.211940   188.802395    8.573134    8.540299    6.438438   \n",
            "std     138.668626   184.453018   17.733722   19.797871   18.517656   \n",
            "min      11.000000     0.000000   -1.000000    0.000000    0.000000   \n",
            "25%      60.000000    75.000000    1.000000    0.000000    0.000000   \n",
            "50%     108.000000   131.000000    3.000000    1.000000    0.000000   \n",
            "75%     200.000000   250.000000   12.000000   10.000000    8.000000   \n",
            "max    1419.000000  1373.000000  232.000000  233.000000  234.000000   \n",
            "\n",
            "            Fiber       Carbs  \n",
            "count  334.000000  335.000000  \n",
            "mean     2.376078   24.982388  \n",
            "std     16.078272   35.833106  \n",
            "min      0.000000    0.000000  \n",
            "25%      0.000000    3.000000  \n",
            "50%      0.200000   14.000000  \n",
            "75%      1.000000   30.500000  \n",
            "max    235.000000  236.000000  \n",
            "-----------------------------------------------------------------------------------------------------------------------------------------------------------------------------------------------------------------------------------------------------\n"
          ]
        }
      ]
    },
    {
      "cell_type": "markdown",
      "source": [
        "Sat.Fat(2), Calories(1), Fiber에 null값이 있음. 이행을 완전히 삭제함"
      ],
      "metadata": {
        "id": "TVLECrSYydbU"
      }
    },
    {
      "cell_type": "code",
      "source": [
        "nutrients=nutrients.dropna()\n",
        "nutrients.shape"
      ],
      "metadata": {
        "colab": {
          "base_uri": "https://localhost:8080/"
        },
        "id": "JgRXLbEqvfHD",
        "outputId": "885bcfa0-3bf8-4b6d-a25e-4f5748685ac6"
      },
      "execution_count": null,
      "outputs": [
        {
          "output_type": "execute_result",
          "data": {
            "text/plain": [
              "(331, 10)"
            ]
          },
          "metadata": {},
          "execution_count": 31
        }
      ]
    },
    {
      "cell_type": "code",
      "source": [
        "print(nutrients.isnull().any())\n",
        "print('-'*245)\n",
        "print(nutrients.describe())\n",
        "print('-'*245)"
      ],
      "metadata": {
        "colab": {
          "base_uri": "https://localhost:8080/"
        },
        "id": "h94ziKHiGqjG",
        "outputId": "372bd4b3-dfab-4f3d-dcec-b2bd481b23d4"
      },
      "execution_count": null,
      "outputs": [
        {
          "output_type": "stream",
          "name": "stdout",
          "text": [
            "Food        False\n",
            "Measure     False\n",
            "Grams       False\n",
            "Calories    False\n",
            "Protein     False\n",
            "Fat         False\n",
            "Sat.Fat     False\n",
            "Fiber       False\n",
            "Carbs       False\n",
            "Category    False\n",
            "dtype: bool\n",
            "-----------------------------------------------------------------------------------------------------------------------------------------------------------------------------------------------------------------------------------------------------\n",
            "             Grams     Calories     Protein         Fat     Sat.Fat  \\\n",
            "count   331.000000   331.000000  331.000000  331.000000  331.000000   \n",
            "mean    143.703927   188.622356    8.561934    8.450151    6.477341   \n",
            "std     139.368130   184.342696   17.828601   19.741199   18.566880   \n",
            "min      11.000000     0.000000   -1.000000    0.000000    0.000000   \n",
            "25%      60.000000    75.000000    1.000000    0.000000    0.000000   \n",
            "50%     108.000000   130.000000    3.000000    1.000000    0.000000   \n",
            "75%     200.000000   250.000000   12.000000   10.000000    8.000000   \n",
            "max    1419.000000  1373.000000  232.000000  233.000000  234.000000   \n",
            "\n",
            "            Fiber       Carbs  \n",
            "count  331.000000  331.000000  \n",
            "mean     2.392175   25.245619  \n",
            "std     16.150091   35.964432  \n",
            "min      0.000000    0.000000  \n",
            "25%      0.000000    3.500000  \n",
            "50%      0.200000   14.000000  \n",
            "75%      1.000000   31.000000  \n",
            "max    235.000000  236.000000  \n",
            "-----------------------------------------------------------------------------------------------------------------------------------------------------------------------------------------------------------------------------------------------------\n"
          ]
        }
      ]
    },
    {
      "cell_type": "markdown",
      "source": [
        "## 데이터 시각화와 분석\n",
        "\n",
        "특징을 서로 그림으로 표시하여 분석을 시작하겠습니다. 이것은 우리에게 서로에 대한 특징의 분포를 제공할 뿐만 아니라 데이터의 빠른 정량적 느낌을 줄 것이다.\n"
      ],
      "metadata": {
        "id": "EnTng98Ey0G_"
      }
    },
    {
      "cell_type": "code",
      "source": [
        "# Plotting the KDEplots\n",
        "\n",
        "import matplotlib.pyplot as plt\n",
        "\n",
        "\n",
        "f, axes = plt.subplots(2, 3, figsize=(10, 10), sharex=True, sharey=True)\n",
        "\n",
        "s = np.linspace(0, 3, 10)\n",
        "cmap = sns.cubehelix_palette(start=0.0, light=1, as_cmap=True)\n",
        "\n",
        "sns.kdeplot(nutrients['Carbs'],nutrients['Protein'],cmap=cmap,shade=True, ax=axes[0,0])\n",
        "axes[0,0].set(xlim=(-10, 50), ylim=(-30, 70), title = 'Carbs and Protein')\n",
        "\n",
        "cmap = sns.cubehelix_palette(start=0.25, light=1, as_cmap=True)\n",
        "\n",
        "sns.kdeplot(nutrients['Fat'],nutrients['Carbs'], ax=axes[0,1])\n",
        "axes[0,1].set(xlim=(-10, 50), ylim=(-30, 70), title = 'Carbs and Fat')\n",
        "\n",
        "cmap = sns.cubehelix_palette(start=0.33, light=1, as_cmap=True)\n",
        "\n",
        "sns.kdeplot(nutrients['Carbs'],nutrients['Fiber'], ax=axes[0,2])\n",
        "axes[0,2].set(xlim=(-10, 50), ylim=(-30, 70), title = 'Carbs and Fat')\n",
        "\n",
        "cmap = sns.cubehelix_palette(start=0.45, light=1, as_cmap=True)\n",
        "\n",
        "sns.kdeplot(nutrients['Fiber'],nutrients['Fat'], ax=axes[1,0])\n",
        "axes[1,0].set(xlim=(-10, 50), ylim=(-30, 70), title = 'Fiber and Fat')\n",
        "\n",
        "cmap = sns.cubehelix_palette(start=0.56, light=1, as_cmap=True)\n",
        "\n",
        "sns.kdeplot(nutrients['Fat'],nutrients['Sat.Fat'], ax=axes[1,1])\n",
        "axes[1,1].set(xlim=(-10, 50), ylim=(-30, 70), title = 'Sat. Fat and Fat')\n",
        "\n",
        "cmap = sns.cubehelix_palette(start=0.68, light=1, as_cmap=True)\n",
        "\n",
        "sns.kdeplot(nutrients['Carbs'],nutrients['Calories'], ax=axes[1,2])\n",
        "axes[1,2].set(xlim=(-10, 100), ylim=(-30, 70), title = 'Calories and Carbs')\n",
        "\n",
        "f.tight_layout()\n"
      ],
      "metadata": {
        "colab": {
          "base_uri": "https://localhost:8080/",
          "height": 1000
        },
        "id": "jcPkP2eavgnr",
        "outputId": "709cc996-0cde-4993-961e-baf800e5e8fd"
      },
      "execution_count": null,
      "outputs": [
        {
          "output_type": "stream",
          "name": "stderr",
          "text": [
            "/usr/local/lib/python3.7/dist-packages/seaborn/_decorators.py:43: FutureWarning:\n",
            "\n",
            "Pass the following variable as a keyword arg: y. From version 0.12, the only valid positional argument will be `data`, and passing other arguments without an explicit keyword will result in an error or misinterpretation.\n",
            "\n",
            "/usr/local/lib/python3.7/dist-packages/seaborn/_decorators.py:43: FutureWarning:\n",
            "\n",
            "Pass the following variable as a keyword arg: y. From version 0.12, the only valid positional argument will be `data`, and passing other arguments without an explicit keyword will result in an error or misinterpretation.\n",
            "\n",
            "/usr/local/lib/python3.7/dist-packages/seaborn/_decorators.py:43: FutureWarning:\n",
            "\n",
            "Pass the following variable as a keyword arg: y. From version 0.12, the only valid positional argument will be `data`, and passing other arguments without an explicit keyword will result in an error or misinterpretation.\n",
            "\n",
            "/usr/local/lib/python3.7/dist-packages/seaborn/_decorators.py:43: FutureWarning:\n",
            "\n",
            "Pass the following variable as a keyword arg: y. From version 0.12, the only valid positional argument will be `data`, and passing other arguments without an explicit keyword will result in an error or misinterpretation.\n",
            "\n",
            "/usr/local/lib/python3.7/dist-packages/seaborn/_decorators.py:43: FutureWarning:\n",
            "\n",
            "Pass the following variable as a keyword arg: y. From version 0.12, the only valid positional argument will be `data`, and passing other arguments without an explicit keyword will result in an error or misinterpretation.\n",
            "\n",
            "/usr/local/lib/python3.7/dist-packages/seaborn/_decorators.py:43: FutureWarning:\n",
            "\n",
            "Pass the following variable as a keyword arg: y. From version 0.12, the only valid positional argument will be `data`, and passing other arguments without an explicit keyword will result in an error or misinterpretation.\n",
            "\n"
          ]
        },
        {
          "output_type": "display_data",
          "data": {
            "text/plain": [
              "<Figure size 720x720 with 6 Axes>"
            ],
            "image/png": "[encoded data removed]"
          },
          "metadata": {
            "needs_background": "light"
          }
        }
      ]
    },
    {
      "cell_type": "markdown",
      "source": [
        "## 개별 메트릭스에 대해 자세히 알아보기"
      ],
      "metadata": {
        "id": "xCQg1Ho-zQ7g"
      }
    },
    {
      "cell_type": "markdown",
      "source": [
        "야채와 곡류 중에서 단백질이 가장 풍부한 음식은 무엇인가?"
      ],
      "metadata": {
        "id": "uB2xyVuszRBx"
      }
    },
    {
      "cell_type": "code",
      "source": [
        "\n",
        "alls=['Vegetables A-E',\n",
        " 'Vegetables F-P',\n",
        " 'Vegetables R-Z','Breads cereals fastfoodgrains','Seeds and Nuts']\n",
        "\n",
        "prot= nutrients[nutrients['Category'].isin(alls)]\n",
        "\n",
        "protein_rich= prot.sort_values(by='Protein', ascending= False)\n",
        "top_20=protein_rich.head(20)\n",
        "fig = px.bar(top_20, x='Food', y='Protein', color='Protein', title=' Top 10 protein rich foods')\n",
        "fig.show()"
      ],
      "metadata": {
        "colab": {
          "base_uri": "https://localhost:8080/",
          "height": 542
        },
        "id": "dSSAIF7bviQr",
        "outputId": "44a94462-20d6-40e1-928e-1694202b743a"
      },
      "execution_count": null,
      "outputs": [
        {
          "output_type": "display_data",
          "data": {
            "text/html": [
              "<html>\n",
              "<head><meta charset=\"utf-8\" /></head>\n",
              "<body>\n",
              "    <div>            <script src=\"https://cdnjs.cloudflare.com/ajax/libs/mathjax/2.7.5/MathJax.js?config=TeX-AMS-MML_SVG\"></script><script type=\"text/javascript\">if (window.MathJax) {MathJax.Hub.Config({SVG: {font: \"STIX-Web\"}});}</script>                <script type=\"text/javascript\">window.PlotlyConfig = {MathJaxConfig: 'local'};</script>\n",
              "        <script src=\"https://cdn.plot.ly/plotly-2.8.3.min.js\"></script>                <div id=\"c6ec5315-464b-4d48-ad55-88bfd7e281ad\" class=\"plotly-graph-div\" style=\"height:525px; width:100%;\"></div>            <script type=\"text/javascript\">                                    window.PLOTLYENV=window.PLOTLYENV || {};                                    if (document.getElementById(\"c6ec5315-464b-4d48-ad55-88bfd7e281ad\")) {                    Plotly.newPlot(                        \"c6ec5315-464b-4d48-ad55-88bfd7e281ad\",                        [{\"alignmentgroup\":\"True\",\"hovertemplate\":\"Food=%{x}<br>Protein=%{marker.color}<extra></extra>\",\"legendgroup\":\"\",\"marker\":{\"color\":[48,39,39,22,20,19,18,17,16,15,15,15,14,14,13,13,13,13,13,13],\"coloraxis\":\"coloraxis\",\"pattern\":{\"shape\":\"\"}},\"name\":\"\",\"offsetgroup\":\"\",\"orientation\":\"v\",\"showlegend\":false,\"textposition\":\"auto\",\"x\":[\"Whole-wheat\",\"White 20 slices or\",\"Flour\",\"Soybeans\",\"Wheat-germ cereal toasted\",\"Peppers with beef and crumbs\",\"Baked with cheese\",\"Wheat germ\",\"Lima dry cooked\",\"Lentils\",\"Red kidney\",\"Rice\",\"White\",\"Converted\",\"Spaghetti with meat sauce\",\"Almonds\",\"roasted and salted\",\"Peanut butter natural\",\"Peanuts\",\"Wheat (whole)\"],\"xaxis\":\"x\",\"y\":[48,39,39,22,20,19,18,17,16,15,15,15,14,14,13,13,13,13,13,13],\"yaxis\":\"y\",\"type\":\"bar\"}],                        {\"template\":{\"data\":{\"bar\":[{\"error_x\":{\"color\":\"#2a3f5f\"},\"error_y\":{\"color\":\"#2a3f5f\"},\"marker\":{\"line\":{\"color\":\"#E5ECF6\",\"width\":0.5},\"pattern\":{\"fillmode\":\"overlay\",\"size\":10,\"solidity\":0.2}},\"type\":\"bar\"}],\"barpolar\":[{\"marker\":{\"line\":{\"color\":\"#E5ECF6\",\"width\":0.5},\"pattern\":{\"fillmode\":\"overlay\",\"size\":10,\"solidity\":0.2}},\"type\":\"barpolar\"}],\"carpet\":[{\"aaxis\":{\"endlinecolor\":\"#2a3f5f\",\"gridcolor\":\"white\",\"linecolor\":\"white\",\"minorgridcolor\":\"white\",\"startlinecolor\":\"#2a3f5f\"},\"baxis\":{\"endlinecolor\":\"#2a3f5f\",\"gridcolor\":\"white\",\"linecolor\":\"white\",\"minorgridcolor\":\"white\",\"startlinecolor\":\"#2a3f5f\"},\"type\":\"carpet\"}],\"choropleth\":[{\"colorbar\":{\"outlinewidth\":0,\"ticks\":\"\"},\"type\":\"choropleth\"}],\"contour\":[{\"colorbar\":{\"outlinewidth\":0,\"ticks\":\"\"},\"colorscale\":[[0.0,\"#0d0887\"],[0.1111111111111111,\"#46039f\"],[0.2222222222222222,\"#7201a8\"],[0.3333333333333333,\"#9c179e\"],[0.4444444444444444,\"#bd3786\"],[0.5555555555555556,\"#d8576b\"],[0.6666666666666666,\"#ed7953\"],[0.7777777777777778,\"#fb9f3a\"],[0.8888888888888888,\"#fdca26\"],[1.0,\"#f0f921\"]],\"type\":\"contour\"}],\"contourcarpet\":[{\"colorbar\":{\"outlinewidth\":0,\"ticks\":\"\"},\"type\":\"contourcarpet\"}],\"heatmap\":[{\"colorbar\":{\"outlinewidth\":0,\"ticks\":\"\"},\"colorscale\":[[0.0,\"#0d0887\"],[0.1111111111111111,\"#46039f\"],[0.2222222222222222,\"#7201a8\"],[0.3333333333333333,\"#9c179e\"],[0.4444444444444444,\"#bd3786\"],[0.5555555555555556,\"#d8576b\"],[0.6666666666666666,\"#ed7953\"],[0.7777777777777778,\"#fb9f3a\"],[0.8888888888888888,\"#fdca26\"],[1.0,\"#f0f921\"]],\"type\":\"heatmap\"}],\"heatmapgl\":[{\"colorbar\":{\"outlinewidth\":0,\"ticks\":\"\"},\"colorscale\":[[0.0,\"#0d0887\"],[0.1111111111111111,\"#46039f\"],[0.2222222222222222,\"#7201a8\"],[0.3333333333333333,\"#9c179e\"],[0.4444444444444444,\"#bd3786\"],[0.5555555555555556,\"#d8576b\"],[0.6666666666666666,\"#ed7953\"],[0.7777777777777778,\"#fb9f3a\"],[0.8888888888888888,\"#fdca26\"],[1.0,\"#f0f921\"]],\"type\":\"heatmapgl\"}],\"histogram\":[{\"marker\":{\"pattern\":{\"fillmode\":\"overlay\",\"size\":10,\"solidity\":0.2}},\"type\":\"histogram\"}],\"histogram2d\":[{\"colorbar\":{\"outlinewidth\":0,\"ticks\":\"\"},\"colorscale\":[[0.0,\"#0d0887\"],[0.1111111111111111,\"#46039f\"],[0.2222222222222222,\"#7201a8\"],[0.3333333333333333,\"#9c179e\"],[0.4444444444444444,\"#bd3786\"],[0.5555555555555556,\"#d8576b\"],[0.6666666666666666,\"#ed7953\"],[0.7777777777777778,\"#fb9f3a\"],[0.8888888888888888,\"#fdca26\"],[1.0,\"#f0f921\"]],\"type\":\"histogram2d\"}],\"histogram2dcontour\":[{\"colorbar\":{\"outlinewidth\":0,\"ticks\":\"\"},\"colorscale\":[[0.0,\"#0d0887\"],[0.1111111111111111,\"#46039f\"],[0.2222222222222222,\"#7201a8\"],[0.3333333333333333,\"#9c179e\"],[0.4444444444444444,\"#bd3786\"],[0.5555555555555556,\"#d8576b\"],[0.6666666666666666,\"#ed7953\"],[0.7777777777777778,\"#fb9f3a\"],[0.8888888888888888,\"#fdca26\"],[1.0,\"#f0f921\"]],\"type\":\"histogram2dcontour\"}],\"mesh3d\":[{\"colorbar\":{\"outlinewidth\":0,\"ticks\":\"\"},\"type\":\"mesh3d\"}],\"parcoords\":[{\"line\":{\"colorbar\":{\"outlinewidth\":0,\"ticks\":\"\"}},\"type\":\"parcoords\"}],\"pie\":[{\"automargin\":true,\"type\":\"pie\"}],\"scatter\":[{\"marker\":{\"colorbar\":{\"outlinewidth\":0,\"ticks\":\"\"}},\"type\":\"scatter\"}],\"scatter3d\":[{\"line\":{\"colorbar\":{\"outlinewidth\":0,\"ticks\":\"\"}},\"marker\":{\"colorbar\":{\"outlinewidth\":0,\"ticks\":\"\"}},\"type\":\"scatter3d\"}],\"scattercarpet\":[{\"marker\":{\"colorbar\":{\"outlinewidth\":0,\"ticks\":\"\"}},\"type\":\"scattercarpet\"}],\"scattergeo\":[{\"marker\":{\"colorbar\":{\"outlinewidth\":0,\"ticks\":\"\"}},\"type\":\"scattergeo\"}],\"scattergl\":[{\"marker\":{\"colorbar\":{\"outlinewidth\":0,\"ticks\":\"\"}},\"type\":\"scattergl\"}],\"scattermapbox\":[{\"marker\":{\"colorbar\":{\"outlinewidth\":0,\"ticks\":\"\"}},\"type\":\"scattermapbox\"}],\"scatterpolar\":[{\"marker\":{\"colorbar\":{\"outlinewidth\":0,\"ticks\":\"\"}},\"type\":\"scatterpolar\"}],\"scatterpolargl\":[{\"marker\":{\"colorbar\":{\"outlinewidth\":0,\"ticks\":\"\"}},\"type\":\"scatterpolargl\"}],\"scatterternary\":[{\"marker\":{\"colorbar\":{\"outlinewidth\":0,\"ticks\":\"\"}},\"type\":\"scatterternary\"}],\"surface\":[{\"colorbar\":{\"outlinewidth\":0,\"ticks\":\"\"},\"colorscale\":[[0.0,\"#0d0887\"],[0.1111111111111111,\"#46039f\"],[0.2222222222222222,\"#7201a8\"],[0.3333333333333333,\"#9c179e\"],[0.4444444444444444,\"#bd3786\"],[0.5555555555555556,\"#d8576b\"],[0.6666666666666666,\"#ed7953\"],[0.7777777777777778,\"#fb9f3a\"],[0.8888888888888888,\"#fdca26\"],[1.0,\"#f0f921\"]],\"type\":\"surface\"}],\"table\":[{\"cells\":{\"fill\":{\"color\":\"#EBF0F8\"},\"line\":{\"color\":\"white\"}},\"header\":{\"fill\":{\"color\":\"#C8D4E3\"},\"line\":{\"color\":\"white\"}},\"type\":\"table\"}]},\"layout\":{\"annotationdefaults\":{\"arrowcolor\":\"#2a3f5f\",\"arrowhead\":0,\"arrowwidth\":1},\"autotypenumbers\":\"strict\",\"coloraxis\":{\"colorbar\":{\"outlinewidth\":0,\"ticks\":\"\"}},\"colorscale\":{\"diverging\":[[0,\"#8e0152\"],[0.1,\"#c51b7d\"],[0.2,\"#de77ae\"],[0.3,\"#f1b6da\"],[0.4,\"#fde0ef\"],[0.5,\"#f7f7f7\"],[0.6,\"#e6f5d0\"],[0.7,\"#b8e186\"],[0.8,\"#7fbc41\"],[0.9,\"#4d9221\"],[1,\"#276419\"]],\"sequential\":[[0.0,\"#0d0887\"],[0.1111111111111111,\"#46039f\"],[0.2222222222222222,\"#7201a8\"],[0.3333333333333333,\"#9c179e\"],[0.4444444444444444,\"#bd3786\"],[0.5555555555555556,\"#d8576b\"],[0.6666666666666666,\"#ed7953\"],[0.7777777777777778,\"#fb9f3a\"],[0.8888888888888888,\"#fdca26\"],[1.0,\"#f0f921\"]],\"sequentialminus\":[[0.0,\"#0d0887\"],[0.1111111111111111,\"#46039f\"],[0.2222222222222222,\"#7201a8\"],[0.3333333333333333,\"#9c179e\"],[0.4444444444444444,\"#bd3786\"],[0.5555555555555556,\"#d8576b\"],[0.6666666666666666,\"#ed7953\"],[0.7777777777777778,\"#fb9f3a\"],[0.8888888888888888,\"#fdca26\"],[1.0,\"#f0f921\"]]},\"colorway\":[\"#636efa\",\"#EF553B\",\"#00cc96\",\"#ab63fa\",\"#FFA15A\",\"#19d3f3\",\"#FF6692\",\"#B6E880\",\"#FF97FF\",\"#FECB52\"],\"font\":{\"color\":\"#2a3f5f\"},\"geo\":{\"bgcolor\":\"white\",\"lakecolor\":\"white\",\"landcolor\":\"#E5ECF6\",\"showlakes\":true,\"showland\":true,\"subunitcolor\":\"white\"},\"hoverlabel\":{\"align\":\"left\"},\"hovermode\":\"closest\",\"mapbox\":{\"style\":\"light\"},\"paper_bgcolor\":\"white\",\"plot_bgcolor\":\"#E5ECF6\",\"polar\":{\"angularaxis\":{\"gridcolor\":\"white\",\"linecolor\":\"white\",\"ticks\":\"\"},\"bgcolor\":\"#E5ECF6\",\"radialaxis\":{\"gridcolor\":\"white\",\"linecolor\":\"white\",\"ticks\":\"\"}},\"scene\":{\"xaxis\":{\"backgroundcolor\":\"#E5ECF6\",\"gridcolor\":\"white\",\"gridwidth\":2,\"linecolor\":\"white\",\"showbackground\":true,\"ticks\":\"\",\"zerolinecolor\":\"white\"},\"yaxis\":{\"backgroundcolor\":\"#E5ECF6\",\"gridcolor\":\"white\",\"gridwidth\":2,\"linecolor\":\"white\",\"showbackground\":true,\"ticks\":\"\",\"zerolinecolor\":\"white\"},\"zaxis\":{\"backgroundcolor\":\"#E5ECF6\",\"gridcolor\":\"white\",\"gridwidth\":2,\"linecolor\":\"white\",\"showbackground\":true,\"ticks\":\"\",\"zerolinecolor\":\"white\"}},\"shapedefaults\":{\"line\":{\"color\":\"#2a3f5f\"}},\"ternary\":{\"aaxis\":{\"gridcolor\":\"white\",\"linecolor\":\"white\",\"ticks\":\"\"},\"baxis\":{\"gridcolor\":\"white\",\"linecolor\":\"white\",\"ticks\":\"\"},\"bgcolor\":\"#E5ECF6\",\"caxis\":{\"gridcolor\":\"white\",\"linecolor\":\"white\",\"ticks\":\"\"}},\"title\":{\"x\":0.05},\"xaxis\":{\"automargin\":true,\"gridcolor\":\"white\",\"linecolor\":\"white\",\"ticks\":\"\",\"title\":{\"standoff\":15},\"zerolinecolor\":\"white\",\"zerolinewidth\":2},\"yaxis\":{\"automargin\":true,\"gridcolor\":\"white\",\"linecolor\":\"white\",\"ticks\":\"\",\"title\":{\"standoff\":15},\"zerolinecolor\":\"white\",\"zerolinewidth\":2}}},\"xaxis\":{\"anchor\":\"y\",\"domain\":[0.0,1.0],\"title\":{\"text\":\"Food\"}},\"yaxis\":{\"anchor\":\"x\",\"domain\":[0.0,1.0],\"title\":{\"text\":\"Protein\"}},\"coloraxis\":{\"colorbar\":{\"title\":{\"text\":\"Protein\"}},\"colorscale\":[[0.0,\"#0d0887\"],[0.1111111111111111,\"#46039f\"],[0.2222222222222222,\"#7201a8\"],[0.3333333333333333,\"#9c179e\"],[0.4444444444444444,\"#bd3786\"],[0.5555555555555556,\"#d8576b\"],[0.6666666666666666,\"#ed7953\"],[0.7777777777777778,\"#fb9f3a\"],[0.8888888888888888,\"#fdca26\"],[1.0,\"#f0f921\"]]},\"legend\":{\"tracegroupgap\":0},\"title\":{\"text\":\" Top 10 protein rich foods\"},\"barmode\":\"relative\"},                        {\"responsive\": true}                    ).then(function(){\n",
              "                            \n",
              "var gd = document.getElementById('c6ec5315-464b-4d48-ad55-88bfd7e281ad');\n",
              "var x = new MutationObserver(function (mutations, observer) {{\n",
              "        var display = window.getComputedStyle(gd).display;\n",
              "        if (!display || display === 'none') {{\n",
              "            console.log([gd, 'removed!']);\n",
              "            Plotly.purge(gd);\n",
              "            observer.disconnect();\n",
              "        }}\n",
              "}});\n",
              "\n",
              "// Listen for the removal of the full notebook cells\n",
              "var notebookContainer = gd.closest('#notebook-container');\n",
              "if (notebookContainer) {{\n",
              "    x.observe(notebookContainer, {childList: true});\n",
              "}}\n",
              "\n",
              "// Listen for the clearing of the current output cell\n",
              "var outputEl = gd.closest('.output');\n",
              "if (outputEl) {{\n",
              "    x.observe(outputEl, {childList: true});\n",
              "}}\n",
              "\n",
              "                        })                };                            </script>        </div>\n",
              "</body>\n",
              "</html>"
            ]
          },
          "metadata": {}
        }
      ]
    },
    {
      "cell_type": "markdown",
      "source": [
        "따라서, 곡물, 채소, 씨앗의 범주에서, 통밀은 흰 빵 다음으로 가장 많은 단백질 함량을 가지고 있습니다. 콩도 상위 20위 안에 든다. 또한, 아몬드는 씨즈 부문에서 1위를 차지했습니다.🌱\n"
      ],
      "metadata": {
        "id": "7WSZPS1eznDW"
      }
    },
    {
      "cell_type": "markdown",
      "source": [
        "## 피해야 할 음식\n",
        "\n",
        "칼로리가 가장 높은 음식은 무엇입니까?"
      ],
      "metadata": {
        "id": "fIkzGS2ZzoPu"
      }
    },
    {
      "cell_type": "code",
      "source": [
        "cals= nutrients.sort_values(by='Calories', ascending= False)\n",
        "top_20_cals=cals.head(20)\n",
        "fig = px.bar(top_20, x='Food', y='Calories' , color='Calories',title=' Top 10 calorie rich foods')\n",
        "fig.show()"
      ],
      "metadata": {
        "colab": {
          "base_uri": "https://localhost:8080/",
          "height": 542
        },
        "id": "__nAmD2XvoPb",
        "outputId": "b93971bb-0de2-45cb-9d5c-b36aa3d529c9"
      },
      "execution_count": null,
      "outputs": [
        {
          "output_type": "display_data",
          "data": {
            "text/html": [
              "<html>\n",
              "<head><meta charset=\"utf-8\" /></head>\n",
              "<body>\n",
              "    <div>            <script src=\"https://cdnjs.cloudflare.com/ajax/libs/mathjax/2.7.5/MathJax.js?config=TeX-AMS-MML_SVG\"></script><script type=\"text/javascript\">if (window.MathJax) {MathJax.Hub.Config({SVG: {font: \"STIX-Web\"}});}</script>                <script type=\"text/javascript\">window.PlotlyConfig = {MathJaxConfig: 'local'};</script>\n",
              "        <script src=\"https://cdn.plot.ly/plotly-2.8.3.min.js\"></script>                <div id=\"b7490604-bca8-46af-aa2d-36ed7d384d26\" class=\"plotly-graph-div\" style=\"height:525px; width:100%;\"></div>            <script type=\"text/javascript\">                                    window.PLOTLYENV=window.PLOTLYENV || {};                                    if (document.getElementById(\"b7490604-bca8-46af-aa2d-36ed7d384d26\")) {                    Plotly.newPlot(                        \"b7490604-bca8-46af-aa2d-36ed7d384d26\",                        [{\"alignmentgroup\":\"True\",\"hovertemplate\":\"Food=%{x}<br>Calories=%{marker.color}<extra></extra>\",\"legendgroup\":\"\",\"marker\":{\"color\":[1100.0,1225.0,460.0,260.0,260.0,255.0,475.0,245.0,260.0,212.0,230.0,748.0,692.0,677.0,285.0,425.0,439.0,284.0,290.0,390.0],\"coloraxis\":\"coloraxis\",\"pattern\":{\"shape\":\"\"}},\"name\":\"\",\"offsetgroup\":\"\",\"orientation\":\"v\",\"showlegend\":false,\"textposition\":\"auto\",\"x\":[\"Whole-wheat\",\"White 20 slices or\",\"Flour\",\"Soybeans\",\"Wheat-germ cereal toasted\",\"Peppers with beef and crumbs\",\"Baked with cheese\",\"Wheat germ\",\"Lima dry cooked\",\"Lentils\",\"Red kidney\",\"Rice\",\"White\",\"Converted\",\"Spaghetti with meat sauce\",\"Almonds\",\"roasted and salted\",\"Peanut butter natural\",\"Peanuts\",\"Wheat (whole)\"],\"xaxis\":\"x\",\"y\":[1100.0,1225.0,460.0,260.0,260.0,255.0,475.0,245.0,260.0,212.0,230.0,748.0,692.0,677.0,285.0,425.0,439.0,284.0,290.0,390.0],\"yaxis\":\"y\",\"type\":\"bar\"}],                        {\"template\":{\"data\":{\"bar\":[{\"error_x\":{\"color\":\"#2a3f5f\"},\"error_y\":{\"color\":\"#2a3f5f\"},\"marker\":{\"line\":{\"color\":\"#E5ECF6\",\"width\":0.5},\"pattern\":{\"fillmode\":\"overlay\",\"size\":10,\"solidity\":0.2}},\"type\":\"bar\"}],\"barpolar\":[{\"marker\":{\"line\":{\"color\":\"#E5ECF6\",\"width\":0.5},\"pattern\":{\"fillmode\":\"overlay\",\"size\":10,\"solidity\":0.2}},\"type\":\"barpolar\"}],\"carpet\":[{\"aaxis\":{\"endlinecolor\":\"#2a3f5f\",\"gridcolor\":\"white\",\"linecolor\":\"white\",\"minorgridcolor\":\"white\",\"startlinecolor\":\"#2a3f5f\"},\"baxis\":{\"endlinecolor\":\"#2a3f5f\",\"gridcolor\":\"white\",\"linecolor\":\"white\",\"minorgridcolor\":\"white\",\"startlinecolor\":\"#2a3f5f\"},\"type\":\"carpet\"}],\"choropleth\":[{\"colorbar\":{\"outlinewidth\":0,\"ticks\":\"\"},\"type\":\"choropleth\"}],\"contour\":[{\"colorbar\":{\"outlinewidth\":0,\"ticks\":\"\"},\"colorscale\":[[0.0,\"#0d0887\"],[0.1111111111111111,\"#46039f\"],[0.2222222222222222,\"#7201a8\"],[0.3333333333333333,\"#9c179e\"],[0.4444444444444444,\"#bd3786\"],[0.5555555555555556,\"#d8576b\"],[0.6666666666666666,\"#ed7953\"],[0.7777777777777778,\"#fb9f3a\"],[0.8888888888888888,\"#fdca26\"],[1.0,\"#f0f921\"]],\"type\":\"contour\"}],\"contourcarpet\":[{\"colorbar\":{\"outlinewidth\":0,\"ticks\":\"\"},\"type\":\"contourcarpet\"}],\"heatmap\":[{\"colorbar\":{\"outlinewidth\":0,\"ticks\":\"\"},\"colorscale\":[[0.0,\"#0d0887\"],[0.1111111111111111,\"#46039f\"],[0.2222222222222222,\"#7201a8\"],[0.3333333333333333,\"#9c179e\"],[0.4444444444444444,\"#bd3786\"],[0.5555555555555556,\"#d8576b\"],[0.6666666666666666,\"#ed7953\"],[0.7777777777777778,\"#fb9f3a\"],[0.8888888888888888,\"#fdca26\"],[1.0,\"#f0f921\"]],\"type\":\"heatmap\"}],\"heatmapgl\":[{\"colorbar\":{\"outlinewidth\":0,\"ticks\":\"\"},\"colorscale\":[[0.0,\"#0d0887\"],[0.1111111111111111,\"#46039f\"],[0.2222222222222222,\"#7201a8\"],[0.3333333333333333,\"#9c179e\"],[0.4444444444444444,\"#bd3786\"],[0.5555555555555556,\"#d8576b\"],[0.6666666666666666,\"#ed7953\"],[0.7777777777777778,\"#fb9f3a\"],[0.8888888888888888,\"#fdca26\"],[1.0,\"#f0f921\"]],\"type\":\"heatmapgl\"}],\"histogram\":[{\"marker\":{\"pattern\":{\"fillmode\":\"overlay\",\"size\":10,\"solidity\":0.2}},\"type\":\"histogram\"}],\"histogram2d\":[{\"colorbar\":{\"outlinewidth\":0,\"ticks\":\"\"},\"colorscale\":[[0.0,\"#0d0887\"],[0.1111111111111111,\"#46039f\"],[0.2222222222222222,\"#7201a8\"],[0.3333333333333333,\"#9c179e\"],[0.4444444444444444,\"#bd3786\"],[0.5555555555555556,\"#d8576b\"],[0.6666666666666666,\"#ed7953\"],[0.7777777777777778,\"#fb9f3a\"],[0.8888888888888888,\"#fdca26\"],[1.0,\"#f0f921\"]],\"type\":\"histogram2d\"}],\"histogram2dcontour\":[{\"colorbar\":{\"outlinewidth\":0,\"ticks\":\"\"},\"colorscale\":[[0.0,\"#0d0887\"],[0.1111111111111111,\"#46039f\"],[0.2222222222222222,\"#7201a8\"],[0.3333333333333333,\"#9c179e\"],[0.4444444444444444,\"#bd3786\"],[0.5555555555555556,\"#d8576b\"],[0.6666666666666666,\"#ed7953\"],[0.7777777777777778,\"#fb9f3a\"],[0.8888888888888888,\"#fdca26\"],[1.0,\"#f0f921\"]],\"type\":\"histogram2dcontour\"}],\"mesh3d\":[{\"colorbar\":{\"outlinewidth\":0,\"ticks\":\"\"},\"type\":\"mesh3d\"}],\"parcoords\":[{\"line\":{\"colorbar\":{\"outlinewidth\":0,\"ticks\":\"\"}},\"type\":\"parcoords\"}],\"pie\":[{\"automargin\":true,\"type\":\"pie\"}],\"scatter\":[{\"marker\":{\"colorbar\":{\"outlinewidth\":0,\"ticks\":\"\"}},\"type\":\"scatter\"}],\"scatter3d\":[{\"line\":{\"colorbar\":{\"outlinewidth\":0,\"ticks\":\"\"}},\"marker\":{\"colorbar\":{\"outlinewidth\":0,\"ticks\":\"\"}},\"type\":\"scatter3d\"}],\"scattercarpet\":[{\"marker\":{\"colorbar\":{\"outlinewidth\":0,\"ticks\":\"\"}},\"type\":\"scattercarpet\"}],\"scattergeo\":[{\"marker\":{\"colorbar\":{\"outlinewidth\":0,\"ticks\":\"\"}},\"type\":\"scattergeo\"}],\"scattergl\":[{\"marker\":{\"colorbar\":{\"outlinewidth\":0,\"ticks\":\"\"}},\"type\":\"scattergl\"}],\"scattermapbox\":[{\"marker\":{\"colorbar\":{\"outlinewidth\":0,\"ticks\":\"\"}},\"type\":\"scattermapbox\"}],\"scatterpolar\":[{\"marker\":{\"colorbar\":{\"outlinewidth\":0,\"ticks\":\"\"}},\"type\":\"scatterpolar\"}],\"scatterpolargl\":[{\"marker\":{\"colorbar\":{\"outlinewidth\":0,\"ticks\":\"\"}},\"type\":\"scatterpolargl\"}],\"scatterternary\":[{\"marker\":{\"colorbar\":{\"outlinewidth\":0,\"ticks\":\"\"}},\"type\":\"scatterternary\"}],\"surface\":[{\"colorbar\":{\"outlinewidth\":0,\"ticks\":\"\"},\"colorscale\":[[0.0,\"#0d0887\"],[0.1111111111111111,\"#46039f\"],[0.2222222222222222,\"#7201a8\"],[0.3333333333333333,\"#9c179e\"],[0.4444444444444444,\"#bd3786\"],[0.5555555555555556,\"#d8576b\"],[0.6666666666666666,\"#ed7953\"],[0.7777777777777778,\"#fb9f3a\"],[0.8888888888888888,\"#fdca26\"],[1.0,\"#f0f921\"]],\"type\":\"surface\"}],\"table\":[{\"cells\":{\"fill\":{\"color\":\"#EBF0F8\"},\"line\":{\"color\":\"white\"}},\"header\":{\"fill\":{\"color\":\"#C8D4E3\"},\"line\":{\"color\":\"white\"}},\"type\":\"table\"}]},\"layout\":{\"annotationdefaults\":{\"arrowcolor\":\"#2a3f5f\",\"arrowhead\":0,\"arrowwidth\":1},\"autotypenumbers\":\"strict\",\"coloraxis\":{\"colorbar\":{\"outlinewidth\":0,\"ticks\":\"\"}},\"colorscale\":{\"diverging\":[[0,\"#8e0152\"],[0.1,\"#c51b7d\"],[0.2,\"#de77ae\"],[0.3,\"#f1b6da\"],[0.4,\"#fde0ef\"],[0.5,\"#f7f7f7\"],[0.6,\"#e6f5d0\"],[0.7,\"#b8e186\"],[0.8,\"#7fbc41\"],[0.9,\"#4d9221\"],[1,\"#276419\"]],\"sequential\":[[0.0,\"#0d0887\"],[0.1111111111111111,\"#46039f\"],[0.2222222222222222,\"#7201a8\"],[0.3333333333333333,\"#9c179e\"],[0.4444444444444444,\"#bd3786\"],[0.5555555555555556,\"#d8576b\"],[0.6666666666666666,\"#ed7953\"],[0.7777777777777778,\"#fb9f3a\"],[0.8888888888888888,\"#fdca26\"],[1.0,\"#f0f921\"]],\"sequentialminus\":[[0.0,\"#0d0887\"],[0.1111111111111111,\"#46039f\"],[0.2222222222222222,\"#7201a8\"],[0.3333333333333333,\"#9c179e\"],[0.4444444444444444,\"#bd3786\"],[0.5555555555555556,\"#d8576b\"],[0.6666666666666666,\"#ed7953\"],[0.7777777777777778,\"#fb9f3a\"],[0.8888888888888888,\"#fdca26\"],[1.0,\"#f0f921\"]]},\"colorway\":[\"#636efa\",\"#EF553B\",\"#00cc96\",\"#ab63fa\",\"#FFA15A\",\"#19d3f3\",\"#FF6692\",\"#B6E880\",\"#FF97FF\",\"#FECB52\"],\"font\":{\"color\":\"#2a3f5f\"},\"geo\":{\"bgcolor\":\"white\",\"lakecolor\":\"white\",\"landcolor\":\"#E5ECF6\",\"showlakes\":true,\"showland\":true,\"subunitcolor\":\"white\"},\"hoverlabel\":{\"align\":\"left\"},\"hovermode\":\"closest\",\"mapbox\":{\"style\":\"light\"},\"paper_bgcolor\":\"white\",\"plot_bgcolor\":\"#E5ECF6\",\"polar\":{\"angularaxis\":{\"gridcolor\":\"white\",\"linecolor\":\"white\",\"ticks\":\"\"},\"bgcolor\":\"#E5ECF6\",\"radialaxis\":{\"gridcolor\":\"white\",\"linecolor\":\"white\",\"ticks\":\"\"}},\"scene\":{\"xaxis\":{\"backgroundcolor\":\"#E5ECF6\",\"gridcolor\":\"white\",\"gridwidth\":2,\"linecolor\":\"white\",\"showbackground\":true,\"ticks\":\"\",\"zerolinecolor\":\"white\"},\"yaxis\":{\"backgroundcolor\":\"#E5ECF6\",\"gridcolor\":\"white\",\"gridwidth\":2,\"linecolor\":\"white\",\"showbackground\":true,\"ticks\":\"\",\"zerolinecolor\":\"white\"},\"zaxis\":{\"backgroundcolor\":\"#E5ECF6\",\"gridcolor\":\"white\",\"gridwidth\":2,\"linecolor\":\"white\",\"showbackground\":true,\"ticks\":\"\",\"zerolinecolor\":\"white\"}},\"shapedefaults\":{\"line\":{\"color\":\"#2a3f5f\"}},\"ternary\":{\"aaxis\":{\"gridcolor\":\"white\",\"linecolor\":\"white\",\"ticks\":\"\"},\"baxis\":{\"gridcolor\":\"white\",\"linecolor\":\"white\",\"ticks\":\"\"},\"bgcolor\":\"#E5ECF6\",\"caxis\":{\"gridcolor\":\"white\",\"linecolor\":\"white\",\"ticks\":\"\"}},\"title\":{\"x\":0.05},\"xaxis\":{\"automargin\":true,\"gridcolor\":\"white\",\"linecolor\":\"white\",\"ticks\":\"\",\"title\":{\"standoff\":15},\"zerolinecolor\":\"white\",\"zerolinewidth\":2},\"yaxis\":{\"automargin\":true,\"gridcolor\":\"white\",\"linecolor\":\"white\",\"ticks\":\"\",\"title\":{\"standoff\":15},\"zerolinecolor\":\"white\",\"zerolinewidth\":2}}},\"xaxis\":{\"anchor\":\"y\",\"domain\":[0.0,1.0],\"title\":{\"text\":\"Food\"}},\"yaxis\":{\"anchor\":\"x\",\"domain\":[0.0,1.0],\"title\":{\"text\":\"Calories\"}},\"coloraxis\":{\"colorbar\":{\"title\":{\"text\":\"Calories\"}},\"colorscale\":[[0.0,\"#0d0887\"],[0.1111111111111111,\"#46039f\"],[0.2222222222222222,\"#7201a8\"],[0.3333333333333333,\"#9c179e\"],[0.4444444444444444,\"#bd3786\"],[0.5555555555555556,\"#d8576b\"],[0.6666666666666666,\"#ed7953\"],[0.7777777777777778,\"#fb9f3a\"],[0.8888888888888888,\"#fdca26\"],[1.0,\"#f0f921\"]]},\"legend\":{\"tracegroupgap\":0},\"title\":{\"text\":\" Top 10 calorie rich foods\"},\"barmode\":\"relative\"},                        {\"responsive\": true}                    ).then(function(){\n",
              "                            \n",
              "var gd = document.getElementById('b7490604-bca8-46af-aa2d-36ed7d384d26');\n",
              "var x = new MutationObserver(function (mutations, observer) {{\n",
              "        var display = window.getComputedStyle(gd).display;\n",
              "        if (!display || display === 'none') {{\n",
              "            console.log([gd, 'removed!']);\n",
              "            Plotly.purge(gd);\n",
              "            observer.disconnect();\n",
              "        }}\n",
              "}});\n",
              "\n",
              "// Listen for the removal of the full notebook cells\n",
              "var notebookContainer = gd.closest('#notebook-container');\n",
              "if (notebookContainer) {{\n",
              "    x.observe(notebookContainer, {childList: true});\n",
              "}}\n",
              "\n",
              "// Listen for the clearing of the current output cell\n",
              "var outputEl = gd.closest('.output');\n",
              "if (outputEl) {{\n",
              "    x.observe(outputEl, {childList: true});\n",
              "}}\n",
              "\n",
              "                        })                };                            </script>        </div>\n",
              "</body>\n",
              "</html>"
            ]
          },
          "metadata": {}
        }
      ]
    },
    {
      "cell_type": "markdown",
      "source": [
        "강화 우유는 칼로리가 가장 높고, 흰 빵이 그 뒤를 잇는다. 또한, 통밀이 어떻게 가장 많은 단백질을 가지고 있지만 거의 같은 양의 칼로리를 가지고 있는지 보세요. 라드는 대부분의 칼로리를 가진 지방 공급원이며 아이스크림 1/2컵이 디저트 부문에서 1위를 차지합니다.\n"
      ],
      "metadata": {
        "id": "kBXuqLHizy56"
      }
    },
    {
      "cell_type": "markdown",
      "source": [
        "## 지방 함량\n",
        "\n",
        "일반적으로, 지방 공급원은 종종 무시된다. 하지만, 건강한 내장을 위해서는 어느 정도의 지방이 필요합니다.\n",
        "기름진 음식을 살펴봅시다."
      ],
      "metadata": {
        "id": "36hhAtKXz8CM"
      }
    },
    {
      "cell_type": "code",
      "source": [
        "fats= nutrients.sort_values(by='Fat', ascending= False)\n",
        "top_20_fat=fats.head(20)\n",
        "fig = px.bar(top_20_fat, x='Food', y='Calories', color='Calories', title=' Fat Content and Calories')\n",
        "fig.show()"
      ],
      "metadata": {
        "colab": {
          "base_uri": "https://localhost:8080/",
          "height": 542
        },
        "id": "SqEB8fSEvpoq",
        "outputId": "2a5bc686-c43c-47d4-827f-dbcd29f705bc"
      },
      "execution_count": null,
      "outputs": [
        {
          "output_type": "display_data",
          "data": {
            "text/html": [
              "<html>\n",
              "<head><meta charset=\"utf-8\" /></head>\n",
              "<body>\n",
              "    <div>            <script src=\"https://cdnjs.cloudflare.com/ajax/libs/mathjax/2.7.5/MathJax.js?config=TeX-AMS-MML_SVG\"></script><script type=\"text/javascript\">if (window.MathJax) {MathJax.Hub.Config({SVG: {font: \"STIX-Web\"}});}</script>                <script type=\"text/javascript\">window.PlotlyConfig = {MathJaxConfig: 'local'};</script>\n",
              "        <script src=\"https://cdn.plot.ly/plotly-2.8.3.min.js\"></script>                <div id=\"0171b91a-1149-462f-9efb-8af3bcddf62f\" class=\"plotly-graph-div\" style=\"height:525px; width:100%;\"></div>            <script type=\"text/javascript\">                                    window.PLOTLYENV=window.PLOTLYENV || {};                                    if (document.getElementById(\"0171b91a-1149-462f-9efb-8af3bcddf62f\")) {                    Plotly.newPlot(                        \"0171b91a-1149-462f-9efb-8af3bcddf62f\",                        [{\"alignmentgroup\":\"True\",\"hovertemplate\":\"Food=%{x}<br>Calories=%{marker.color}<extra></extra>\",\"legendgroup\":\"\",\"marker\":{\"color\":[231.0,113.0,113.0,992.0,665.0,806.0,457.0,430.0,475.0,1373.0,660.0,439.0,425.0,390.0,480.0,343.0,392.0,325.0,480.0,370.0],\"coloraxis\":\"coloraxis\",\"pattern\":{\"shape\":\"\"}},\"name\":\"\",\"offsetgroup\":\"\",\"orientation\":\"v\",\"showlegend\":false,\"textposition\":\"auto\",\"x\":[\"Oysters\",\"Butter\",\"Butter\",\"Lard\",\"Hydrogenated cooking fat\",\"Margarine\",\"Brazil nuts\",\"or whipping\",\"Pork sausage\",\"Fortified milk\",\"Cows' milk\",\"roasted and salted\",\"Almonds\",\"Roast beef\",\"Lamb chop broiled\",\"Pecans\",\"Cashews\",\"Walnuts\",\"Pot-pie\",\"Duck domestic\"],\"xaxis\":\"x\",\"y\":[231.0,113.0,113.0,992.0,665.0,806.0,457.0,430.0,475.0,1373.0,660.0,439.0,425.0,390.0,480.0,343.0,392.0,325.0,480.0,370.0],\"yaxis\":\"y\",\"type\":\"bar\"}],                        {\"template\":{\"data\":{\"bar\":[{\"error_x\":{\"color\":\"#2a3f5f\"},\"error_y\":{\"color\":\"#2a3f5f\"},\"marker\":{\"line\":{\"color\":\"#E5ECF6\",\"width\":0.5},\"pattern\":{\"fillmode\":\"overlay\",\"size\":10,\"solidity\":0.2}},\"type\":\"bar\"}],\"barpolar\":[{\"marker\":{\"line\":{\"color\":\"#E5ECF6\",\"width\":0.5},\"pattern\":{\"fillmode\":\"overlay\",\"size\":10,\"solidity\":0.2}},\"type\":\"barpolar\"}],\"carpet\":[{\"aaxis\":{\"endlinecolor\":\"#2a3f5f\",\"gridcolor\":\"white\",\"linecolor\":\"white\",\"minorgridcolor\":\"white\",\"startlinecolor\":\"#2a3f5f\"},\"baxis\":{\"endlinecolor\":\"#2a3f5f\",\"gridcolor\":\"white\",\"linecolor\":\"white\",\"minorgridcolor\":\"white\",\"startlinecolor\":\"#2a3f5f\"},\"type\":\"carpet\"}],\"choropleth\":[{\"colorbar\":{\"outlinewidth\":0,\"ticks\":\"\"},\"type\":\"choropleth\"}],\"contour\":[{\"colorbar\":{\"outlinewidth\":0,\"ticks\":\"\"},\"colorscale\":[[0.0,\"#0d0887\"],[0.1111111111111111,\"#46039f\"],[0.2222222222222222,\"#7201a8\"],[0.3333333333333333,\"#9c179e\"],[0.4444444444444444,\"#bd3786\"],[0.5555555555555556,\"#d8576b\"],[0.6666666666666666,\"#ed7953\"],[0.7777777777777778,\"#fb9f3a\"],[0.8888888888888888,\"#fdca26\"],[1.0,\"#f0f921\"]],\"type\":\"contour\"}],\"contourcarpet\":[{\"colorbar\":{\"outlinewidth\":0,\"ticks\":\"\"},\"type\":\"contourcarpet\"}],\"heatmap\":[{\"colorbar\":{\"outlinewidth\":0,\"ticks\":\"\"},\"colorscale\":[[0.0,\"#0d0887\"],[0.1111111111111111,\"#46039f\"],[0.2222222222222222,\"#7201a8\"],[0.3333333333333333,\"#9c179e\"],[0.4444444444444444,\"#bd3786\"],[0.5555555555555556,\"#d8576b\"],[0.6666666666666666,\"#ed7953\"],[0.7777777777777778,\"#fb9f3a\"],[0.8888888888888888,\"#fdca26\"],[1.0,\"#f0f921\"]],\"type\":\"heatmap\"}],\"heatmapgl\":[{\"colorbar\":{\"outlinewidth\":0,\"ticks\":\"\"},\"colorscale\":[[0.0,\"#0d0887\"],[0.1111111111111111,\"#46039f\"],[0.2222222222222222,\"#7201a8\"],[0.3333333333333333,\"#9c179e\"],[0.4444444444444444,\"#bd3786\"],[0.5555555555555556,\"#d8576b\"],[0.6666666666666666,\"#ed7953\"],[0.7777777777777778,\"#fb9f3a\"],[0.8888888888888888,\"#fdca26\"],[1.0,\"#f0f921\"]],\"type\":\"heatmapgl\"}],\"histogram\":[{\"marker\":{\"pattern\":{\"fillmode\":\"overlay\",\"size\":10,\"solidity\":0.2}},\"type\":\"histogram\"}],\"histogram2d\":[{\"colorbar\":{\"outlinewidth\":0,\"ticks\":\"\"},\"colorscale\":[[0.0,\"#0d0887\"],[0.1111111111111111,\"#46039f\"],[0.2222222222222222,\"#7201a8\"],[0.3333333333333333,\"#9c179e\"],[0.4444444444444444,\"#bd3786\"],[0.5555555555555556,\"#d8576b\"],[0.6666666666666666,\"#ed7953\"],[0.7777777777777778,\"#fb9f3a\"],[0.8888888888888888,\"#fdca26\"],[1.0,\"#f0f921\"]],\"type\":\"histogram2d\"}],\"histogram2dcontour\":[{\"colorbar\":{\"outlinewidth\":0,\"ticks\":\"\"},\"colorscale\":[[0.0,\"#0d0887\"],[0.1111111111111111,\"#46039f\"],[0.2222222222222222,\"#7201a8\"],[0.3333333333333333,\"#9c179e\"],[0.4444444444444444,\"#bd3786\"],[0.5555555555555556,\"#d8576b\"],[0.6666666666666666,\"#ed7953\"],[0.7777777777777778,\"#fb9f3a\"],[0.8888888888888888,\"#fdca26\"],[1.0,\"#f0f921\"]],\"type\":\"histogram2dcontour\"}],\"mesh3d\":[{\"colorbar\":{\"outlinewidth\":0,\"ticks\":\"\"},\"type\":\"mesh3d\"}],\"parcoords\":[{\"line\":{\"colorbar\":{\"outlinewidth\":0,\"ticks\":\"\"}},\"type\":\"parcoords\"}],\"pie\":[{\"automargin\":true,\"type\":\"pie\"}],\"scatter\":[{\"marker\":{\"colorbar\":{\"outlinewidth\":0,\"ticks\":\"\"}},\"type\":\"scatter\"}],\"scatter3d\":[{\"line\":{\"colorbar\":{\"outlinewidth\":0,\"ticks\":\"\"}},\"marker\":{\"colorbar\":{\"outlinewidth\":0,\"ticks\":\"\"}},\"type\":\"scatter3d\"}],\"scattercarpet\":[{\"marker\":{\"colorbar\":{\"outlinewidth\":0,\"ticks\":\"\"}},\"type\":\"scattercarpet\"}],\"scattergeo\":[{\"marker\":{\"colorbar\":{\"outlinewidth\":0,\"ticks\":\"\"}},\"type\":\"scattergeo\"}],\"scattergl\":[{\"marker\":{\"colorbar\":{\"outlinewidth\":0,\"ticks\":\"\"}},\"type\":\"scattergl\"}],\"scattermapbox\":[{\"marker\":{\"colorbar\":{\"outlinewidth\":0,\"ticks\":\"\"}},\"type\":\"scattermapbox\"}],\"scatterpolar\":[{\"marker\":{\"colorbar\":{\"outlinewidth\":0,\"ticks\":\"\"}},\"type\":\"scatterpolar\"}],\"scatterpolargl\":[{\"marker\":{\"colorbar\":{\"outlinewidth\":0,\"ticks\":\"\"}},\"type\":\"scatterpolargl\"}],\"scatterternary\":[{\"marker\":{\"colorbar\":{\"outlinewidth\":0,\"ticks\":\"\"}},\"type\":\"scatterternary\"}],\"surface\":[{\"colorbar\":{\"outlinewidth\":0,\"ticks\":\"\"},\"colorscale\":[[0.0,\"#0d0887\"],[0.1111111111111111,\"#46039f\"],[0.2222222222222222,\"#7201a8\"],[0.3333333333333333,\"#9c179e\"],[0.4444444444444444,\"#bd3786\"],[0.5555555555555556,\"#d8576b\"],[0.6666666666666666,\"#ed7953\"],[0.7777777777777778,\"#fb9f3a\"],[0.8888888888888888,\"#fdca26\"],[1.0,\"#f0f921\"]],\"type\":\"surface\"}],\"table\":[{\"cells\":{\"fill\":{\"color\":\"#EBF0F8\"},\"line\":{\"color\":\"white\"}},\"header\":{\"fill\":{\"color\":\"#C8D4E3\"},\"line\":{\"color\":\"white\"}},\"type\":\"table\"}]},\"layout\":{\"annotationdefaults\":{\"arrowcolor\":\"#2a3f5f\",\"arrowhead\":0,\"arrowwidth\":1},\"autotypenumbers\":\"strict\",\"coloraxis\":{\"colorbar\":{\"outlinewidth\":0,\"ticks\":\"\"}},\"colorscale\":{\"diverging\":[[0,\"#8e0152\"],[0.1,\"#c51b7d\"],[0.2,\"#de77ae\"],[0.3,\"#f1b6da\"],[0.4,\"#fde0ef\"],[0.5,\"#f7f7f7\"],[0.6,\"#e6f5d0\"],[0.7,\"#b8e186\"],[0.8,\"#7fbc41\"],[0.9,\"#4d9221\"],[1,\"#276419\"]],\"sequential\":[[0.0,\"#0d0887\"],[0.1111111111111111,\"#46039f\"],[0.2222222222222222,\"#7201a8\"],[0.3333333333333333,\"#9c179e\"],[0.4444444444444444,\"#bd3786\"],[0.5555555555555556,\"#d8576b\"],[0.6666666666666666,\"#ed7953\"],[0.7777777777777778,\"#fb9f3a\"],[0.8888888888888888,\"#fdca26\"],[1.0,\"#f0f921\"]],\"sequentialminus\":[[0.0,\"#0d0887\"],[0.1111111111111111,\"#46039f\"],[0.2222222222222222,\"#7201a8\"],[0.3333333333333333,\"#9c179e\"],[0.4444444444444444,\"#bd3786\"],[0.5555555555555556,\"#d8576b\"],[0.6666666666666666,\"#ed7953\"],[0.7777777777777778,\"#fb9f3a\"],[0.8888888888888888,\"#fdca26\"],[1.0,\"#f0f921\"]]},\"colorway\":[\"#636efa\",\"#EF553B\",\"#00cc96\",\"#ab63fa\",\"#FFA15A\",\"#19d3f3\",\"#FF6692\",\"#B6E880\",\"#FF97FF\",\"#FECB52\"],\"font\":{\"color\":\"#2a3f5f\"},\"geo\":{\"bgcolor\":\"white\",\"lakecolor\":\"white\",\"landcolor\":\"#E5ECF6\",\"showlakes\":true,\"showland\":true,\"subunitcolor\":\"white\"},\"hoverlabel\":{\"align\":\"left\"},\"hovermode\":\"closest\",\"mapbox\":{\"style\":\"light\"},\"paper_bgcolor\":\"white\",\"plot_bgcolor\":\"#E5ECF6\",\"polar\":{\"angularaxis\":{\"gridcolor\":\"white\",\"linecolor\":\"white\",\"ticks\":\"\"},\"bgcolor\":\"#E5ECF6\",\"radialaxis\":{\"gridcolor\":\"white\",\"linecolor\":\"white\",\"ticks\":\"\"}},\"scene\":{\"xaxis\":{\"backgroundcolor\":\"#E5ECF6\",\"gridcolor\":\"white\",\"gridwidth\":2,\"linecolor\":\"white\",\"showbackground\":true,\"ticks\":\"\",\"zerolinecolor\":\"white\"},\"yaxis\":{\"backgroundcolor\":\"#E5ECF6\",\"gridcolor\":\"white\",\"gridwidth\":2,\"linecolor\":\"white\",\"showbackground\":true,\"ticks\":\"\",\"zerolinecolor\":\"white\"},\"zaxis\":{\"backgroundcolor\":\"#E5ECF6\",\"gridcolor\":\"white\",\"gridwidth\":2,\"linecolor\":\"white\",\"showbackground\":true,\"ticks\":\"\",\"zerolinecolor\":\"white\"}},\"shapedefaults\":{\"line\":{\"color\":\"#2a3f5f\"}},\"ternary\":{\"aaxis\":{\"gridcolor\":\"white\",\"linecolor\":\"white\",\"ticks\":\"\"},\"baxis\":{\"gridcolor\":\"white\",\"linecolor\":\"white\",\"ticks\":\"\"},\"bgcolor\":\"#E5ECF6\",\"caxis\":{\"gridcolor\":\"white\",\"linecolor\":\"white\",\"ticks\":\"\"}},\"title\":{\"x\":0.05},\"xaxis\":{\"automargin\":true,\"gridcolor\":\"white\",\"linecolor\":\"white\",\"ticks\":\"\",\"title\":{\"standoff\":15},\"zerolinecolor\":\"white\",\"zerolinewidth\":2},\"yaxis\":{\"automargin\":true,\"gridcolor\":\"white\",\"linecolor\":\"white\",\"ticks\":\"\",\"title\":{\"standoff\":15},\"zerolinecolor\":\"white\",\"zerolinewidth\":2}}},\"xaxis\":{\"anchor\":\"y\",\"domain\":[0.0,1.0],\"title\":{\"text\":\"Food\"}},\"yaxis\":{\"anchor\":\"x\",\"domain\":[0.0,1.0],\"title\":{\"text\":\"Calories\"}},\"coloraxis\":{\"colorbar\":{\"title\":{\"text\":\"Calories\"}},\"colorscale\":[[0.0,\"#0d0887\"],[0.1111111111111111,\"#46039f\"],[0.2222222222222222,\"#7201a8\"],[0.3333333333333333,\"#9c179e\"],[0.4444444444444444,\"#bd3786\"],[0.5555555555555556,\"#d8576b\"],[0.6666666666666666,\"#ed7953\"],[0.7777777777777778,\"#fb9f3a\"],[0.8888888888888888,\"#fdca26\"],[1.0,\"#f0f921\"]]},\"legend\":{\"tracegroupgap\":0},\"title\":{\"text\":\" Fat Content and Calories\"},\"barmode\":\"relative\"},                        {\"responsive\": true}                    ).then(function(){\n",
              "                            \n",
              "var gd = document.getElementById('0171b91a-1149-462f-9efb-8af3bcddf62f');\n",
              "var x = new MutationObserver(function (mutations, observer) {{\n",
              "        var display = window.getComputedStyle(gd).display;\n",
              "        if (!display || display === 'none') {{\n",
              "            console.log([gd, 'removed!']);\n",
              "            Plotly.purge(gd);\n",
              "            observer.disconnect();\n",
              "        }}\n",
              "}});\n",
              "\n",
              "// Listen for the removal of the full notebook cells\n",
              "var notebookContainer = gd.closest('#notebook-container');\n",
              "if (notebookContainer) {{\n",
              "    x.observe(notebookContainer, {childList: true});\n",
              "}}\n",
              "\n",
              "// Listen for the clearing of the current output cell\n",
              "var outputEl = gd.closest('.output');\n",
              "if (outputEl) {{\n",
              "    x.observe(outputEl, {childList: true});\n",
              "}}\n",
              "\n",
              "                        })                };                            </script>        </div>\n",
              "</body>\n",
              "</html>"
            ]
          },
          "metadata": {}
        }
      ]
    },
    {
      "cell_type": "markdown",
      "source": [
        "그러므로, 굴과 버터는 칼로리와 지방의 가장 큰 조합을 가지고 있고, 그 다음이 라드입니다.\n"
      ],
      "metadata": {
        "id": "zRyeFXY70RMb"
      }
    },
    {
      "cell_type": "markdown",
      "source": [
        "## 카테고리 분석\n",
        "\n",
        "데이터를 카테고리로 그룹화하면 모든 메트릭의 총 개수를 얻을 수 있으므로 카테고리를 분석할 수 있습니다"
      ],
      "metadata": {
        "id": "89wSS16z0TQt"
      }
    },
    {
      "cell_type": "code",
      "source": [
        "category_dist=nutrients.groupby(['Category']).sum()\n",
        "category_dist\n"
      ],
      "metadata": {
        "colab": {
          "base_uri": "https://localhost:8080/",
          "height": 582
        },
        "id": "nFyaiHd3vq27",
        "outputId": "e63360f8-f3a1-4210-d3d6-9f54f70eebd0"
      },
      "execution_count": null,
      "outputs": [
        {
          "output_type": "execute_result",
          "data": {
            "text/plain": [
              "                               Grams  Calories  Protein  Fat  Sat.Fat   Fiber  \\\n",
              "Category                                                                        \n",
              "Breads cereals fastfoodgrains   5253   11921.0      403  207     99.0  115.91   \n",
              "Dairy products                  7412    8434.0      503  396    322.0    4.40   \n",
              "Desserts sweets                 2958    6608.0       78  163    150.0   20.50   \n",
              "DrinksAlcohol Beverages         3284    1112.0        0    0      0.0    0.00   \n",
              "Fats Oils Shortenings            695    3629.0      234  631    536.0  234.00   \n",
              "Fish Seafood                    1807    2757.0      588  338    252.0  235.00   \n",
              "Fruits A-F                      3844    3328.0       29   20     12.0   33.50   \n",
              "Fruits G-P                      5412    4054.0       28   25     21.0   21.10   \n",
              "Fruits R-Z                      1973    1228.0        7    1      0.0   17.40   \n",
              "Jams Jellies                     422    1345.0        0    0      0.0    8.00   \n",
              "Meat Poultry                    2724    7529.0      546  520    427.0    0.00   \n",
              "Seeds and Nuts                   682    4089.0      120  368    232.0   18.60   \n",
              "Soups                           2495    1191.0       59   41     43.0    4.00   \n",
              "Vegetables A-E                  3520    1804.0      101    9      6.0   36.30   \n",
              "Vegetables F-P                  1725     711.0       40    2      0.0   16.90   \n",
              "Vegetables R-Z                  3360    2694.0       98   76     44.0   26.20   \n",
              "\n",
              "                                Carbs  \n",
              "Category                               \n",
              "Breads cereals fastfoodgrains  2059.0  \n",
              "Dairy products                  651.0  \n",
              "Desserts sweets                1184.0  \n",
              "DrinksAlcohol Beverages         167.0  \n",
              "Fats Oils Shortenings           239.0  \n",
              "Fish Seafood                    263.0  \n",
              "Fruits A-F                      812.0  \n",
              "Fruits G-P                     1009.0  \n",
              "Fruits R-Z                      330.0  \n",
              "Jams Jellies                    345.0  \n",
              "Meat Poultry                     57.3  \n",
              "Seeds and Nuts                  140.0  \n",
              "Soups                           155.0  \n",
              "Vegetables A-E                  356.0  \n",
              "Vegetables F-P                  142.0  \n",
              "Vegetables R-Z                  447.0  "
            ],
            "text/html": [
              "\n",
              "  <div id=\"df-0116b96e-455b-44bf-8931-3551a0ad54b4\">\n",
              "    <div class=\"colab-df-container\">\n",
              "      <div>\n",
              "<style scoped>\n",
              "    .dataframe tbody tr th:only-of-type {\n",
              "        vertical-align: middle;\n",
              "    }\n",
              "\n",
              "    .dataframe tbody tr th {\n",
              "        vertical-align: top;\n",
              "    }\n",
              "\n",
              "    .dataframe thead th {\n",
              "        text-align: right;\n",
              "    }\n",
              "</style>\n",
              "<table border=\"1\" class=\"dataframe\">\n",
              "  <thead>\n",
              "    <tr style=\"text-align: right;\">\n",
              "      <th></th>\n",
              "      <th>Grams</th>\n",
              "      <th>Calories</th>\n",
              "      <th>Protein</th>\n",
              "      <th>Fat</th>\n",
              "      <th>Sat.Fat</th>\n",
              "      <th>Fiber</th>\n",
              "      <th>Carbs</th>\n",
              "    </tr>\n",
              "    <tr>\n",
              "      <th>Category</th>\n",
              "      <th></th>\n",
              "      <th></th>\n",
              "      <th></th>\n",
              "      <th></th>\n",
              "      <th></th>\n",
              "      <th></th>\n",
              "      <th></th>\n",
              "    </tr>\n",
              "  </thead>\n",
              "  <tbody>\n",
              "    <tr>\n",
              "      <th>Breads cereals fastfoodgrains</th>\n",
              "      <td>5253</td>\n",
              "      <td>11921.0</td>\n",
              "      <td>403</td>\n",
              "      <td>207</td>\n",
              "      <td>99.0</td>\n",
              "      <td>115.91</td>\n",
              "      <td>2059.0</td>\n",
              "    </tr>\n",
              "    <tr>\n",
              "      <th>Dairy products</th>\n",
              "      <td>7412</td>\n",
              "      <td>8434.0</td>\n",
              "      <td>503</td>\n",
              "      <td>396</td>\n",
              "      <td>322.0</td>\n",
              "      <td>4.40</td>\n",
              "      <td>651.0</td>\n",
              "    </tr>\n",
              "    <tr>\n",
              "      <th>Desserts sweets</th>\n",
              "      <td>2958</td>\n",
              "      <td>6608.0</td>\n",
              "      <td>78</td>\n",
              "      <td>163</td>\n",
              "      <td>150.0</td>\n",
              "      <td>20.50</td>\n",
              "      <td>1184.0</td>\n",
              "    </tr>\n",
              "    <tr>\n",
              "      <th>DrinksAlcohol Beverages</th>\n",
              "      <td>3284</td>\n",
              "      <td>1112.0</td>\n",
              "      <td>0</td>\n",
              "      <td>0</td>\n",
              "      <td>0.0</td>\n",
              "      <td>0.00</td>\n",
              "      <td>167.0</td>\n",
              "    </tr>\n",
              "    <tr>\n",
              "      <th>Fats Oils Shortenings</th>\n",
              "      <td>695</td>\n",
              "      <td>3629.0</td>\n",
              "      <td>234</td>\n",
              "      <td>631</td>\n",
              "      <td>536.0</td>\n",
              "      <td>234.00</td>\n",
              "      <td>239.0</td>\n",
              "    </tr>\n",
              "    <tr>\n",
              "      <th>Fish Seafood</th>\n",
              "      <td>1807</td>\n",
              "      <td>2757.0</td>\n",
              "      <td>588</td>\n",
              "      <td>338</td>\n",
              "      <td>252.0</td>\n",
              "      <td>235.00</td>\n",
              "      <td>263.0</td>\n",
              "    </tr>\n",
              "    <tr>\n",
              "      <th>Fruits A-F</th>\n",
              "      <td>3844</td>\n",
              "      <td>3328.0</td>\n",
              "      <td>29</td>\n",
              "      <td>20</td>\n",
              "      <td>12.0</td>\n",
              "      <td>33.50</td>\n",
              "      <td>812.0</td>\n",
              "    </tr>\n",
              "    <tr>\n",
              "      <th>Fruits G-P</th>\n",
              "      <td>5412</td>\n",
              "      <td>4054.0</td>\n",
              "      <td>28</td>\n",
              "      <td>25</td>\n",
              "      <td>21.0</td>\n",
              "      <td>21.10</td>\n",
              "      <td>1009.0</td>\n",
              "    </tr>\n",
              "    <tr>\n",
              "      <th>Fruits R-Z</th>\n",
              "      <td>1973</td>\n",
              "      <td>1228.0</td>\n",
              "      <td>7</td>\n",
              "      <td>1</td>\n",
              "      <td>0.0</td>\n",
              "      <td>17.40</td>\n",
              "      <td>330.0</td>\n",
              "    </tr>\n",
              "    <tr>\n",
              "      <th>Jams Jellies</th>\n",
              "      <td>422</td>\n",
              "      <td>1345.0</td>\n",
              "      <td>0</td>\n",
              "      <td>0</td>\n",
              "      <td>0.0</td>\n",
              "      <td>8.00</td>\n",
              "      <td>345.0</td>\n",
              "    </tr>\n",
              "    <tr>\n",
              "      <th>Meat Poultry</th>\n",
              "      <td>2724</td>\n",
              "      <td>7529.0</td>\n",
              "      <td>546</td>\n",
              "      <td>520</td>\n",
              "      <td>427.0</td>\n",
              "      <td>0.00</td>\n",
              "      <td>57.3</td>\n",
              "    </tr>\n",
              "    <tr>\n",
              "      <th>Seeds and Nuts</th>\n",
              "      <td>682</td>\n",
              "      <td>4089.0</td>\n",
              "      <td>120</td>\n",
              "      <td>368</td>\n",
              "      <td>232.0</td>\n",
              "      <td>18.60</td>\n",
              "      <td>140.0</td>\n",
              "    </tr>\n",
              "    <tr>\n",
              "      <th>Soups</th>\n",
              "      <td>2495</td>\n",
              "      <td>1191.0</td>\n",
              "      <td>59</td>\n",
              "      <td>41</td>\n",
              "      <td>43.0</td>\n",
              "      <td>4.00</td>\n",
              "      <td>155.0</td>\n",
              "    </tr>\n",
              "    <tr>\n",
              "      <th>Vegetables A-E</th>\n",
              "      <td>3520</td>\n",
              "      <td>1804.0</td>\n",
              "      <td>101</td>\n",
              "      <td>9</td>\n",
              "      <td>6.0</td>\n",
              "      <td>36.30</td>\n",
              "      <td>356.0</td>\n",
              "    </tr>\n",
              "    <tr>\n",
              "      <th>Vegetables F-P</th>\n",
              "      <td>1725</td>\n",
              "      <td>711.0</td>\n",
              "      <td>40</td>\n",
              "      <td>2</td>\n",
              "      <td>0.0</td>\n",
              "      <td>16.90</td>\n",
              "      <td>142.0</td>\n",
              "    </tr>\n",
              "    <tr>\n",
              "      <th>Vegetables R-Z</th>\n",
              "      <td>3360</td>\n",
              "      <td>2694.0</td>\n",
              "      <td>98</td>\n",
              "      <td>76</td>\n",
              "      <td>44.0</td>\n",
              "      <td>26.20</td>\n",
              "      <td>447.0</td>\n",
              "    </tr>\n",
              "  </tbody>\n",
              "</table>\n",
              "</div>\n",
              "      <button class=\"colab-df-convert\" onclick=\"convertToInteractive('df-0116b96e-455b-44bf-8931-3551a0ad54b4')\"\n",
              "              title=\"Convert this dataframe to an interactive table.\"\n",
              "              style=\"display:none;\">\n",
              "        \n",
              "  <svg xmlns=\"http://www.w3.org/2000/svg\" height=\"24px\"viewBox=\"0 0 24 24\"\n",
              "       width=\"24px\">\n",
              "    <path d=\"M0 0h24v24H0V0z\" fill=\"none\"/>\n",
              "    <path d=\"M18.56 5.44l.94 2.06.94-2.06 2.06-.94-2.06-.94-.94-2.06-.94 2.06-2.06.94zm-11 1L8.5 8.5l.94-2.06 2.06-.94-2.06-.94L8.5 2.5l-.94 2.06-2.06.94zm10 10l.94 2.06.94-2.06 2.06-.94-2.06-.94-.94-2.06-.94 2.06-2.06.94z\"/><path d=\"M17.41 7.96l-1.37-1.37c-.4-.4-.92-.59-1.43-.59-.52 0-1.04.2-1.43.59L10.3 9.45l-7.72 7.72c-.78.78-.78 2.05 0 2.83L4 21.41c.39.39.9.59 1.41.59.51 0 1.02-.2 1.41-.59l7.78-7.78 2.81-2.81c.8-.78.8-2.07 0-2.86zM5.41 20L4 18.59l7.72-7.72 1.47 1.35L5.41 20z\"/>\n",
              "  </svg>\n",
              "      </button>\n",
              "      \n",
              "  <style>\n",
              "    .colab-df-container {\n",
              "      display:flex;\n",
              "      flex-wrap:wrap;\n",
              "      gap: 12px;\n",
              "    }\n",
              "\n",
              "    .colab-df-convert {\n",
              "      background-color: #E8F0FE;\n",
              "      border: none;\n",
              "      border-radius: 50%;\n",
              "      cursor: pointer;\n",
              "      display: none;\n",
              "      fill: #1967D2;\n",
              "      height: 32px;\n",
              "      padding: 0 0 0 0;\n",
              "      width: 32px;\n",
              "    }\n",
              "\n",
              "    .colab-df-convert:hover {\n",
              "      background-color: #E2EBFA;\n",
              "      box-shadow: 0px 1px 2px rgba(60, 64, 67, 0.3), 0px 1px 3px 1px rgba(60, 64, 67, 0.15);\n",
              "      fill: #174EA6;\n",
              "    }\n",
              "\n",
              "    [theme=dark] .colab-df-convert {\n",
              "      background-color: #3B4455;\n",
              "      fill: #D2E3FC;\n",
              "    }\n",
              "\n",
              "    [theme=dark] .colab-df-convert:hover {\n",
              "      background-color: #434B5C;\n",
              "      box-shadow: 0px 1px 3px 1px rgba(0, 0, 0, 0.15);\n",
              "      filter: drop-shadow(0px 1px 2px rgba(0, 0, 0, 0.3));\n",
              "      fill: #FFFFFF;\n",
              "    }\n",
              "  </style>\n",
              "\n",
              "      <script>\n",
              "        const buttonEl =\n",
              "          document.querySelector('#df-0116b96e-455b-44bf-8931-3551a0ad54b4 button.colab-df-convert');\n",
              "        buttonEl.style.display =\n",
              "          google.colab.kernel.accessAllowed ? 'block' : 'none';\n",
              "\n",
              "        async function convertToInteractive(key) {\n",
              "          const element = document.querySelector('#df-0116b96e-455b-44bf-8931-3551a0ad54b4');\n",
              "          const dataTable =\n",
              "            await google.colab.kernel.invokeFunction('convertToInteractive',\n",
              "                                                     [key], {});\n",
              "          if (!dataTable) return;\n",
              "\n",
              "          const docLinkHtml = 'Like what you see? Visit the ' +\n",
              "            '<a target=\"_blank\" href=https://colab.research.google.com/notebooks/data_table.ipynb>data table notebook</a>'\n",
              "            + ' to learn more about interactive tables.';\n",
              "          element.innerHTML = '';\n",
              "          dataTable['output_type'] = 'display_data';\n",
              "          await google.colab.output.renderOutput(dataTable, element);\n",
              "          const docLink = document.createElement('div');\n",
              "          docLink.innerHTML = docLinkHtml;\n",
              "          element.appendChild(docLink);\n",
              "        }\n",
              "      </script>\n",
              "    </div>\n",
              "  </div>\n",
              "  "
            ]
          },
          "metadata": {},
          "execution_count": 37
        }
      ]
    },
    {
      "cell_type": "code",
      "source": [
        "category_dist=nutrients.groupby(['Category']).sum()\n",
        "from plotly.subplots import make_subplots\n",
        "import plotly.graph_objects as go\n",
        "\n",
        "fig = make_subplots(\n",
        "    rows=2, cols=3,\n",
        "    specs=[[{\"type\": \"domain\"},{\"type\": \"domain\"},{\"type\": \"domain\"}],[{\"type\": \"domain\"},{\"type\": \"domain\"},{\"type\": \"domain\"}]])\n",
        "\n",
        "fig.add_trace(go.Pie(values=category_dist['Calories'].values, title='CALORIES', labels=category_dist.index,marker=dict(colors=['#100b','#f00560'], line=dict(color='#FFFFFF', width=2.5))),\n",
        "              row=1, col=1)\n",
        "\n",
        "fig.add_trace(go.Pie(values=category_dist['Fat'].values,title='FAT', labels=category_dist.index,marker=dict(colors=['#100b','#f00560'], line=dict(color='#FFFFFF', width=2.5))),\n",
        "              row=1, col=2)\n",
        "\n",
        "fig.add_trace(go.Pie(values=category_dist['Protein'].values,title='PROTEIN', labels=category_dist.index,marker=dict(colors=['#100b','#f00560'], line=dict(color='#FFFFFF', width=2.5))),\n",
        "              row=1, col=3)\n",
        "\n",
        "fig.add_trace(go.Pie(values=category_dist['Fiber'].values,title='FIBER', labels=category_dist.index,marker=dict(colors=['#100b','#f00560'], line=dict(color='#FFFFFF', width=2.5))),\n",
        "              row=2, col=1)\n",
        "\n",
        "fig.add_trace(go.Pie(values=category_dist['Sat.Fat'].values,title='SAT.FAT', labels=category_dist.index,marker=dict(colors=['#100b','#f00560'], line=dict(color='#FFFFFF', width=2.5))),\n",
        "              row=2, col=2)\n",
        "\n",
        "fig.add_trace(go.Pie(values=category_dist['Carbs'].values,title='CARBS', labels=category_dist.index,marker=dict(colors=['#100b','#f00560'], line=dict(color='#FFFFFF', width=2.5))),\n",
        "              row=2, col=3)\n",
        "fig.update_layout(title_text=\"Category wise distribution of all metrics\",height=700, width=1000)\n",
        "\n",
        "fig.show()"
      ],
      "metadata": {
        "colab": {
          "base_uri": "https://localhost:8080/",
          "height": 717
        },
        "id": "1V95jlOMvuh8",
        "outputId": "1e1e2942-a429-4d5a-e4b4-c6a02b2a6c78"
      },
      "execution_count": null,
      "outputs": [
        {
          "output_type": "display_data",
          "data": {
            "text/html": [
              "<html>\n",
              "<head><meta charset=\"utf-8\" /></head>\n",
              "<body>\n",
              "    <div>            <script src=\"https://cdnjs.cloudflare.com/ajax/libs/mathjax/2.7.5/MathJax.js?config=TeX-AMS-MML_SVG\"></script><script type=\"text/javascript\">if (window.MathJax) {MathJax.Hub.Config({SVG: {font: \"STIX-Web\"}});}</script>                <script type=\"text/javascript\">window.PlotlyConfig = {MathJaxConfig: 'local'};</script>\n",
              "        <script src=\"https://cdn.plot.ly/plotly-2.8.3.min.js\"></script>                <div id=\"ef3d4f92-d5bf-4162-b83c-ea5afaea0aac\" class=\"plotly-graph-div\" style=\"height:700px; width:1000px;\"></div>            <script type=\"text/javascript\">                                    window.PLOTLYENV=window.PLOTLYENV || {};                                    if (document.getElementById(\"ef3d4f92-d5bf-4162-b83c-ea5afaea0aac\")) {                    Plotly.newPlot(                        \"ef3d4f92-d5bf-4162-b83c-ea5afaea0aac\",                        [{\"labels\":[\"Breads cereals fastfoodgrains\",\"Dairy products\",\"Desserts sweets\",\"DrinksAlcohol Beverages\",\"Fats Oils Shortenings\",\"Fish Seafood\",\"Fruits A-F\",\"Fruits G-P\",\"Fruits R-Z\",\"Jams Jellies\",\"Meat Poultry\",\"Seeds and Nuts\",\"Soups\",\"Vegetables A-E\",\"Vegetables F-P\",\"Vegetables R-Z\"],\"marker\":{\"colors\":[\"#100b\",\"#f00560\"],\"line\":{\"color\":\"#FFFFFF\",\"width\":2.5}},\"title\":{\"text\":\"CALORIES\"},\"values\":[11921.0,8434.0,6608.0,1112.0,3629.0,2757.0,3328.0,4054.0,1228.0,1345.0,7529.0,4089.0,1191.0,1804.0,711.0,2694.0],\"type\":\"pie\",\"domain\":{\"x\":[0.0,0.2888888888888889],\"y\":[0.575,1.0]}},{\"labels\":[\"Breads cereals fastfoodgrains\",\"Dairy products\",\"Desserts sweets\",\"DrinksAlcohol Beverages\",\"Fats Oils Shortenings\",\"Fish Seafood\",\"Fruits A-F\",\"Fruits G-P\",\"Fruits R-Z\",\"Jams Jellies\",\"Meat Poultry\",\"Seeds and Nuts\",\"Soups\",\"Vegetables A-E\",\"Vegetables F-P\",\"Vegetables R-Z\"],\"marker\":{\"colors\":[\"#100b\",\"#f00560\"],\"line\":{\"color\":\"#FFFFFF\",\"width\":2.5}},\"title\":{\"text\":\"FAT\"},\"values\":[207,396,163,0,631,338,20,25,1,0,520,368,41,9,2,76],\"type\":\"pie\",\"domain\":{\"x\":[0.35555555555555557,0.6444444444444445],\"y\":[0.575,1.0]}},{\"labels\":[\"Breads cereals fastfoodgrains\",\"Dairy products\",\"Desserts sweets\",\"DrinksAlcohol Beverages\",\"Fats Oils Shortenings\",\"Fish Seafood\",\"Fruits A-F\",\"Fruits G-P\",\"Fruits R-Z\",\"Jams Jellies\",\"Meat Poultry\",\"Seeds and Nuts\",\"Soups\",\"Vegetables A-E\",\"Vegetables F-P\",\"Vegetables R-Z\"],\"marker\":{\"colors\":[\"#100b\",\"#f00560\"],\"line\":{\"color\":\"#FFFFFF\",\"width\":2.5}},\"title\":{\"text\":\"PROTEIN\"},\"values\":[403,503,78,0,234,588,29,28,7,0,546,120,59,101,40,98],\"type\":\"pie\",\"domain\":{\"x\":[0.7111111111111111,1.0],\"y\":[0.575,1.0]}},{\"labels\":[\"Breads cereals fastfoodgrains\",\"Dairy products\",\"Desserts sweets\",\"DrinksAlcohol Beverages\",\"Fats Oils Shortenings\",\"Fish Seafood\",\"Fruits A-F\",\"Fruits G-P\",\"Fruits R-Z\",\"Jams Jellies\",\"Meat Poultry\",\"Seeds and Nuts\",\"Soups\",\"Vegetables A-E\",\"Vegetables F-P\",\"Vegetables R-Z\"],\"marker\":{\"colors\":[\"#100b\",\"#f00560\"],\"line\":{\"color\":\"#FFFFFF\",\"width\":2.5}},\"title\":{\"text\":\"FIBER\"},\"values\":[115.91,4.4,20.5,0.0,234.0,235.0,33.5,21.1,17.4,8.0,0.0,18.6,4.0,36.3,16.9,26.2],\"type\":\"pie\",\"domain\":{\"x\":[0.0,0.2888888888888889],\"y\":[0.0,0.425]}},{\"labels\":[\"Breads cereals fastfoodgrains\",\"Dairy products\",\"Desserts sweets\",\"DrinksAlcohol Beverages\",\"Fats Oils Shortenings\",\"Fish Seafood\",\"Fruits A-F\",\"Fruits G-P\",\"Fruits R-Z\",\"Jams Jellies\",\"Meat Poultry\",\"Seeds and Nuts\",\"Soups\",\"Vegetables A-E\",\"Vegetables F-P\",\"Vegetables R-Z\"],\"marker\":{\"colors\":[\"#100b\",\"#f00560\"],\"line\":{\"color\":\"#FFFFFF\",\"width\":2.5}},\"title\":{\"text\":\"SAT.FAT\"},\"values\":[99.0,322.0,150.0,0.0,536.0,252.0,12.0,21.0,0.0,0.0,427.0,232.0,43.0,6.0,0.0,44.0],\"type\":\"pie\",\"domain\":{\"x\":[0.35555555555555557,0.6444444444444445],\"y\":[0.0,0.425]}},{\"labels\":[\"Breads cereals fastfoodgrains\",\"Dairy products\",\"Desserts sweets\",\"DrinksAlcohol Beverages\",\"Fats Oils Shortenings\",\"Fish Seafood\",\"Fruits A-F\",\"Fruits G-P\",\"Fruits R-Z\",\"Jams Jellies\",\"Meat Poultry\",\"Seeds and Nuts\",\"Soups\",\"Vegetables A-E\",\"Vegetables F-P\",\"Vegetables R-Z\"],\"marker\":{\"colors\":[\"#100b\",\"#f00560\"],\"line\":{\"color\":\"#FFFFFF\",\"width\":2.5}},\"title\":{\"text\":\"CARBS\"},\"values\":[2059.0,651.0,1184.0,167.0,239.0,263.0,812.0,1009.0,330.0,345.0,57.3,140.0,155.0,356.0,142.0,447.0],\"type\":\"pie\",\"domain\":{\"x\":[0.7111111111111111,1.0],\"y\":[0.0,0.425]}}],                        {\"template\":{\"data\":{\"bar\":[{\"error_x\":{\"color\":\"#2a3f5f\"},\"error_y\":{\"color\":\"#2a3f5f\"},\"marker\":{\"line\":{\"color\":\"#E5ECF6\",\"width\":0.5},\"pattern\":{\"fillmode\":\"overlay\",\"size\":10,\"solidity\":0.2}},\"type\":\"bar\"}],\"barpolar\":[{\"marker\":{\"line\":{\"color\":\"#E5ECF6\",\"width\":0.5},\"pattern\":{\"fillmode\":\"overlay\",\"size\":10,\"solidity\":0.2}},\"type\":\"barpolar\"}],\"carpet\":[{\"aaxis\":{\"endlinecolor\":\"#2a3f5f\",\"gridcolor\":\"white\",\"linecolor\":\"white\",\"minorgridcolor\":\"white\",\"startlinecolor\":\"#2a3f5f\"},\"baxis\":{\"endlinecolor\":\"#2a3f5f\",\"gridcolor\":\"white\",\"linecolor\":\"white\",\"minorgridcolor\":\"white\",\"startlinecolor\":\"#2a3f5f\"},\"type\":\"carpet\"}],\"choropleth\":[{\"colorbar\":{\"outlinewidth\":0,\"ticks\":\"\"},\"type\":\"choropleth\"}],\"contour\":[{\"colorbar\":{\"outlinewidth\":0,\"ticks\":\"\"},\"colorscale\":[[0.0,\"#0d0887\"],[0.1111111111111111,\"#46039f\"],[0.2222222222222222,\"#7201a8\"],[0.3333333333333333,\"#9c179e\"],[0.4444444444444444,\"#bd3786\"],[0.5555555555555556,\"#d8576b\"],[0.6666666666666666,\"#ed7953\"],[0.7777777777777778,\"#fb9f3a\"],[0.8888888888888888,\"#fdca26\"],[1.0,\"#f0f921\"]],\"type\":\"contour\"}],\"contourcarpet\":[{\"colorbar\":{\"outlinewidth\":0,\"ticks\":\"\"},\"type\":\"contourcarpet\"}],\"heatmap\":[{\"colorbar\":{\"outlinewidth\":0,\"ticks\":\"\"},\"colorscale\":[[0.0,\"#0d0887\"],[0.1111111111111111,\"#46039f\"],[0.2222222222222222,\"#7201a8\"],[0.3333333333333333,\"#9c179e\"],[0.4444444444444444,\"#bd3786\"],[0.5555555555555556,\"#d8576b\"],[0.6666666666666666,\"#ed7953\"],[0.7777777777777778,\"#fb9f3a\"],[0.8888888888888888,\"#fdca26\"],[1.0,\"#f0f921\"]],\"type\":\"heatmap\"}],\"heatmapgl\":[{\"colorbar\":{\"outlinewidth\":0,\"ticks\":\"\"},\"colorscale\":[[0.0,\"#0d0887\"],[0.1111111111111111,\"#46039f\"],[0.2222222222222222,\"#7201a8\"],[0.3333333333333333,\"#9c179e\"],[0.4444444444444444,\"#bd3786\"],[0.5555555555555556,\"#d8576b\"],[0.6666666666666666,\"#ed7953\"],[0.7777777777777778,\"#fb9f3a\"],[0.8888888888888888,\"#fdca26\"],[1.0,\"#f0f921\"]],\"type\":\"heatmapgl\"}],\"histogram\":[{\"marker\":{\"pattern\":{\"fillmode\":\"overlay\",\"size\":10,\"solidity\":0.2}},\"type\":\"histogram\"}],\"histogram2d\":[{\"colorbar\":{\"outlinewidth\":0,\"ticks\":\"\"},\"colorscale\":[[0.0,\"#0d0887\"],[0.1111111111111111,\"#46039f\"],[0.2222222222222222,\"#7201a8\"],[0.3333333333333333,\"#9c179e\"],[0.4444444444444444,\"#bd3786\"],[0.5555555555555556,\"#d8576b\"],[0.6666666666666666,\"#ed7953\"],[0.7777777777777778,\"#fb9f3a\"],[0.8888888888888888,\"#fdca26\"],[1.0,\"#f0f921\"]],\"type\":\"histogram2d\"}],\"histogram2dcontour\":[{\"colorbar\":{\"outlinewidth\":0,\"ticks\":\"\"},\"colorscale\":[[0.0,\"#0d0887\"],[0.1111111111111111,\"#46039f\"],[0.2222222222222222,\"#7201a8\"],[0.3333333333333333,\"#9c179e\"],[0.4444444444444444,\"#bd3786\"],[0.5555555555555556,\"#d8576b\"],[0.6666666666666666,\"#ed7953\"],[0.7777777777777778,\"#fb9f3a\"],[0.8888888888888888,\"#fdca26\"],[1.0,\"#f0f921\"]],\"type\":\"histogram2dcontour\"}],\"mesh3d\":[{\"colorbar\":{\"outlinewidth\":0,\"ticks\":\"\"},\"type\":\"mesh3d\"}],\"parcoords\":[{\"line\":{\"colorbar\":{\"outlinewidth\":0,\"ticks\":\"\"}},\"type\":\"parcoords\"}],\"pie\":[{\"automargin\":true,\"type\":\"pie\"}],\"scatter\":[{\"marker\":{\"colorbar\":{\"outlinewidth\":0,\"ticks\":\"\"}},\"type\":\"scatter\"}],\"scatter3d\":[{\"line\":{\"colorbar\":{\"outlinewidth\":0,\"ticks\":\"\"}},\"marker\":{\"colorbar\":{\"outlinewidth\":0,\"ticks\":\"\"}},\"type\":\"scatter3d\"}],\"scattercarpet\":[{\"marker\":{\"colorbar\":{\"outlinewidth\":0,\"ticks\":\"\"}},\"type\":\"scattercarpet\"}],\"scattergeo\":[{\"marker\":{\"colorbar\":{\"outlinewidth\":0,\"ticks\":\"\"}},\"type\":\"scattergeo\"}],\"scattergl\":[{\"marker\":{\"colorbar\":{\"outlinewidth\":0,\"ticks\":\"\"}},\"type\":\"scattergl\"}],\"scattermapbox\":[{\"marker\":{\"colorbar\":{\"outlinewidth\":0,\"ticks\":\"\"}},\"type\":\"scattermapbox\"}],\"scatterpolar\":[{\"marker\":{\"colorbar\":{\"outlinewidth\":0,\"ticks\":\"\"}},\"type\":\"scatterpolar\"}],\"scatterpolargl\":[{\"marker\":{\"colorbar\":{\"outlinewidth\":0,\"ticks\":\"\"}},\"type\":\"scatterpolargl\"}],\"scatterternary\":[{\"marker\":{\"colorbar\":{\"outlinewidth\":0,\"ticks\":\"\"}},\"type\":\"scatterternary\"}],\"surface\":[{\"colorbar\":{\"outlinewidth\":0,\"ticks\":\"\"},\"colorscale\":[[0.0,\"#0d0887\"],[0.1111111111111111,\"#46039f\"],[0.2222222222222222,\"#7201a8\"],[0.3333333333333333,\"#9c179e\"],[0.4444444444444444,\"#bd3786\"],[0.5555555555555556,\"#d8576b\"],[0.6666666666666666,\"#ed7953\"],[0.7777777777777778,\"#fb9f3a\"],[0.8888888888888888,\"#fdca26\"],[1.0,\"#f0f921\"]],\"type\":\"surface\"}],\"table\":[{\"cells\":{\"fill\":{\"color\":\"#EBF0F8\"},\"line\":{\"color\":\"white\"}},\"header\":{\"fill\":{\"color\":\"#C8D4E3\"},\"line\":{\"color\":\"white\"}},\"type\":\"table\"}]},\"layout\":{\"annotationdefaults\":{\"arrowcolor\":\"#2a3f5f\",\"arrowhead\":0,\"arrowwidth\":1},\"autotypenumbers\":\"strict\",\"coloraxis\":{\"colorbar\":{\"outlinewidth\":0,\"ticks\":\"\"}},\"colorscale\":{\"diverging\":[[0,\"#8e0152\"],[0.1,\"#c51b7d\"],[0.2,\"#de77ae\"],[0.3,\"#f1b6da\"],[0.4,\"#fde0ef\"],[0.5,\"#f7f7f7\"],[0.6,\"#e6f5d0\"],[0.7,\"#b8e186\"],[0.8,\"#7fbc41\"],[0.9,\"#4d9221\"],[1,\"#276419\"]],\"sequential\":[[0.0,\"#0d0887\"],[0.1111111111111111,\"#46039f\"],[0.2222222222222222,\"#7201a8\"],[0.3333333333333333,\"#9c179e\"],[0.4444444444444444,\"#bd3786\"],[0.5555555555555556,\"#d8576b\"],[0.6666666666666666,\"#ed7953\"],[0.7777777777777778,\"#fb9f3a\"],[0.8888888888888888,\"#fdca26\"],[1.0,\"#f0f921\"]],\"sequentialminus\":[[0.0,\"#0d0887\"],[0.1111111111111111,\"#46039f\"],[0.2222222222222222,\"#7201a8\"],[0.3333333333333333,\"#9c179e\"],[0.4444444444444444,\"#bd3786\"],[0.5555555555555556,\"#d8576b\"],[0.6666666666666666,\"#ed7953\"],[0.7777777777777778,\"#fb9f3a\"],[0.8888888888888888,\"#fdca26\"],[1.0,\"#f0f921\"]]},\"colorway\":[\"#636efa\",\"#EF553B\",\"#00cc96\",\"#ab63fa\",\"#FFA15A\",\"#19d3f3\",\"#FF6692\",\"#B6E880\",\"#FF97FF\",\"#FECB52\"],\"font\":{\"color\":\"#2a3f5f\"},\"geo\":{\"bgcolor\":\"white\",\"lakecolor\":\"white\",\"landcolor\":\"#E5ECF6\",\"showlakes\":true,\"showland\":true,\"subunitcolor\":\"white\"},\"hoverlabel\":{\"align\":\"left\"},\"hovermode\":\"closest\",\"mapbox\":{\"style\":\"light\"},\"paper_bgcolor\":\"white\",\"plot_bgcolor\":\"#E5ECF6\",\"polar\":{\"angularaxis\":{\"gridcolor\":\"white\",\"linecolor\":\"white\",\"ticks\":\"\"},\"bgcolor\":\"#E5ECF6\",\"radialaxis\":{\"gridcolor\":\"white\",\"linecolor\":\"white\",\"ticks\":\"\"}},\"scene\":{\"xaxis\":{\"backgroundcolor\":\"#E5ECF6\",\"gridcolor\":\"white\",\"gridwidth\":2,\"linecolor\":\"white\",\"showbackground\":true,\"ticks\":\"\",\"zerolinecolor\":\"white\"},\"yaxis\":{\"backgroundcolor\":\"#E5ECF6\",\"gridcolor\":\"white\",\"gridwidth\":2,\"linecolor\":\"white\",\"showbackground\":true,\"ticks\":\"\",\"zerolinecolor\":\"white\"},\"zaxis\":{\"backgroundcolor\":\"#E5ECF6\",\"gridcolor\":\"white\",\"gridwidth\":2,\"linecolor\":\"white\",\"showbackground\":true,\"ticks\":\"\",\"zerolinecolor\":\"white\"}},\"shapedefaults\":{\"line\":{\"color\":\"#2a3f5f\"}},\"ternary\":{\"aaxis\":{\"gridcolor\":\"white\",\"linecolor\":\"white\",\"ticks\":\"\"},\"baxis\":{\"gridcolor\":\"white\",\"linecolor\":\"white\",\"ticks\":\"\"},\"bgcolor\":\"#E5ECF6\",\"caxis\":{\"gridcolor\":\"white\",\"linecolor\":\"white\",\"ticks\":\"\"}},\"title\":{\"x\":0.05},\"xaxis\":{\"automargin\":true,\"gridcolor\":\"white\",\"linecolor\":\"white\",\"ticks\":\"\",\"title\":{\"standoff\":15},\"zerolinecolor\":\"white\",\"zerolinewidth\":2},\"yaxis\":{\"automargin\":true,\"gridcolor\":\"white\",\"linecolor\":\"white\",\"ticks\":\"\",\"title\":{\"standoff\":15},\"zerolinecolor\":\"white\",\"zerolinewidth\":2}}},\"title\":{\"text\":\"Category wise distribution of all metrics\"},\"height\":700,\"width\":1000},                        {\"responsive\": true}                    ).then(function(){\n",
              "                            \n",
              "var gd = document.getElementById('ef3d4f92-d5bf-4162-b83c-ea5afaea0aac');\n",
              "var x = new MutationObserver(function (mutations, observer) {{\n",
              "        var display = window.getComputedStyle(gd).display;\n",
              "        if (!display || display === 'none') {{\n",
              "            console.log([gd, 'removed!']);\n",
              "            Plotly.purge(gd);\n",
              "            observer.disconnect();\n",
              "        }}\n",
              "}});\n",
              "\n",
              "// Listen for the removal of the full notebook cells\n",
              "var notebookContainer = gd.closest('#notebook-container');\n",
              "if (notebookContainer) {{\n",
              "    x.observe(notebookContainer, {childList: true});\n",
              "}}\n",
              "\n",
              "// Listen for the clearing of the current output cell\n",
              "var outputEl = gd.closest('.output');\n",
              "if (outputEl) {{\n",
              "    x.observe(outputEl, {childList: true});\n",
              "}}\n",
              "\n",
              "                        })                };                            </script>        </div>\n",
              "</body>\n",
              "</html>"
            ]
          },
          "metadata": {}
        }
      ]
    },
    {
      "cell_type": "markdown",
      "source": [
        "위 원형 차트의 일부 추론\n",
        "\n",
        "- 빵, 곡물, 시리얼이 탄수화물과 칼로리를 가장 많이 함유하고 있다는 것은 분명하다.\n",
        "\n",
        "- 단백질의 가장 큰 퍼센트는 해산물에 있습니다 \n",
        "\n",
        "- 놀랍게도, 같은 양의 섬유질이 지방과 해산물에도 있습니다.\n",
        "\n",
        "- 씨앗과 견과류는 약 14%의 지방 함량을 가지고 있다.\n",
        "\n",
        "- 과일은 탄수화물을 제외한 어떤 범주에서도 큰 비율을 가지고 있지 않으며, 약 10%의 탄수화물을 가지고 있다.\n",
        "\n",
        "- 유제품(15%)은 해산물(11.8%)보다 포화지방 함량이 높다.\n"
      ],
      "metadata": {
        "id": "bcE0cduq0ilb"
      }
    },
    {
      "cell_type": "markdown",
      "source": [
        "## 음료, 술, 음료수 그리고 디저트 분석"
      ],
      "metadata": {
        "id": "D-Aa4fDX05vP"
      }
    },
    {
      "cell_type": "code",
      "source": [
        "drinks= nutrients[nutrients['Category'].isin(['Fish Seafood','Desserts sweets'])]\n",
        "drinks_top=drinks.sort_values(by='Calories', ascending= False)\n",
        "drinks_top=drinks_top.head(10)\n",
        "\n",
        "fig = go.Figure(go.Funnelarea(values=drinks_top['Calories'].values, text=drinks_top['Food'],\n",
        "                              title = { \"text\": \"Desserts with high calorie percentages\"},\n",
        "               marker = {\"colors\": [\"deepskyblue\", \"lightsalmon\", \"tan\", \"teal\", \"silver\",\"deepskyblue\", \"lightsalmon\", \"tan\", \"teal\", \"silver\"],\n",
        "                \"line\": {\"color\": [\"wheat\", \"wheat\", \"blue\", \"wheat\", \"wheat\",\"wheat\", \"wheat\", \"blue\", \"wheat\", \"wheat\"]}}))\n",
        "\n",
        "\n",
        "\n",
        "fig.show()"
      ],
      "metadata": {
        "colab": {
          "base_uri": "https://localhost:8080/",
          "height": 542
        },
        "id": "vcjwc8nDvu8D",
        "outputId": "3944493c-48bc-4552-bb9e-37100d7c529b"
      },
      "execution_count": null,
      "outputs": [
        {
          "output_type": "display_data",
          "data": {
            "text/html": [
              "<html>\n",
              "<head><meta charset=\"utf-8\" /></head>\n",
              "<body>\n",
              "    <div>            <script src=\"https://cdnjs.cloudflare.com/ajax/libs/mathjax/2.7.5/MathJax.js?config=TeX-AMS-MML_SVG\"></script><script type=\"text/javascript\">if (window.MathJax) {MathJax.Hub.Config({SVG: {font: \"STIX-Web\"}});}</script>                <script type=\"text/javascript\">window.PlotlyConfig = {MathJaxConfig: 'local'};</script>\n",
              "        <script src=\"https://cdn.plot.ly/plotly-2.8.3.min.js\"></script>                <div id=\"59c2f521-0b52-492d-8722-7a4ba02cc713\" class=\"plotly-graph-div\" style=\"height:525px; width:100%;\"></div>            <script type=\"text/javascript\">                                    window.PLOTLYENV=window.PLOTLYENV || {};                                    if (document.getElementById(\"59c2f521-0b52-492d-8722-7a4ba02cc713\")) {                    Plotly.newPlot(                        \"59c2f521-0b52-492d-8722-7a4ba02cc713\",                        [{\"marker\":{\"colors\":[\"deepskyblue\",\"lightsalmon\",\"tan\",\"teal\",\"silver\",\"deepskyblue\",\"lightsalmon\",\"tan\",\"teal\",\"silver\"],\"line\":{\"color\":[\"wheat\",\"wheat\",\"blue\",\"wheat\",\"wheat\",\"wheat\",\"wheat\",\"blue\",\"wheat\",\"wheat\"]}},\"text\":[\"Puddings Sugar\",\"Chocolate fudge\",\"Bread pudding\",\"Fudge\",\"Mince\",\"Cherry Pie\",\"Tapioca cream pudding\",\"9\\\" diam. pie\",\"Lemon meringue\",\"Milk chocolate\"],\"title\":{\"text\":\"Desserts with high calorie percentages\"},\"values\":[770.0,420.0,374.0,370.0,340.0,340.0,335.0,330.0,300.0,290.0],\"type\":\"funnelarea\"}],                        {\"template\":{\"data\":{\"bar\":[{\"error_x\":{\"color\":\"#2a3f5f\"},\"error_y\":{\"color\":\"#2a3f5f\"},\"marker\":{\"line\":{\"color\":\"#E5ECF6\",\"width\":0.5},\"pattern\":{\"fillmode\":\"overlay\",\"size\":10,\"solidity\":0.2}},\"type\":\"bar\"}],\"barpolar\":[{\"marker\":{\"line\":{\"color\":\"#E5ECF6\",\"width\":0.5},\"pattern\":{\"fillmode\":\"overlay\",\"size\":10,\"solidity\":0.2}},\"type\":\"barpolar\"}],\"carpet\":[{\"aaxis\":{\"endlinecolor\":\"#2a3f5f\",\"gridcolor\":\"white\",\"linecolor\":\"white\",\"minorgridcolor\":\"white\",\"startlinecolor\":\"#2a3f5f\"},\"baxis\":{\"endlinecolor\":\"#2a3f5f\",\"gridcolor\":\"white\",\"linecolor\":\"white\",\"minorgridcolor\":\"white\",\"startlinecolor\":\"#2a3f5f\"},\"type\":\"carpet\"}],\"choropleth\":[{\"colorbar\":{\"outlinewidth\":0,\"ticks\":\"\"},\"type\":\"choropleth\"}],\"contour\":[{\"colorbar\":{\"outlinewidth\":0,\"ticks\":\"\"},\"colorscale\":[[0.0,\"#0d0887\"],[0.1111111111111111,\"#46039f\"],[0.2222222222222222,\"#7201a8\"],[0.3333333333333333,\"#9c179e\"],[0.4444444444444444,\"#bd3786\"],[0.5555555555555556,\"#d8576b\"],[0.6666666666666666,\"#ed7953\"],[0.7777777777777778,\"#fb9f3a\"],[0.8888888888888888,\"#fdca26\"],[1.0,\"#f0f921\"]],\"type\":\"contour\"}],\"contourcarpet\":[{\"colorbar\":{\"outlinewidth\":0,\"ticks\":\"\"},\"type\":\"contourcarpet\"}],\"heatmap\":[{\"colorbar\":{\"outlinewidth\":0,\"ticks\":\"\"},\"colorscale\":[[0.0,\"#0d0887\"],[0.1111111111111111,\"#46039f\"],[0.2222222222222222,\"#7201a8\"],[0.3333333333333333,\"#9c179e\"],[0.4444444444444444,\"#bd3786\"],[0.5555555555555556,\"#d8576b\"],[0.6666666666666666,\"#ed7953\"],[0.7777777777777778,\"#fb9f3a\"],[0.8888888888888888,\"#fdca26\"],[1.0,\"#f0f921\"]],\"type\":\"heatmap\"}],\"heatmapgl\":[{\"colorbar\":{\"outlinewidth\":0,\"ticks\":\"\"},\"colorscale\":[[0.0,\"#0d0887\"],[0.1111111111111111,\"#46039f\"],[0.2222222222222222,\"#7201a8\"],[0.3333333333333333,\"#9c179e\"],[0.4444444444444444,\"#bd3786\"],[0.5555555555555556,\"#d8576b\"],[0.6666666666666666,\"#ed7953\"],[0.7777777777777778,\"#fb9f3a\"],[0.8888888888888888,\"#fdca26\"],[1.0,\"#f0f921\"]],\"type\":\"heatmapgl\"}],\"histogram\":[{\"marker\":{\"pattern\":{\"fillmode\":\"overlay\",\"size\":10,\"solidity\":0.2}},\"type\":\"histogram\"}],\"histogram2d\":[{\"colorbar\":{\"outlinewidth\":0,\"ticks\":\"\"},\"colorscale\":[[0.0,\"#0d0887\"],[0.1111111111111111,\"#46039f\"],[0.2222222222222222,\"#7201a8\"],[0.3333333333333333,\"#9c179e\"],[0.4444444444444444,\"#bd3786\"],[0.5555555555555556,\"#d8576b\"],[0.6666666666666666,\"#ed7953\"],[0.7777777777777778,\"#fb9f3a\"],[0.8888888888888888,\"#fdca26\"],[1.0,\"#f0f921\"]],\"type\":\"histogram2d\"}],\"histogram2dcontour\":[{\"colorbar\":{\"outlinewidth\":0,\"ticks\":\"\"},\"colorscale\":[[0.0,\"#0d0887\"],[0.1111111111111111,\"#46039f\"],[0.2222222222222222,\"#7201a8\"],[0.3333333333333333,\"#9c179e\"],[0.4444444444444444,\"#bd3786\"],[0.5555555555555556,\"#d8576b\"],[0.6666666666666666,\"#ed7953\"],[0.7777777777777778,\"#fb9f3a\"],[0.8888888888888888,\"#fdca26\"],[1.0,\"#f0f921\"]],\"type\":\"histogram2dcontour\"}],\"mesh3d\":[{\"colorbar\":{\"outlinewidth\":0,\"ticks\":\"\"},\"type\":\"mesh3d\"}],\"parcoords\":[{\"line\":{\"colorbar\":{\"outlinewidth\":0,\"ticks\":\"\"}},\"type\":\"parcoords\"}],\"pie\":[{\"automargin\":true,\"type\":\"pie\"}],\"scatter\":[{\"marker\":{\"colorbar\":{\"outlinewidth\":0,\"ticks\":\"\"}},\"type\":\"scatter\"}],\"scatter3d\":[{\"line\":{\"colorbar\":{\"outlinewidth\":0,\"ticks\":\"\"}},\"marker\":{\"colorbar\":{\"outlinewidth\":0,\"ticks\":\"\"}},\"type\":\"scatter3d\"}],\"scattercarpet\":[{\"marker\":{\"colorbar\":{\"outlinewidth\":0,\"ticks\":\"\"}},\"type\":\"scattercarpet\"}],\"scattergeo\":[{\"marker\":{\"colorbar\":{\"outlinewidth\":0,\"ticks\":\"\"}},\"type\":\"scattergeo\"}],\"scattergl\":[{\"marker\":{\"colorbar\":{\"outlinewidth\":0,\"ticks\":\"\"}},\"type\":\"scattergl\"}],\"scattermapbox\":[{\"marker\":{\"colorbar\":{\"outlinewidth\":0,\"ticks\":\"\"}},\"type\":\"scattermapbox\"}],\"scatterpolar\":[{\"marker\":{\"colorbar\":{\"outlinewidth\":0,\"ticks\":\"\"}},\"type\":\"scatterpolar\"}],\"scatterpolargl\":[{\"marker\":{\"colorbar\":{\"outlinewidth\":0,\"ticks\":\"\"}},\"type\":\"scatterpolargl\"}],\"scatterternary\":[{\"marker\":{\"colorbar\":{\"outlinewidth\":0,\"ticks\":\"\"}},\"type\":\"scatterternary\"}],\"surface\":[{\"colorbar\":{\"outlinewidth\":0,\"ticks\":\"\"},\"colorscale\":[[0.0,\"#0d0887\"],[0.1111111111111111,\"#46039f\"],[0.2222222222222222,\"#7201a8\"],[0.3333333333333333,\"#9c179e\"],[0.4444444444444444,\"#bd3786\"],[0.5555555555555556,\"#d8576b\"],[0.6666666666666666,\"#ed7953\"],[0.7777777777777778,\"#fb9f3a\"],[0.8888888888888888,\"#fdca26\"],[1.0,\"#f0f921\"]],\"type\":\"surface\"}],\"table\":[{\"cells\":{\"fill\":{\"color\":\"#EBF0F8\"},\"line\":{\"color\":\"white\"}},\"header\":{\"fill\":{\"color\":\"#C8D4E3\"},\"line\":{\"color\":\"white\"}},\"type\":\"table\"}]},\"layout\":{\"annotationdefaults\":{\"arrowcolor\":\"#2a3f5f\",\"arrowhead\":0,\"arrowwidth\":1},\"autotypenumbers\":\"strict\",\"coloraxis\":{\"colorbar\":{\"outlinewidth\":0,\"ticks\":\"\"}},\"colorscale\":{\"diverging\":[[0,\"#8e0152\"],[0.1,\"#c51b7d\"],[0.2,\"#de77ae\"],[0.3,\"#f1b6da\"],[0.4,\"#fde0ef\"],[0.5,\"#f7f7f7\"],[0.6,\"#e6f5d0\"],[0.7,\"#b8e186\"],[0.8,\"#7fbc41\"],[0.9,\"#4d9221\"],[1,\"#276419\"]],\"sequential\":[[0.0,\"#0d0887\"],[0.1111111111111111,\"#46039f\"],[0.2222222222222222,\"#7201a8\"],[0.3333333333333333,\"#9c179e\"],[0.4444444444444444,\"#bd3786\"],[0.5555555555555556,\"#d8576b\"],[0.6666666666666666,\"#ed7953\"],[0.7777777777777778,\"#fb9f3a\"],[0.8888888888888888,\"#fdca26\"],[1.0,\"#f0f921\"]],\"sequentialminus\":[[0.0,\"#0d0887\"],[0.1111111111111111,\"#46039f\"],[0.2222222222222222,\"#7201a8\"],[0.3333333333333333,\"#9c179e\"],[0.4444444444444444,\"#bd3786\"],[0.5555555555555556,\"#d8576b\"],[0.6666666666666666,\"#ed7953\"],[0.7777777777777778,\"#fb9f3a\"],[0.8888888888888888,\"#fdca26\"],[1.0,\"#f0f921\"]]},\"colorway\":[\"#636efa\",\"#EF553B\",\"#00cc96\",\"#ab63fa\",\"#FFA15A\",\"#19d3f3\",\"#FF6692\",\"#B6E880\",\"#FF97FF\",\"#FECB52\"],\"font\":{\"color\":\"#2a3f5f\"},\"geo\":{\"bgcolor\":\"white\",\"lakecolor\":\"white\",\"landcolor\":\"#E5ECF6\",\"showlakes\":true,\"showland\":true,\"subunitcolor\":\"white\"},\"hoverlabel\":{\"align\":\"left\"},\"hovermode\":\"closest\",\"mapbox\":{\"style\":\"light\"},\"paper_bgcolor\":\"white\",\"plot_bgcolor\":\"#E5ECF6\",\"polar\":{\"angularaxis\":{\"gridcolor\":\"white\",\"linecolor\":\"white\",\"ticks\":\"\"},\"bgcolor\":\"#E5ECF6\",\"radialaxis\":{\"gridcolor\":\"white\",\"linecolor\":\"white\",\"ticks\":\"\"}},\"scene\":{\"xaxis\":{\"backgroundcolor\":\"#E5ECF6\",\"gridcolor\":\"white\",\"gridwidth\":2,\"linecolor\":\"white\",\"showbackground\":true,\"ticks\":\"\",\"zerolinecolor\":\"white\"},\"yaxis\":{\"backgroundcolor\":\"#E5ECF6\",\"gridcolor\":\"white\",\"gridwidth\":2,\"linecolor\":\"white\",\"showbackground\":true,\"ticks\":\"\",\"zerolinecolor\":\"white\"},\"zaxis\":{\"backgroundcolor\":\"#E5ECF6\",\"gridcolor\":\"white\",\"gridwidth\":2,\"linecolor\":\"white\",\"showbackground\":true,\"ticks\":\"\",\"zerolinecolor\":\"white\"}},\"shapedefaults\":{\"line\":{\"color\":\"#2a3f5f\"}},\"ternary\":{\"aaxis\":{\"gridcolor\":\"white\",\"linecolor\":\"white\",\"ticks\":\"\"},\"baxis\":{\"gridcolor\":\"white\",\"linecolor\":\"white\",\"ticks\":\"\"},\"bgcolor\":\"#E5ECF6\",\"caxis\":{\"gridcolor\":\"white\",\"linecolor\":\"white\",\"ticks\":\"\"}},\"title\":{\"x\":0.05},\"xaxis\":{\"automargin\":true,\"gridcolor\":\"white\",\"linecolor\":\"white\",\"ticks\":\"\",\"title\":{\"standoff\":15},\"zerolinecolor\":\"white\",\"zerolinewidth\":2},\"yaxis\":{\"automargin\":true,\"gridcolor\":\"white\",\"linecolor\":\"white\",\"ticks\":\"\",\"title\":{\"standoff\":15},\"zerolinecolor\":\"white\",\"zerolinewidth\":2}}}},                        {\"responsive\": true}                    ).then(function(){\n",
              "                            \n",
              "var gd = document.getElementById('59c2f521-0b52-492d-8722-7a4ba02cc713');\n",
              "var x = new MutationObserver(function (mutations, observer) {{\n",
              "        var display = window.getComputedStyle(gd).display;\n",
              "        if (!display || display === 'none') {{\n",
              "            console.log([gd, 'removed!']);\n",
              "            Plotly.purge(gd);\n",
              "            observer.disconnect();\n",
              "        }}\n",
              "}});\n",
              "\n",
              "// Listen for the removal of the full notebook cells\n",
              "var notebookContainer = gd.closest('#notebook-container');\n",
              "if (notebookContainer) {{\n",
              "    x.observe(notebookContainer, {childList: true});\n",
              "}}\n",
              "\n",
              "// Listen for the clearing of the current output cell\n",
              "var outputEl = gd.closest('.output');\n",
              "if (outputEl) {{\n",
              "    x.observe(outputEl, {childList: true});\n",
              "}}\n",
              "\n",
              "                        })                };                            </script>        </div>\n",
              "</body>\n",
              "</html>"
            ]
          },
          "metadata": {}
        }
      ]
    },
    {
      "cell_type": "markdown",
      "source": [
        "그래서, 푸딩은 가장 많은 칼로리를 가지고 있고 그다음이 초콜릿 퍼지임"
      ],
      "metadata": {
        "id": "LHNJGUjZ1Tpa"
      }
    },
    {
      "cell_type": "code",
      "source": [
        "drinks_fatty=drinks.sort_values(by='Fat', ascending= False)\n",
        "drinks_fatty=drinks_fatty.head(10)\n",
        "\n",
        "fig = go.Figure(go.Funnelarea(values=drinks_fatty['Fat'].values, text=drinks_fatty['Food'],\n",
        "                              title = { \"text\": \"Desserts with high fat percentage\"},\n",
        "               marker = {\"colors\": [\"blue\", \"purple\", \"pink\", \"teal\", \"silver\",\"yellow\", \"lightsalmon\", \"tan\", \"teal\", \"silver\"],\n",
        "                \"line\": {\"color\": [\"wheat\", \"wheat\", \"blue\", \"wheat\", \"wheat\",\"wheat\", \"wheat\", \"blue\", \"wheat\", \"wheat\"]}}))\n",
        "fig.show()"
      ],
      "metadata": {
        "colab": {
          "base_uri": "https://localhost:8080/",
          "height": 542
        },
        "id": "Vy_jbejVvxR7",
        "outputId": "613b20c1-32fe-424f-8dd7-571268528cb1"
      },
      "execution_count": null,
      "outputs": [
        {
          "output_type": "display_data",
          "data": {
            "text/html": [
              "<html>\n",
              "<head><meta charset=\"utf-8\" /></head>\n",
              "<body>\n",
              "    <div>            <script src=\"https://cdnjs.cloudflare.com/ajax/libs/mathjax/2.7.5/MathJax.js?config=TeX-AMS-MML_SVG\"></script><script type=\"text/javascript\">if (window.MathJax) {MathJax.Hub.Config({SVG: {font: \"STIX-Web\"}});}</script>                <script type=\"text/javascript\">window.PlotlyConfig = {MathJaxConfig: 'local'};</script>\n",
              "        <script src=\"https://cdn.plot.ly/plotly-2.8.3.min.js\"></script>                <div id=\"5e7dcf56-14f6-4864-82ca-3d470c5cdf5d\" class=\"plotly-graph-div\" style=\"height:525px; width:100%;\"></div>            <script type=\"text/javascript\">                                    window.PLOTLYENV=window.PLOTLYENV || {};                                    if (document.getElementById(\"5e7dcf56-14f6-4864-82ca-3d470c5cdf5d\")) {                    Plotly.newPlot(                        \"5e7dcf56-14f6-4864-82ca-3d470c5cdf5d\",                        [{\"marker\":{\"colors\":[\"blue\",\"purple\",\"pink\",\"teal\",\"silver\",\"yellow\",\"lightsalmon\",\"tan\",\"teal\",\"silver\"],\"line\":{\"color\":[\"wheat\",\"wheat\",\"blue\",\"wheat\",\"wheat\",\"wheat\",\"wheat\",\"blue\",\"wheat\",\"wheat\"]}},\"text\":[\"Oysters\",\"Chocolate fudge\",\"9\\\" diam. pie\",\"Cherry Pie\",\"Herring\",\"Fudge\",\"Pumpkin Pie\",\"Bread pudding\",\"Lemon meringue\",\"Custard\"],\"title\":{\"text\":\"Desserts with high fat percentage\"},\"values\":[233,14,13,13,13,12,12,12,12,11],\"type\":\"funnelarea\"}],                        {\"template\":{\"data\":{\"bar\":[{\"error_x\":{\"color\":\"#2a3f5f\"},\"error_y\":{\"color\":\"#2a3f5f\"},\"marker\":{\"line\":{\"color\":\"#E5ECF6\",\"width\":0.5},\"pattern\":{\"fillmode\":\"overlay\",\"size\":10,\"solidity\":0.2}},\"type\":\"bar\"}],\"barpolar\":[{\"marker\":{\"line\":{\"color\":\"#E5ECF6\",\"width\":0.5},\"pattern\":{\"fillmode\":\"overlay\",\"size\":10,\"solidity\":0.2}},\"type\":\"barpolar\"}],\"carpet\":[{\"aaxis\":{\"endlinecolor\":\"#2a3f5f\",\"gridcolor\":\"white\",\"linecolor\":\"white\",\"minorgridcolor\":\"white\",\"startlinecolor\":\"#2a3f5f\"},\"baxis\":{\"endlinecolor\":\"#2a3f5f\",\"gridcolor\":\"white\",\"linecolor\":\"white\",\"minorgridcolor\":\"white\",\"startlinecolor\":\"#2a3f5f\"},\"type\":\"carpet\"}],\"choropleth\":[{\"colorbar\":{\"outlinewidth\":0,\"ticks\":\"\"},\"type\":\"choropleth\"}],\"contour\":[{\"colorbar\":{\"outlinewidth\":0,\"ticks\":\"\"},\"colorscale\":[[0.0,\"#0d0887\"],[0.1111111111111111,\"#46039f\"],[0.2222222222222222,\"#7201a8\"],[0.3333333333333333,\"#9c179e\"],[0.4444444444444444,\"#bd3786\"],[0.5555555555555556,\"#d8576b\"],[0.6666666666666666,\"#ed7953\"],[0.7777777777777778,\"#fb9f3a\"],[0.8888888888888888,\"#fdca26\"],[1.0,\"#f0f921\"]],\"type\":\"contour\"}],\"contourcarpet\":[{\"colorbar\":{\"outlinewidth\":0,\"ticks\":\"\"},\"type\":\"contourcarpet\"}],\"heatmap\":[{\"colorbar\":{\"outlinewidth\":0,\"ticks\":\"\"},\"colorscale\":[[0.0,\"#0d0887\"],[0.1111111111111111,\"#46039f\"],[0.2222222222222222,\"#7201a8\"],[0.3333333333333333,\"#9c179e\"],[0.4444444444444444,\"#bd3786\"],[0.5555555555555556,\"#d8576b\"],[0.6666666666666666,\"#ed7953\"],[0.7777777777777778,\"#fb9f3a\"],[0.8888888888888888,\"#fdca26\"],[1.0,\"#f0f921\"]],\"type\":\"heatmap\"}],\"heatmapgl\":[{\"colorbar\":{\"outlinewidth\":0,\"ticks\":\"\"},\"colorscale\":[[0.0,\"#0d0887\"],[0.1111111111111111,\"#46039f\"],[0.2222222222222222,\"#7201a8\"],[0.3333333333333333,\"#9c179e\"],[0.4444444444444444,\"#bd3786\"],[0.5555555555555556,\"#d8576b\"],[0.6666666666666666,\"#ed7953\"],[0.7777777777777778,\"#fb9f3a\"],[0.8888888888888888,\"#fdca26\"],[1.0,\"#f0f921\"]],\"type\":\"heatmapgl\"}],\"histogram\":[{\"marker\":{\"pattern\":{\"fillmode\":\"overlay\",\"size\":10,\"solidity\":0.2}},\"type\":\"histogram\"}],\"histogram2d\":[{\"colorbar\":{\"outlinewidth\":0,\"ticks\":\"\"},\"colorscale\":[[0.0,\"#0d0887\"],[0.1111111111111111,\"#46039f\"],[0.2222222222222222,\"#7201a8\"],[0.3333333333333333,\"#9c179e\"],[0.4444444444444444,\"#bd3786\"],[0.5555555555555556,\"#d8576b\"],[0.6666666666666666,\"#ed7953\"],[0.7777777777777778,\"#fb9f3a\"],[0.8888888888888888,\"#fdca26\"],[1.0,\"#f0f921\"]],\"type\":\"histogram2d\"}],\"histogram2dcontour\":[{\"colorbar\":{\"outlinewidth\":0,\"ticks\":\"\"},\"colorscale\":[[0.0,\"#0d0887\"],[0.1111111111111111,\"#46039f\"],[0.2222222222222222,\"#7201a8\"],[0.3333333333333333,\"#9c179e\"],[0.4444444444444444,\"#bd3786\"],[0.5555555555555556,\"#d8576b\"],[0.6666666666666666,\"#ed7953\"],[0.7777777777777778,\"#fb9f3a\"],[0.8888888888888888,\"#fdca26\"],[1.0,\"#f0f921\"]],\"type\":\"histogram2dcontour\"}],\"mesh3d\":[{\"colorbar\":{\"outlinewidth\":0,\"ticks\":\"\"},\"type\":\"mesh3d\"}],\"parcoords\":[{\"line\":{\"colorbar\":{\"outlinewidth\":0,\"ticks\":\"\"}},\"type\":\"parcoords\"}],\"pie\":[{\"automargin\":true,\"type\":\"pie\"}],\"scatter\":[{\"marker\":{\"colorbar\":{\"outlinewidth\":0,\"ticks\":\"\"}},\"type\":\"scatter\"}],\"scatter3d\":[{\"line\":{\"colorbar\":{\"outlinewidth\":0,\"ticks\":\"\"}},\"marker\":{\"colorbar\":{\"outlinewidth\":0,\"ticks\":\"\"}},\"type\":\"scatter3d\"}],\"scattercarpet\":[{\"marker\":{\"colorbar\":{\"outlinewidth\":0,\"ticks\":\"\"}},\"type\":\"scattercarpet\"}],\"scattergeo\":[{\"marker\":{\"colorbar\":{\"outlinewidth\":0,\"ticks\":\"\"}},\"type\":\"scattergeo\"}],\"scattergl\":[{\"marker\":{\"colorbar\":{\"outlinewidth\":0,\"ticks\":\"\"}},\"type\":\"scattergl\"}],\"scattermapbox\":[{\"marker\":{\"colorbar\":{\"outlinewidth\":0,\"ticks\":\"\"}},\"type\":\"scattermapbox\"}],\"scatterpolar\":[{\"marker\":{\"colorbar\":{\"outlinewidth\":0,\"ticks\":\"\"}},\"type\":\"scatterpolar\"}],\"scatterpolargl\":[{\"marker\":{\"colorbar\":{\"outlinewidth\":0,\"ticks\":\"\"}},\"type\":\"scatterpolargl\"}],\"scatterternary\":[{\"marker\":{\"colorbar\":{\"outlinewidth\":0,\"ticks\":\"\"}},\"type\":\"scatterternary\"}],\"surface\":[{\"colorbar\":{\"outlinewidth\":0,\"ticks\":\"\"},\"colorscale\":[[0.0,\"#0d0887\"],[0.1111111111111111,\"#46039f\"],[0.2222222222222222,\"#7201a8\"],[0.3333333333333333,\"#9c179e\"],[0.4444444444444444,\"#bd3786\"],[0.5555555555555556,\"#d8576b\"],[0.6666666666666666,\"#ed7953\"],[0.7777777777777778,\"#fb9f3a\"],[0.8888888888888888,\"#fdca26\"],[1.0,\"#f0f921\"]],\"type\":\"surface\"}],\"table\":[{\"cells\":{\"fill\":{\"color\":\"#EBF0F8\"},\"line\":{\"color\":\"white\"}},\"header\":{\"fill\":{\"color\":\"#C8D4E3\"},\"line\":{\"color\":\"white\"}},\"type\":\"table\"}]},\"layout\":{\"annotationdefaults\":{\"arrowcolor\":\"#2a3f5f\",\"arrowhead\":0,\"arrowwidth\":1},\"autotypenumbers\":\"strict\",\"coloraxis\":{\"colorbar\":{\"outlinewidth\":0,\"ticks\":\"\"}},\"colorscale\":{\"diverging\":[[0,\"#8e0152\"],[0.1,\"#c51b7d\"],[0.2,\"#de77ae\"],[0.3,\"#f1b6da\"],[0.4,\"#fde0ef\"],[0.5,\"#f7f7f7\"],[0.6,\"#e6f5d0\"],[0.7,\"#b8e186\"],[0.8,\"#7fbc41\"],[0.9,\"#4d9221\"],[1,\"#276419\"]],\"sequential\":[[0.0,\"#0d0887\"],[0.1111111111111111,\"#46039f\"],[0.2222222222222222,\"#7201a8\"],[0.3333333333333333,\"#9c179e\"],[0.4444444444444444,\"#bd3786\"],[0.5555555555555556,\"#d8576b\"],[0.6666666666666666,\"#ed7953\"],[0.7777777777777778,\"#fb9f3a\"],[0.8888888888888888,\"#fdca26\"],[1.0,\"#f0f921\"]],\"sequentialminus\":[[0.0,\"#0d0887\"],[0.1111111111111111,\"#46039f\"],[0.2222222222222222,\"#7201a8\"],[0.3333333333333333,\"#9c179e\"],[0.4444444444444444,\"#bd3786\"],[0.5555555555555556,\"#d8576b\"],[0.6666666666666666,\"#ed7953\"],[0.7777777777777778,\"#fb9f3a\"],[0.8888888888888888,\"#fdca26\"],[1.0,\"#f0f921\"]]},\"colorway\":[\"#636efa\",\"#EF553B\",\"#00cc96\",\"#ab63fa\",\"#FFA15A\",\"#19d3f3\",\"#FF6692\",\"#B6E880\",\"#FF97FF\",\"#FECB52\"],\"font\":{\"color\":\"#2a3f5f\"},\"geo\":{\"bgcolor\":\"white\",\"lakecolor\":\"white\",\"landcolor\":\"#E5ECF6\",\"showlakes\":true,\"showland\":true,\"subunitcolor\":\"white\"},\"hoverlabel\":{\"align\":\"left\"},\"hovermode\":\"closest\",\"mapbox\":{\"style\":\"light\"},\"paper_bgcolor\":\"white\",\"plot_bgcolor\":\"#E5ECF6\",\"polar\":{\"angularaxis\":{\"gridcolor\":\"white\",\"linecolor\":\"white\",\"ticks\":\"\"},\"bgcolor\":\"#E5ECF6\",\"radialaxis\":{\"gridcolor\":\"white\",\"linecolor\":\"white\",\"ticks\":\"\"}},\"scene\":{\"xaxis\":{\"backgroundcolor\":\"#E5ECF6\",\"gridcolor\":\"white\",\"gridwidth\":2,\"linecolor\":\"white\",\"showbackground\":true,\"ticks\":\"\",\"zerolinecolor\":\"white\"},\"yaxis\":{\"backgroundcolor\":\"#E5ECF6\",\"gridcolor\":\"white\",\"gridwidth\":2,\"linecolor\":\"white\",\"showbackground\":true,\"ticks\":\"\",\"zerolinecolor\":\"white\"},\"zaxis\":{\"backgroundcolor\":\"#E5ECF6\",\"gridcolor\":\"white\",\"gridwidth\":2,\"linecolor\":\"white\",\"showbackground\":true,\"ticks\":\"\",\"zerolinecolor\":\"white\"}},\"shapedefaults\":{\"line\":{\"color\":\"#2a3f5f\"}},\"ternary\":{\"aaxis\":{\"gridcolor\":\"white\",\"linecolor\":\"white\",\"ticks\":\"\"},\"baxis\":{\"gridcolor\":\"white\",\"linecolor\":\"white\",\"ticks\":\"\"},\"bgcolor\":\"#E5ECF6\",\"caxis\":{\"gridcolor\":\"white\",\"linecolor\":\"white\",\"ticks\":\"\"}},\"title\":{\"x\":0.05},\"xaxis\":{\"automargin\":true,\"gridcolor\":\"white\",\"linecolor\":\"white\",\"ticks\":\"\",\"title\":{\"standoff\":15},\"zerolinecolor\":\"white\",\"zerolinewidth\":2},\"yaxis\":{\"automargin\":true,\"gridcolor\":\"white\",\"linecolor\":\"white\",\"ticks\":\"\",\"title\":{\"standoff\":15},\"zerolinecolor\":\"white\",\"zerolinewidth\":2}}}},                        {\"responsive\": true}                    ).then(function(){\n",
              "                            \n",
              "var gd = document.getElementById('5e7dcf56-14f6-4864-82ca-3d470c5cdf5d');\n",
              "var x = new MutationObserver(function (mutations, observer) {{\n",
              "        var display = window.getComputedStyle(gd).display;\n",
              "        if (!display || display === 'none') {{\n",
              "            console.log([gd, 'removed!']);\n",
              "            Plotly.purge(gd);\n",
              "            observer.disconnect();\n",
              "        }}\n",
              "}});\n",
              "\n",
              "// Listen for the removal of the full notebook cells\n",
              "var notebookContainer = gd.closest('#notebook-container');\n",
              "if (notebookContainer) {{\n",
              "    x.observe(notebookContainer, {childList: true});\n",
              "}}\n",
              "\n",
              "// Listen for the clearing of the current output cell\n",
              "var outputEl = gd.closest('.output');\n",
              "if (outputEl) {{\n",
              "    x.observe(outputEl, {childList: true});\n",
              "}}\n",
              "\n",
              "                        })                };                            </script>        </div>\n",
              "</body>\n",
              "</html>"
            ]
          },
          "metadata": {}
        }
      ]
    },
    {
      "cell_type": "markdown",
      "source": [
        "파이와 퍼지는 지방 함량도 가장 높음"
      ],
      "metadata": {
        "id": "AO-pE3ux1amm"
      }
    },
    {
      "cell_type": "markdown",
      "source": [
        "## 고기, 가금류(새고기, 알), 해산물 분석\n",
        "\n",
        "- 고기/해산물에는 단백질이 풍부하다는 것이 분명하므로, 단백질이 풍부한 음식을 찾아보자"
      ],
      "metadata": {
        "id": "zAK9cmCN1dnk"
      }
    },
    {
      "cell_type": "code",
      "source": [
        "meat= nutrients[nutrients['Category'].isin(['Fish Seafood','Meat Poultry'])]\n",
        "meats_top=drinks.sort_values(by='Protein', ascending= False)\n",
        "meats_top=meats_top.head(10)\n",
        "\n",
        "fig = go.Figure(go.Pie(values=meats_top['Protein'].values, text=meats_top['Food'],\n",
        "                              title = { \"text\": \"Desserts with high calorie percentages\"},\n",
        "               marker = {\"colors\": [\"maroon\", \"salmon\", \"tan\", \"gold\", \"silver\",\"deepskyblue\", \"lightsalmon\", \"tan\", \"teal\", \"silver\"],\n",
        "                \"line\": {\"color\": [\"wheat\", \"wheat\", \"blue\", \"wheat\", \"wheat\",\"wheat\", \"wheat\", \"blue\", \"wheat\", \"wheat\"]}}))\n",
        "fig.show()"
      ],
      "metadata": {
        "colab": {
          "base_uri": "https://localhost:8080/",
          "height": 542
        },
        "id": "cDb1YJ0bvyuz",
        "outputId": "5ceaab3f-51bd-4cfb-c603-71e9ca891338"
      },
      "execution_count": null,
      "outputs": [
        {
          "output_type": "display_data",
          "data": {
            "text/html": [
              "<html>\n",
              "<head><meta charset=\"utf-8\" /></head>\n",
              "<body>\n",
              "    <div>            <script src=\"https://cdnjs.cloudflare.com/ajax/libs/mathjax/2.7.5/MathJax.js?config=TeX-AMS-MML_SVG\"></script><script type=\"text/javascript\">if (window.MathJax) {MathJax.Hub.Config({SVG: {font: \"STIX-Web\"}});}</script>                <script type=\"text/javascript\">window.PlotlyConfig = {MathJaxConfig: 'local'};</script>\n",
              "        <script src=\"https://cdn.plot.ly/plotly-2.8.3.min.js\"></script>                <div id=\"83fb3b2b-af8e-4738-8aef-c32c37973ade\" class=\"plotly-graph-div\" style=\"height:525px; width:100%;\"></div>            <script type=\"text/javascript\">                                    window.PLOTLYENV=window.PLOTLYENV || {};                                    if (document.getElementById(\"83fb3b2b-af8e-4738-8aef-c32c37973ade\")) {                    Plotly.newPlot(                        \"83fb3b2b-af8e-4738-8aef-c32c37973ade\",                        [{\"marker\":{\"colors\":[\"maroon\",\"salmon\",\"tan\",\"gold\",\"silver\",\"deepskyblue\",\"lightsalmon\",\"tan\",\"teal\",\"silver\"],\"line\":{\"color\":[\"wheat\",\"wheat\",\"blue\",\"wheat\",\"wheat\",\"wheat\",\"wheat\",\"blue\",\"wheat\",\"wheat\"]}},\"text\":[\"Oysters\",\"Flounder\",\"Cod\",\"Swordfish\",\"Halibut\",\"Tuna\",\"Shrimp\",\"Herring\",\"Sardines\",\"Shad\"],\"title\":{\"text\":\"Desserts with high calorie percentages\"},\"values\":[232,30,28,27,26,25,23,22,22,20],\"type\":\"pie\"}],                        {\"template\":{\"data\":{\"bar\":[{\"error_x\":{\"color\":\"#2a3f5f\"},\"error_y\":{\"color\":\"#2a3f5f\"},\"marker\":{\"line\":{\"color\":\"#E5ECF6\",\"width\":0.5},\"pattern\":{\"fillmode\":\"overlay\",\"size\":10,\"solidity\":0.2}},\"type\":\"bar\"}],\"barpolar\":[{\"marker\":{\"line\":{\"color\":\"#E5ECF6\",\"width\":0.5},\"pattern\":{\"fillmode\":\"overlay\",\"size\":10,\"solidity\":0.2}},\"type\":\"barpolar\"}],\"carpet\":[{\"aaxis\":{\"endlinecolor\":\"#2a3f5f\",\"gridcolor\":\"white\",\"linecolor\":\"white\",\"minorgridcolor\":\"white\",\"startlinecolor\":\"#2a3f5f\"},\"baxis\":{\"endlinecolor\":\"#2a3f5f\",\"gridcolor\":\"white\",\"linecolor\":\"white\",\"minorgridcolor\":\"white\",\"startlinecolor\":\"#2a3f5f\"},\"type\":\"carpet\"}],\"choropleth\":[{\"colorbar\":{\"outlinewidth\":0,\"ticks\":\"\"},\"type\":\"choropleth\"}],\"contour\":[{\"colorbar\":{\"outlinewidth\":0,\"ticks\":\"\"},\"colorscale\":[[0.0,\"#0d0887\"],[0.1111111111111111,\"#46039f\"],[0.2222222222222222,\"#7201a8\"],[0.3333333333333333,\"#9c179e\"],[0.4444444444444444,\"#bd3786\"],[0.5555555555555556,\"#d8576b\"],[0.6666666666666666,\"#ed7953\"],[0.7777777777777778,\"#fb9f3a\"],[0.8888888888888888,\"#fdca26\"],[1.0,\"#f0f921\"]],\"type\":\"contour\"}],\"contourcarpet\":[{\"colorbar\":{\"outlinewidth\":0,\"ticks\":\"\"},\"type\":\"contourcarpet\"}],\"heatmap\":[{\"colorbar\":{\"outlinewidth\":0,\"ticks\":\"\"},\"colorscale\":[[0.0,\"#0d0887\"],[0.1111111111111111,\"#46039f\"],[0.2222222222222222,\"#7201a8\"],[0.3333333333333333,\"#9c179e\"],[0.4444444444444444,\"#bd3786\"],[0.5555555555555556,\"#d8576b\"],[0.6666666666666666,\"#ed7953\"],[0.7777777777777778,\"#fb9f3a\"],[0.8888888888888888,\"#fdca26\"],[1.0,\"#f0f921\"]],\"type\":\"heatmap\"}],\"heatmapgl\":[{\"colorbar\":{\"outlinewidth\":0,\"ticks\":\"\"},\"colorscale\":[[0.0,\"#0d0887\"],[0.1111111111111111,\"#46039f\"],[0.2222222222222222,\"#7201a8\"],[0.3333333333333333,\"#9c179e\"],[0.4444444444444444,\"#bd3786\"],[0.5555555555555556,\"#d8576b\"],[0.6666666666666666,\"#ed7953\"],[0.7777777777777778,\"#fb9f3a\"],[0.8888888888888888,\"#fdca26\"],[1.0,\"#f0f921\"]],\"type\":\"heatmapgl\"}],\"histogram\":[{\"marker\":{\"pattern\":{\"fillmode\":\"overlay\",\"size\":10,\"solidity\":0.2}},\"type\":\"histogram\"}],\"histogram2d\":[{\"colorbar\":{\"outlinewidth\":0,\"ticks\":\"\"},\"colorscale\":[[0.0,\"#0d0887\"],[0.1111111111111111,\"#46039f\"],[0.2222222222222222,\"#7201a8\"],[0.3333333333333333,\"#9c179e\"],[0.4444444444444444,\"#bd3786\"],[0.5555555555555556,\"#d8576b\"],[0.6666666666666666,\"#ed7953\"],[0.7777777777777778,\"#fb9f3a\"],[0.8888888888888888,\"#fdca26\"],[1.0,\"#f0f921\"]],\"type\":\"histogram2d\"}],\"histogram2dcontour\":[{\"colorbar\":{\"outlinewidth\":0,\"ticks\":\"\"},\"colorscale\":[[0.0,\"#0d0887\"],[0.1111111111111111,\"#46039f\"],[0.2222222222222222,\"#7201a8\"],[0.3333333333333333,\"#9c179e\"],[0.4444444444444444,\"#bd3786\"],[0.5555555555555556,\"#d8576b\"],[0.6666666666666666,\"#ed7953\"],[0.7777777777777778,\"#fb9f3a\"],[0.8888888888888888,\"#fdca26\"],[1.0,\"#f0f921\"]],\"type\":\"histogram2dcontour\"}],\"mesh3d\":[{\"colorbar\":{\"outlinewidth\":0,\"ticks\":\"\"},\"type\":\"mesh3d\"}],\"parcoords\":[{\"line\":{\"colorbar\":{\"outlinewidth\":0,\"ticks\":\"\"}},\"type\":\"parcoords\"}],\"pie\":[{\"automargin\":true,\"type\":\"pie\"}],\"scatter\":[{\"marker\":{\"colorbar\":{\"outlinewidth\":0,\"ticks\":\"\"}},\"type\":\"scatter\"}],\"scatter3d\":[{\"line\":{\"colorbar\":{\"outlinewidth\":0,\"ticks\":\"\"}},\"marker\":{\"colorbar\":{\"outlinewidth\":0,\"ticks\":\"\"}},\"type\":\"scatter3d\"}],\"scattercarpet\":[{\"marker\":{\"colorbar\":{\"outlinewidth\":0,\"ticks\":\"\"}},\"type\":\"scattercarpet\"}],\"scattergeo\":[{\"marker\":{\"colorbar\":{\"outlinewidth\":0,\"ticks\":\"\"}},\"type\":\"scattergeo\"}],\"scattergl\":[{\"marker\":{\"colorbar\":{\"outlinewidth\":0,\"ticks\":\"\"}},\"type\":\"scattergl\"}],\"scattermapbox\":[{\"marker\":{\"colorbar\":{\"outlinewidth\":0,\"ticks\":\"\"}},\"type\":\"scattermapbox\"}],\"scatterpolar\":[{\"marker\":{\"colorbar\":{\"outlinewidth\":0,\"ticks\":\"\"}},\"type\":\"scatterpolar\"}],\"scatterpolargl\":[{\"marker\":{\"colorbar\":{\"outlinewidth\":0,\"ticks\":\"\"}},\"type\":\"scatterpolargl\"}],\"scatterternary\":[{\"marker\":{\"colorbar\":{\"outlinewidth\":0,\"ticks\":\"\"}},\"type\":\"scatterternary\"}],\"surface\":[{\"colorbar\":{\"outlinewidth\":0,\"ticks\":\"\"},\"colorscale\":[[0.0,\"#0d0887\"],[0.1111111111111111,\"#46039f\"],[0.2222222222222222,\"#7201a8\"],[0.3333333333333333,\"#9c179e\"],[0.4444444444444444,\"#bd3786\"],[0.5555555555555556,\"#d8576b\"],[0.6666666666666666,\"#ed7953\"],[0.7777777777777778,\"#fb9f3a\"],[0.8888888888888888,\"#fdca26\"],[1.0,\"#f0f921\"]],\"type\":\"surface\"}],\"table\":[{\"cells\":{\"fill\":{\"color\":\"#EBF0F8\"},\"line\":{\"color\":\"white\"}},\"header\":{\"fill\":{\"color\":\"#C8D4E3\"},\"line\":{\"color\":\"white\"}},\"type\":\"table\"}]},\"layout\":{\"annotationdefaults\":{\"arrowcolor\":\"#2a3f5f\",\"arrowhead\":0,\"arrowwidth\":1},\"autotypenumbers\":\"strict\",\"coloraxis\":{\"colorbar\":{\"outlinewidth\":0,\"ticks\":\"\"}},\"colorscale\":{\"diverging\":[[0,\"#8e0152\"],[0.1,\"#c51b7d\"],[0.2,\"#de77ae\"],[0.3,\"#f1b6da\"],[0.4,\"#fde0ef\"],[0.5,\"#f7f7f7\"],[0.6,\"#e6f5d0\"],[0.7,\"#b8e186\"],[0.8,\"#7fbc41\"],[0.9,\"#4d9221\"],[1,\"#276419\"]],\"sequential\":[[0.0,\"#0d0887\"],[0.1111111111111111,\"#46039f\"],[0.2222222222222222,\"#7201a8\"],[0.3333333333333333,\"#9c179e\"],[0.4444444444444444,\"#bd3786\"],[0.5555555555555556,\"#d8576b\"],[0.6666666666666666,\"#ed7953\"],[0.7777777777777778,\"#fb9f3a\"],[0.8888888888888888,\"#fdca26\"],[1.0,\"#f0f921\"]],\"sequentialminus\":[[0.0,\"#0d0887\"],[0.1111111111111111,\"#46039f\"],[0.2222222222222222,\"#7201a8\"],[0.3333333333333333,\"#9c179e\"],[0.4444444444444444,\"#bd3786\"],[0.5555555555555556,\"#d8576b\"],[0.6666666666666666,\"#ed7953\"],[0.7777777777777778,\"#fb9f3a\"],[0.8888888888888888,\"#fdca26\"],[1.0,\"#f0f921\"]]},\"colorway\":[\"#636efa\",\"#EF553B\",\"#00cc96\",\"#ab63fa\",\"#FFA15A\",\"#19d3f3\",\"#FF6692\",\"#B6E880\",\"#FF97FF\",\"#FECB52\"],\"font\":{\"color\":\"#2a3f5f\"},\"geo\":{\"bgcolor\":\"white\",\"lakecolor\":\"white\",\"landcolor\":\"#E5ECF6\",\"showlakes\":true,\"showland\":true,\"subunitcolor\":\"white\"},\"hoverlabel\":{\"align\":\"left\"},\"hovermode\":\"closest\",\"mapbox\":{\"style\":\"light\"},\"paper_bgcolor\":\"white\",\"plot_bgcolor\":\"#E5ECF6\",\"polar\":{\"angularaxis\":{\"gridcolor\":\"white\",\"linecolor\":\"white\",\"ticks\":\"\"},\"bgcolor\":\"#E5ECF6\",\"radialaxis\":{\"gridcolor\":\"white\",\"linecolor\":\"white\",\"ticks\":\"\"}},\"scene\":{\"xaxis\":{\"backgroundcolor\":\"#E5ECF6\",\"gridcolor\":\"white\",\"gridwidth\":2,\"linecolor\":\"white\",\"showbackground\":true,\"ticks\":\"\",\"zerolinecolor\":\"white\"},\"yaxis\":{\"backgroundcolor\":\"#E5ECF6\",\"gridcolor\":\"white\",\"gridwidth\":2,\"linecolor\":\"white\",\"showbackground\":true,\"ticks\":\"\",\"zerolinecolor\":\"white\"},\"zaxis\":{\"backgroundcolor\":\"#E5ECF6\",\"gridcolor\":\"white\",\"gridwidth\":2,\"linecolor\":\"white\",\"showbackground\":true,\"ticks\":\"\",\"zerolinecolor\":\"white\"}},\"shapedefaults\":{\"line\":{\"color\":\"#2a3f5f\"}},\"ternary\":{\"aaxis\":{\"gridcolor\":\"white\",\"linecolor\":\"white\",\"ticks\":\"\"},\"baxis\":{\"gridcolor\":\"white\",\"linecolor\":\"white\",\"ticks\":\"\"},\"bgcolor\":\"#E5ECF6\",\"caxis\":{\"gridcolor\":\"white\",\"linecolor\":\"white\",\"ticks\":\"\"}},\"title\":{\"x\":0.05},\"xaxis\":{\"automargin\":true,\"gridcolor\":\"white\",\"linecolor\":\"white\",\"ticks\":\"\",\"title\":{\"standoff\":15},\"zerolinecolor\":\"white\",\"zerolinewidth\":2},\"yaxis\":{\"automargin\":true,\"gridcolor\":\"white\",\"linecolor\":\"white\",\"ticks\":\"\",\"title\":{\"standoff\":15},\"zerolinecolor\":\"white\",\"zerolinewidth\":2}}}},                        {\"responsive\": true}                    ).then(function(){\n",
              "                            \n",
              "var gd = document.getElementById('83fb3b2b-af8e-4738-8aef-c32c37973ade');\n",
              "var x = new MutationObserver(function (mutations, observer) {{\n",
              "        var display = window.getComputedStyle(gd).display;\n",
              "        if (!display || display === 'none') {{\n",
              "            console.log([gd, 'removed!']);\n",
              "            Plotly.purge(gd);\n",
              "            observer.disconnect();\n",
              "        }}\n",
              "}});\n",
              "\n",
              "// Listen for the removal of the full notebook cells\n",
              "var notebookContainer = gd.closest('#notebook-container');\n",
              "if (notebookContainer) {{\n",
              "    x.observe(notebookContainer, {childList: true});\n",
              "}}\n",
              "\n",
              "// Listen for the clearing of the current output cell\n",
              "var outputEl = gd.closest('.output');\n",
              "if (outputEl) {{\n",
              "    x.observe(outputEl, {childList: true});\n",
              "}}\n",
              "\n",
              "                        })                };                            </script>        </div>\n",
              "</body>\n",
              "</html>"
            ]
          },
          "metadata": {}
        }
      ]
    },
    {
      "cell_type": "markdown",
      "source": [
        "굴은 단백질이 많고, 광어 가자미는 단백질 함량이 6.59%임"
      ],
      "metadata": {
        "id": "MjishF2i1zdY"
      }
    },
    {
      "cell_type": "markdown",
      "source": [
        "## 해산물과 고기는 항상 지방 함량이 좋은것으로 알려져있음 가장 뚱뚱한 물고기를 찾아보자."
      ],
      "metadata": {
        "id": "sSoTrWdT18Ge"
      }
    },
    {
      "cell_type": "code",
      "source": [
        "top_10_fattest= meat.sort_values(by='Fat', ascending=False)\n",
        "top_10_fattest=top_10_fattest.head(10)\n",
        "fig = go.Figure(data=[go.Scatter(\n",
        "    x=top_10_fattest['Food'], y=top_10_fattest['Fat'],\n",
        "    mode='markers',\n",
        "    marker_size=[200,180,160,140,120, 100 ,80 , 60 ,40,20])\n",
        "])\n",
        "fig.update_layout(title='Meat/Seafood with high Fat Content')\n",
        "fig.show()"
      ],
      "metadata": {
        "colab": {
          "base_uri": "https://localhost:8080/",
          "height": 542
        },
        "id": "mY7NTNGJvz1y",
        "outputId": "c6a692be-c492-4d0e-b826-12e931f31c55"
      },
      "execution_count": null,
      "outputs": [
        {
          "output_type": "display_data",
          "data": {
            "text/html": [
              "<html>\n",
              "<head><meta charset=\"utf-8\" /></head>\n",
              "<body>\n",
              "    <div>            <script src=\"https://cdnjs.cloudflare.com/ajax/libs/mathjax/2.7.5/MathJax.js?config=TeX-AMS-MML_SVG\"></script><script type=\"text/javascript\">if (window.MathJax) {MathJax.Hub.Config({SVG: {font: \"STIX-Web\"}});}</script>                <script type=\"text/javascript\">window.PlotlyConfig = {MathJaxConfig: 'local'};</script>\n",
              "        <script src=\"https://cdn.plot.ly/plotly-2.8.3.min.js\"></script>                <div id=\"5d199e48-4789-46f1-bf39-d00a578efc7e\" class=\"plotly-graph-div\" style=\"height:525px; width:100%;\"></div>            <script type=\"text/javascript\">                                    window.PLOTLYENV=window.PLOTLYENV || {};                                    if (document.getElementById(\"5d199e48-4789-46f1-bf39-d00a578efc7e\")) {                    Plotly.newPlot(                        \"5d199e48-4789-46f1-bf39-d00a578efc7e\",                        [{\"marker\":{\"size\":[200,180,160,140,120,100,80,60,40,20]},\"mode\":\"markers\",\"x\":[\"Oysters\",\"Pork sausage\",\"Roast beef\",\"Lamb chop broiled\",\"Pot-pie\",\"Duck domestic\",\"Steak\",\"Pork roast\",\"Shoulder braised\",\"Ham pan-broiled\"],\"y\":[233,44,36,35,28,28,27,24,23,22],\"type\":\"scatter\"}],                        {\"template\":{\"data\":{\"bar\":[{\"error_x\":{\"color\":\"#2a3f5f\"},\"error_y\":{\"color\":\"#2a3f5f\"},\"marker\":{\"line\":{\"color\":\"#E5ECF6\",\"width\":0.5},\"pattern\":{\"fillmode\":\"overlay\",\"size\":10,\"solidity\":0.2}},\"type\":\"bar\"}],\"barpolar\":[{\"marker\":{\"line\":{\"color\":\"#E5ECF6\",\"width\":0.5},\"pattern\":{\"fillmode\":\"overlay\",\"size\":10,\"solidity\":0.2}},\"type\":\"barpolar\"}],\"carpet\":[{\"aaxis\":{\"endlinecolor\":\"#2a3f5f\",\"gridcolor\":\"white\",\"linecolor\":\"white\",\"minorgridcolor\":\"white\",\"startlinecolor\":\"#2a3f5f\"},\"baxis\":{\"endlinecolor\":\"#2a3f5f\",\"gridcolor\":\"white\",\"linecolor\":\"white\",\"minorgridcolor\":\"white\",\"startlinecolor\":\"#2a3f5f\"},\"type\":\"carpet\"}],\"choropleth\":[{\"colorbar\":{\"outlinewidth\":0,\"ticks\":\"\"},\"type\":\"choropleth\"}],\"contour\":[{\"colorbar\":{\"outlinewidth\":0,\"ticks\":\"\"},\"colorscale\":[[0.0,\"#0d0887\"],[0.1111111111111111,\"#46039f\"],[0.2222222222222222,\"#7201a8\"],[0.3333333333333333,\"#9c179e\"],[0.4444444444444444,\"#bd3786\"],[0.5555555555555556,\"#d8576b\"],[0.6666666666666666,\"#ed7953\"],[0.7777777777777778,\"#fb9f3a\"],[0.8888888888888888,\"#fdca26\"],[1.0,\"#f0f921\"]],\"type\":\"contour\"}],\"contourcarpet\":[{\"colorbar\":{\"outlinewidth\":0,\"ticks\":\"\"},\"type\":\"contourcarpet\"}],\"heatmap\":[{\"colorbar\":{\"outlinewidth\":0,\"ticks\":\"\"},\"colorscale\":[[0.0,\"#0d0887\"],[0.1111111111111111,\"#46039f\"],[0.2222222222222222,\"#7201a8\"],[0.3333333333333333,\"#9c179e\"],[0.4444444444444444,\"#bd3786\"],[0.5555555555555556,\"#d8576b\"],[0.6666666666666666,\"#ed7953\"],[0.7777777777777778,\"#fb9f3a\"],[0.8888888888888888,\"#fdca26\"],[1.0,\"#f0f921\"]],\"type\":\"heatmap\"}],\"heatmapgl\":[{\"colorbar\":{\"outlinewidth\":0,\"ticks\":\"\"},\"colorscale\":[[0.0,\"#0d0887\"],[0.1111111111111111,\"#46039f\"],[0.2222222222222222,\"#7201a8\"],[0.3333333333333333,\"#9c179e\"],[0.4444444444444444,\"#bd3786\"],[0.5555555555555556,\"#d8576b\"],[0.6666666666666666,\"#ed7953\"],[0.7777777777777778,\"#fb9f3a\"],[0.8888888888888888,\"#fdca26\"],[1.0,\"#f0f921\"]],\"type\":\"heatmapgl\"}],\"histogram\":[{\"marker\":{\"pattern\":{\"fillmode\":\"overlay\",\"size\":10,\"solidity\":0.2}},\"type\":\"histogram\"}],\"histogram2d\":[{\"colorbar\":{\"outlinewidth\":0,\"ticks\":\"\"},\"colorscale\":[[0.0,\"#0d0887\"],[0.1111111111111111,\"#46039f\"],[0.2222222222222222,\"#7201a8\"],[0.3333333333333333,\"#9c179e\"],[0.4444444444444444,\"#bd3786\"],[0.5555555555555556,\"#d8576b\"],[0.6666666666666666,\"#ed7953\"],[0.7777777777777778,\"#fb9f3a\"],[0.8888888888888888,\"#fdca26\"],[1.0,\"#f0f921\"]],\"type\":\"histogram2d\"}],\"histogram2dcontour\":[{\"colorbar\":{\"outlinewidth\":0,\"ticks\":\"\"},\"colorscale\":[[0.0,\"#0d0887\"],[0.1111111111111111,\"#46039f\"],[0.2222222222222222,\"#7201a8\"],[0.3333333333333333,\"#9c179e\"],[0.4444444444444444,\"#bd3786\"],[0.5555555555555556,\"#d8576b\"],[0.6666666666666666,\"#ed7953\"],[0.7777777777777778,\"#fb9f3a\"],[0.8888888888888888,\"#fdca26\"],[1.0,\"#f0f921\"]],\"type\":\"histogram2dcontour\"}],\"mesh3d\":[{\"colorbar\":{\"outlinewidth\":0,\"ticks\":\"\"},\"type\":\"mesh3d\"}],\"parcoords\":[{\"line\":{\"colorbar\":{\"outlinewidth\":0,\"ticks\":\"\"}},\"type\":\"parcoords\"}],\"pie\":[{\"automargin\":true,\"type\":\"pie\"}],\"scatter\":[{\"marker\":{\"colorbar\":{\"outlinewidth\":0,\"ticks\":\"\"}},\"type\":\"scatter\"}],\"scatter3d\":[{\"line\":{\"colorbar\":{\"outlinewidth\":0,\"ticks\":\"\"}},\"marker\":{\"colorbar\":{\"outlinewidth\":0,\"ticks\":\"\"}},\"type\":\"scatter3d\"}],\"scattercarpet\":[{\"marker\":{\"colorbar\":{\"outlinewidth\":0,\"ticks\":\"\"}},\"type\":\"scattercarpet\"}],\"scattergeo\":[{\"marker\":{\"colorbar\":{\"outlinewidth\":0,\"ticks\":\"\"}},\"type\":\"scattergeo\"}],\"scattergl\":[{\"marker\":{\"colorbar\":{\"outlinewidth\":0,\"ticks\":\"\"}},\"type\":\"scattergl\"}],\"scattermapbox\":[{\"marker\":{\"colorbar\":{\"outlinewidth\":0,\"ticks\":\"\"}},\"type\":\"scattermapbox\"}],\"scatterpolar\":[{\"marker\":{\"colorbar\":{\"outlinewidth\":0,\"ticks\":\"\"}},\"type\":\"scatterpolar\"}],\"scatterpolargl\":[{\"marker\":{\"colorbar\":{\"outlinewidth\":0,\"ticks\":\"\"}},\"type\":\"scatterpolargl\"}],\"scatterternary\":[{\"marker\":{\"colorbar\":{\"outlinewidth\":0,\"ticks\":\"\"}},\"type\":\"scatterternary\"}],\"surface\":[{\"colorbar\":{\"outlinewidth\":0,\"ticks\":\"\"},\"colorscale\":[[0.0,\"#0d0887\"],[0.1111111111111111,\"#46039f\"],[0.2222222222222222,\"#7201a8\"],[0.3333333333333333,\"#9c179e\"],[0.4444444444444444,\"#bd3786\"],[0.5555555555555556,\"#d8576b\"],[0.6666666666666666,\"#ed7953\"],[0.7777777777777778,\"#fb9f3a\"],[0.8888888888888888,\"#fdca26\"],[1.0,\"#f0f921\"]],\"type\":\"surface\"}],\"table\":[{\"cells\":{\"fill\":{\"color\":\"#EBF0F8\"},\"line\":{\"color\":\"white\"}},\"header\":{\"fill\":{\"color\":\"#C8D4E3\"},\"line\":{\"color\":\"white\"}},\"type\":\"table\"}]},\"layout\":{\"annotationdefaults\":{\"arrowcolor\":\"#2a3f5f\",\"arrowhead\":0,\"arrowwidth\":1},\"autotypenumbers\":\"strict\",\"coloraxis\":{\"colorbar\":{\"outlinewidth\":0,\"ticks\":\"\"}},\"colorscale\":{\"diverging\":[[0,\"#8e0152\"],[0.1,\"#c51b7d\"],[0.2,\"#de77ae\"],[0.3,\"#f1b6da\"],[0.4,\"#fde0ef\"],[0.5,\"#f7f7f7\"],[0.6,\"#e6f5d0\"],[0.7,\"#b8e186\"],[0.8,\"#7fbc41\"],[0.9,\"#4d9221\"],[1,\"#276419\"]],\"sequential\":[[0.0,\"#0d0887\"],[0.1111111111111111,\"#46039f\"],[0.2222222222222222,\"#7201a8\"],[0.3333333333333333,\"#9c179e\"],[0.4444444444444444,\"#bd3786\"],[0.5555555555555556,\"#d8576b\"],[0.6666666666666666,\"#ed7953\"],[0.7777777777777778,\"#fb9f3a\"],[0.8888888888888888,\"#fdca26\"],[1.0,\"#f0f921\"]],\"sequentialminus\":[[0.0,\"#0d0887\"],[0.1111111111111111,\"#46039f\"],[0.2222222222222222,\"#7201a8\"],[0.3333333333333333,\"#9c179e\"],[0.4444444444444444,\"#bd3786\"],[0.5555555555555556,\"#d8576b\"],[0.6666666666666666,\"#ed7953\"],[0.7777777777777778,\"#fb9f3a\"],[0.8888888888888888,\"#fdca26\"],[1.0,\"#f0f921\"]]},\"colorway\":[\"#636efa\",\"#EF553B\",\"#00cc96\",\"#ab63fa\",\"#FFA15A\",\"#19d3f3\",\"#FF6692\",\"#B6E880\",\"#FF97FF\",\"#FECB52\"],\"font\":{\"color\":\"#2a3f5f\"},\"geo\":{\"bgcolor\":\"white\",\"lakecolor\":\"white\",\"landcolor\":\"#E5ECF6\",\"showlakes\":true,\"showland\":true,\"subunitcolor\":\"white\"},\"hoverlabel\":{\"align\":\"left\"},\"hovermode\":\"closest\",\"mapbox\":{\"style\":\"light\"},\"paper_bgcolor\":\"white\",\"plot_bgcolor\":\"#E5ECF6\",\"polar\":{\"angularaxis\":{\"gridcolor\":\"white\",\"linecolor\":\"white\",\"ticks\":\"\"},\"bgcolor\":\"#E5ECF6\",\"radialaxis\":{\"gridcolor\":\"white\",\"linecolor\":\"white\",\"ticks\":\"\"}},\"scene\":{\"xaxis\":{\"backgroundcolor\":\"#E5ECF6\",\"gridcolor\":\"white\",\"gridwidth\":2,\"linecolor\":\"white\",\"showbackground\":true,\"ticks\":\"\",\"zerolinecolor\":\"white\"},\"yaxis\":{\"backgroundcolor\":\"#E5ECF6\",\"gridcolor\":\"white\",\"gridwidth\":2,\"linecolor\":\"white\",\"showbackground\":true,\"ticks\":\"\",\"zerolinecolor\":\"white\"},\"zaxis\":{\"backgroundcolor\":\"#E5ECF6\",\"gridcolor\":\"white\",\"gridwidth\":2,\"linecolor\":\"white\",\"showbackground\":true,\"ticks\":\"\",\"zerolinecolor\":\"white\"}},\"shapedefaults\":{\"line\":{\"color\":\"#2a3f5f\"}},\"ternary\":{\"aaxis\":{\"gridcolor\":\"white\",\"linecolor\":\"white\",\"ticks\":\"\"},\"baxis\":{\"gridcolor\":\"white\",\"linecolor\":\"white\",\"ticks\":\"\"},\"bgcolor\":\"#E5ECF6\",\"caxis\":{\"gridcolor\":\"white\",\"linecolor\":\"white\",\"ticks\":\"\"}},\"title\":{\"x\":0.05},\"xaxis\":{\"automargin\":true,\"gridcolor\":\"white\",\"linecolor\":\"white\",\"ticks\":\"\",\"title\":{\"standoff\":15},\"zerolinecolor\":\"white\",\"zerolinewidth\":2},\"yaxis\":{\"automargin\":true,\"gridcolor\":\"white\",\"linecolor\":\"white\",\"ticks\":\"\",\"title\":{\"standoff\":15},\"zerolinecolor\":\"white\",\"zerolinewidth\":2}}},\"title\":{\"text\":\"Meat/Seafood with high Fat Content\"}},                        {\"responsive\": true}                    ).then(function(){\n",
              "                            \n",
              "var gd = document.getElementById('5d199e48-4789-46f1-bf39-d00a578efc7e');\n",
              "var x = new MutationObserver(function (mutations, observer) {{\n",
              "        var display = window.getComputedStyle(gd).display;\n",
              "        if (!display || display === 'none') {{\n",
              "            console.log([gd, 'removed!']);\n",
              "            Plotly.purge(gd);\n",
              "            observer.disconnect();\n",
              "        }}\n",
              "}});\n",
              "\n",
              "// Listen for the removal of the full notebook cells\n",
              "var notebookContainer = gd.closest('#notebook-container');\n",
              "if (notebookContainer) {{\n",
              "    x.observe(notebookContainer, {childList: true});\n",
              "}}\n",
              "\n",
              "// Listen for the clearing of the current output cell\n",
              "var outputEl = gd.closest('.output');\n",
              "if (outputEl) {{\n",
              "    x.observe(outputEl, {childList: true});\n",
              "}}\n",
              "\n",
              "                        })                };                            </script>        </div>\n",
              "</body>\n",
              "</html>"
            ]
          },
          "metadata": {}
        }
      ]
    },
    {
      "cell_type": "markdown",
      "source": [
        "그래서 지방 함량이 높을 뿐 아니라 단백질 함량만 높다. 돼지고기 소시지는 로스트 비프 다음으로 높다. 또한, 가장 뚱뚱한 고기 10위 안에 어떤 종류의 생선도 들어 있지 않습니다. 생선은 지방이 적은 편인 것 같네요.\n"
      ],
      "metadata": {
        "id": "pjP0MEpL2H9G"
      }
    },
    {
      "cell_type": "markdown",
      "source": [
        "## 마지막으로 식이섬유가 가장 많은 고기를 찾아보자"
      ],
      "metadata": {
        "id": "DwbOL_z12I3k"
      }
    },
    {
      "cell_type": "code",
      "source": [
        "top_10_fibrous= meat.sort_values(by='Fiber', ascending=False)\n",
        "top_10_fibrous=top_10_fibrous.head(10)\n",
        "top_10_fibrous"
      ],
      "metadata": {
        "colab": {
          "base_uri": "https://localhost:8080/",
          "height": 363
        },
        "id": "J4Y-iqdVv1AM",
        "outputId": "d623ea7f-7ee9-40a0-9f3a-95401270b0aa"
      },
      "execution_count": null,
      "outputs": [
        {
          "output_type": "execute_result",
          "data": {
            "text/plain": [
              "                 Food    Measure  Grams  Calories  Protein  Fat  Sat.Fat  \\\n",
              "82            Oysters   6-8 med.    230     231.0      232  233    234.0   \n",
              "43              Bacon   2 slices     16      95.0        4    8      7.0   \n",
              "78            Halibut  3 1/2 oz.    100     182.0       26    8      0.0   \n",
              "69             Turkey  3 1/2 oz.    100     265.0       27   15      0.0   \n",
              "70               Veal      3 oz.     85     185.0       23    9      8.0   \n",
              "71              Roast      3 oz.     85     305.0       13   14     13.0   \n",
              "72              Clams      3 oz.     85      87.0       12    1      0.0   \n",
              "73                Cod  3 1/2 oz.    100     170.0       28    5      0.0   \n",
              "74          Crab meat      3 oz.     85      90.0       14    2      0.0   \n",
              "75  Fish sticks fried          5    112     200.0       19   10      5.0   \n",
              "\n",
              "    Fiber  Carbs      Category  \n",
              "82  235.0  236.0  Fish Seafood  \n",
              "43    0.0    1.0  Meat Poultry  \n",
              "78    0.0    0.0  Fish Seafood  \n",
              "69    0.0    0.0  Meat Poultry  \n",
              "70    0.0    0.0  Meat Poultry  \n",
              "71    0.0    0.0  Meat Poultry  \n",
              "72    0.0    2.0  Fish Seafood  \n",
              "73    0.0    0.0  Fish Seafood  \n",
              "74    0.0    1.0  Fish Seafood  \n",
              "75    0.0    8.0  Fish Seafood  "
            ],
            "text/html": [
              "\n",
              "  <div id=\"df-731f08b5-00e2-4372-8cc4-da24fed80561\">\n",
              "    <div class=\"colab-df-container\">\n",
              "      <div>\n",
              "<style scoped>\n",
              "    .dataframe tbody tr th:only-of-type {\n",
              "        vertical-align: middle;\n",
              "    }\n",
              "\n",
              "    .dataframe tbody tr th {\n",
              "        vertical-align: top;\n",
              "    }\n",
              "\n",
              "    .dataframe thead th {\n",
              "        text-align: right;\n",
              "    }\n",
              "</style>\n",
              "<table border=\"1\" class=\"dataframe\">\n",
              "  <thead>\n",
              "    <tr style=\"text-align: right;\">\n",
              "      <th></th>\n",
              "      <th>Food</th>\n",
              "      <th>Measure</th>\n",
              "      <th>Grams</th>\n",
              "      <th>Calories</th>\n",
              "      <th>Protein</th>\n",
              "      <th>Fat</th>\n",
              "      <th>Sat.Fat</th>\n",
              "      <th>Fiber</th>\n",
              "      <th>Carbs</th>\n",
              "      <th>Category</th>\n",
              "    </tr>\n",
              "  </thead>\n",
              "  <tbody>\n",
              "    <tr>\n",
              "      <th>82</th>\n",
              "      <td>Oysters</td>\n",
              "      <td>6-8 med.</td>\n",
              "      <td>230</td>\n",
              "      <td>231.0</td>\n",
              "      <td>232</td>\n",
              "      <td>233</td>\n",
              "      <td>234.0</td>\n",
              "      <td>235.0</td>\n",
              "      <td>236.0</td>\n",
              "      <td>Fish Seafood</td>\n",
              "    </tr>\n",
              "    <tr>\n",
              "      <th>43</th>\n",
              "      <td>Bacon</td>\n",
              "      <td>2 slices</td>\n",
              "      <td>16</td>\n",
              "      <td>95.0</td>\n",
              "      <td>4</td>\n",
              "      <td>8</td>\n",
              "      <td>7.0</td>\n",
              "      <td>0.0</td>\n",
              "      <td>1.0</td>\n",
              "      <td>Meat Poultry</td>\n",
              "    </tr>\n",
              "    <tr>\n",
              "      <th>78</th>\n",
              "      <td>Halibut</td>\n",
              "      <td>3 1/2 oz.</td>\n",
              "      <td>100</td>\n",
              "      <td>182.0</td>\n",
              "      <td>26</td>\n",
              "      <td>8</td>\n",
              "      <td>0.0</td>\n",
              "      <td>0.0</td>\n",
              "      <td>0.0</td>\n",
              "      <td>Fish Seafood</td>\n",
              "    </tr>\n",
              "    <tr>\n",
              "      <th>69</th>\n",
              "      <td>Turkey</td>\n",
              "      <td>3 1/2 oz.</td>\n",
              "      <td>100</td>\n",
              "      <td>265.0</td>\n",
              "      <td>27</td>\n",
              "      <td>15</td>\n",
              "      <td>0.0</td>\n",
              "      <td>0.0</td>\n",
              "      <td>0.0</td>\n",
              "      <td>Meat Poultry</td>\n",
              "    </tr>\n",
              "    <tr>\n",
              "      <th>70</th>\n",
              "      <td>Veal</td>\n",
              "      <td>3 oz.</td>\n",
              "      <td>85</td>\n",
              "      <td>185.0</td>\n",
              "      <td>23</td>\n",
              "      <td>9</td>\n",
              "      <td>8.0</td>\n",
              "      <td>0.0</td>\n",
              "      <td>0.0</td>\n",
              "      <td>Meat Poultry</td>\n",
              "    </tr>\n",
              "    <tr>\n",
              "      <th>71</th>\n",
              "      <td>Roast</td>\n",
              "      <td>3 oz.</td>\n",
              "      <td>85</td>\n",
              "      <td>305.0</td>\n",
              "      <td>13</td>\n",
              "      <td>14</td>\n",
              "      <td>13.0</td>\n",
              "      <td>0.0</td>\n",
              "      <td>0.0</td>\n",
              "      <td>Meat Poultry</td>\n",
              "    </tr>\n",
              "    <tr>\n",
              "      <th>72</th>\n",
              "      <td>Clams</td>\n",
              "      <td>3 oz.</td>\n",
              "      <td>85</td>\n",
              "      <td>87.0</td>\n",
              "      <td>12</td>\n",
              "      <td>1</td>\n",
              "      <td>0.0</td>\n",
              "      <td>0.0</td>\n",
              "      <td>2.0</td>\n",
              "      <td>Fish Seafood</td>\n",
              "    </tr>\n",
              "    <tr>\n",
              "      <th>73</th>\n",
              "      <td>Cod</td>\n",
              "      <td>3 1/2 oz.</td>\n",
              "      <td>100</td>\n",
              "      <td>170.0</td>\n",
              "      <td>28</td>\n",
              "      <td>5</td>\n",
              "      <td>0.0</td>\n",
              "      <td>0.0</td>\n",
              "      <td>0.0</td>\n",
              "      <td>Fish Seafood</td>\n",
              "    </tr>\n",
              "    <tr>\n",
              "      <th>74</th>\n",
              "      <td>Crab meat</td>\n",
              "      <td>3 oz.</td>\n",
              "      <td>85</td>\n",
              "      <td>90.0</td>\n",
              "      <td>14</td>\n",
              "      <td>2</td>\n",
              "      <td>0.0</td>\n",
              "      <td>0.0</td>\n",
              "      <td>1.0</td>\n",
              "      <td>Fish Seafood</td>\n",
              "    </tr>\n",
              "    <tr>\n",
              "      <th>75</th>\n",
              "      <td>Fish sticks fried</td>\n",
              "      <td>5</td>\n",
              "      <td>112</td>\n",
              "      <td>200.0</td>\n",
              "      <td>19</td>\n",
              "      <td>10</td>\n",
              "      <td>5.0</td>\n",
              "      <td>0.0</td>\n",
              "      <td>8.0</td>\n",
              "      <td>Fish Seafood</td>\n",
              "    </tr>\n",
              "  </tbody>\n",
              "</table>\n",
              "</div>\n",
              "      <button class=\"colab-df-convert\" onclick=\"convertToInteractive('df-731f08b5-00e2-4372-8cc4-da24fed80561')\"\n",
              "              title=\"Convert this dataframe to an interactive table.\"\n",
              "              style=\"display:none;\">\n",
              "        \n",
              "  <svg xmlns=\"http://www.w3.org/2000/svg\" height=\"24px\"viewBox=\"0 0 24 24\"\n",
              "       width=\"24px\">\n",
              "    <path d=\"M0 0h24v24H0V0z\" fill=\"none\"/>\n",
              "    <path d=\"M18.56 5.44l.94 2.06.94-2.06 2.06-.94-2.06-.94-.94-2.06-.94 2.06-2.06.94zm-11 1L8.5 8.5l.94-2.06 2.06-.94-2.06-.94L8.5 2.5l-.94 2.06-2.06.94zm10 10l.94 2.06.94-2.06 2.06-.94-2.06-.94-.94-2.06-.94 2.06-2.06.94z\"/><path d=\"M17.41 7.96l-1.37-1.37c-.4-.4-.92-.59-1.43-.59-.52 0-1.04.2-1.43.59L10.3 9.45l-7.72 7.72c-.78.78-.78 2.05 0 2.83L4 21.41c.39.39.9.59 1.41.59.51 0 1.02-.2 1.41-.59l7.78-7.78 2.81-2.81c.8-.78.8-2.07 0-2.86zM5.41 20L4 18.59l7.72-7.72 1.47 1.35L5.41 20z\"/>\n",
              "  </svg>\n",
              "      </button>\n",
              "      \n",
              "  <style>\n",
              "    .colab-df-container {\n",
              "      display:flex;\n",
              "      flex-wrap:wrap;\n",
              "      gap: 12px;\n",
              "    }\n",
              "\n",
              "    .colab-df-convert {\n",
              "      background-color: #E8F0FE;\n",
              "      border: none;\n",
              "      border-radius: 50%;\n",
              "      cursor: pointer;\n",
              "      display: none;\n",
              "      fill: #1967D2;\n",
              "      height: 32px;\n",
              "      padding: 0 0 0 0;\n",
              "      width: 32px;\n",
              "    }\n",
              "\n",
              "    .colab-df-convert:hover {\n",
              "      background-color: #E2EBFA;\n",
              "      box-shadow: 0px 1px 2px rgba(60, 64, 67, 0.3), 0px 1px 3px 1px rgba(60, 64, 67, 0.15);\n",
              "      fill: #174EA6;\n",
              "    }\n",
              "\n",
              "    [theme=dark] .colab-df-convert {\n",
              "      background-color: #3B4455;\n",
              "      fill: #D2E3FC;\n",
              "    }\n",
              "\n",
              "    [theme=dark] .colab-df-convert:hover {\n",
              "      background-color: #434B5C;\n",
              "      box-shadow: 0px 1px 3px 1px rgba(0, 0, 0, 0.15);\n",
              "      filter: drop-shadow(0px 1px 2px rgba(0, 0, 0, 0.3));\n",
              "      fill: #FFFFFF;\n",
              "    }\n",
              "  </style>\n",
              "\n",
              "      <script>\n",
              "        const buttonEl =\n",
              "          document.querySelector('#df-731f08b5-00e2-4372-8cc4-da24fed80561 button.colab-df-convert');\n",
              "        buttonEl.style.display =\n",
              "          google.colab.kernel.accessAllowed ? 'block' : 'none';\n",
              "\n",
              "        async function convertToInteractive(key) {\n",
              "          const element = document.querySelector('#df-731f08b5-00e2-4372-8cc4-da24fed80561');\n",
              "          const dataTable =\n",
              "            await google.colab.kernel.invokeFunction('convertToInteractive',\n",
              "                                                     [key], {});\n",
              "          if (!dataTable) return;\n",
              "\n",
              "          const docLinkHtml = 'Like what you see? Visit the ' +\n",
              "            '<a target=\"_blank\" href=https://colab.research.google.com/notebooks/data_table.ipynb>data table notebook</a>'\n",
              "            + ' to learn more about interactive tables.';\n",
              "          element.innerHTML = '';\n",
              "          dataTable['output_type'] = 'display_data';\n",
              "          await google.colab.output.renderOutput(dataTable, element);\n",
              "          const docLink = document.createElement('div');\n",
              "          docLink.innerHTML = docLinkHtml;\n",
              "          element.appendChild(docLink);\n",
              "        }\n",
              "      </script>\n",
              "    </div>\n",
              "  </div>\n",
              "  "
            ]
          },
          "metadata": {},
          "execution_count": 43
        }
      ]
    },
    {
      "cell_type": "markdown",
      "source": [
        "Bacon, Halibut, Turkey 그리고 송아지들이 섬유 함량 면에서 차트의 1위를 차지했습니다.\n"
      ],
      "metadata": {
        "id": "YpH_Abvt2UvY"
      }
    },
    {
      "cell_type": "markdown",
      "source": [
        "## 3D 산점도\n",
        "\n",
        "3D 산점도는 세 변수 간의 관계를 표시하기 위해 세 축에 데이터 점을 표시하는 데 사용됩니다. 데이터 테이블의 각 행은 X, Y 및 Z 축에 설정된 열의 값에 따라 위치가 달라지는 마커로 표시됩니다. 기본적으로 이전 그림과 같이 정규 x-y 산점도의 z축에 일부 데이터를 표시합니다.\n",
        "\n",
        "그것들은 흥미롭고 많은 추론을 제공하지 않을 수 있지만, 시각적으로 매력적이다.\n"
      ],
      "metadata": {
        "id": "nVCn6lcL2ZUE"
      }
    },
    {
      "cell_type": "code",
      "source": [
        "trace1 = go.Scatter3d(\n",
        "    x=nutrients['Category'].values,\n",
        "    y=nutrients['Food'].values,\n",
        "    z=nutrients['Fat'].values,\n",
        "    text=nutrients['Food'].values,\n",
        "    mode='markers',\n",
        "    marker=dict(\n",
        "        sizemode='diameter',\n",
        "         sizeref=750,\n",
        "        color = nutrients['Fat'].values,\n",
        "        colorscale = 'Portland',\n",
        "        colorbar = dict(title = 'Total Fat (% Daily Value)'),\n",
        "        line=dict(color='rgb(255, 255, 255)')\n",
        "    )\n",
        ")\n",
        "data=[trace1]\n",
        "layout=dict(height=800, width=800, title='3D Scatter Plot of Fatty foods (% Daily Value)')\n",
        "fig=dict(data=data, layout=layout)\n",
        "py.iplot(fig, filename='3DBubble')"
      ],
      "metadata": {
        "colab": {
          "base_uri": "https://localhost:8080/",
          "height": 817
        },
        "id": "jUeFWcEFv2Dq",
        "outputId": "5d054a6f-6461-4d49-a71c-674d8a96969a"
      },
      "execution_count": null,
      "outputs": [
        {
          "output_type": "display_data",
          "data": {
            "text/html": [
              "<html>\n",
              "<head><meta charset=\"utf-8\" /></head>\n",
              "<body>\n",
              "    <div>            <script src=\"https://cdnjs.cloudflare.com/ajax/libs/mathjax/2.7.5/MathJax.js?config=TeX-AMS-MML_SVG\"></script><script type=\"text/javascript\">if (window.MathJax) {MathJax.Hub.Config({SVG: {font: \"STIX-Web\"}});}</script>                <script type=\"text/javascript\">window.PlotlyConfig = {MathJaxConfig: 'local'};</script>\n",
              "        <script src=\"https://cdn.plot.ly/plotly-2.8.3.min.js\"></script>                <div id=\"cfcdb4e1-8586-4e63-bec1-3cb216e55a92\" class=\"plotly-graph-div\" style=\"height:800px; width:800px;\"></div>            <script type=\"text/javascript\">                                    window.PLOTLYENV=window.PLOTLYENV || {};                                    if (document.getElementById(\"cfcdb4e1-8586-4e63-bec1-3cb216e55a92\")) {                    Plotly.newPlot(                        \"cfcdb4e1-8586-4e63-bec1-3cb216e55a92\",                        [{\"marker\":{\"color\":[40,0,5,20,42,28,0,0,10,24,11,4,10,14,18,10,15,44,11,0,6,19,11,9,9,8,12,16,10,11,115,115,100,110,91,11,12,14,14,14,6,8,8,16,17,10,36,27,12,10,8,4,28,10,9,15,20,14,28,35,14,23,21,22,13,14,24,44,15,9,14,1,5,2,10,8,5,8,13,1,233,6,5,9,8,10,1,6,7,0,0,0,0,0,6,1,0,0,0,0,0,0,0,0,0,0,0,0,0,0,1,0,0,1,0,0,1,0,0,0,0,0,0,0,0,0,0,0,1,0,0,0,0,0,0,9,0,7,12,14,8,0,7,0,0,11,0,0,0,1,6,0,0,0,0,1,0,0,0,0,0,0,0,0,0,0,18,0,1,0,0,1,0,0,0,0,0,0,0,0,0,0,0,0,0,0,0,0,10,13,0,0,0,0,0,0,0,1,0,0,0,0,0,0,0,1,0,0,0,0,0,0,0,0,1,4,0,1,1,15,14,1,4,0,0,4,1,1,0,22,1,2,1,25,5,2,3,9,9,6,7,0,0,3,0,0,0,6,12,2,1,10,5,4,1,9,7,7,1,1,5,4,0,2,2,12,4,3,7,2,4,12,0,14,3,4,7,5,2,3,4,12,0,0,6,0,7,0,0,0,0,0,0,0,0,13,13,11,12,9,12,0,0,0,0,0,10,38,40,47,32,20,25,24,25,35,24,26,32,0,0,0,0,0,0,0,0,0,0,0,0],\"colorbar\":{\"title\":{\"text\":\"Total Fat (% Daily Value)\"}},\"colorscale\":[[0.0,\"rgb(12,51,131)\"],[0.25,\"rgb(10,136,186)\"],[0.5,\"rgb(242,211,56)\"],[0.75,\"rgb(242,143,56)\"],[1.0,\"rgb(217,30,30)\"]],\"line\":{\"color\":\"rgb(255, 255, 255)\"},\"sizemode\":\"diameter\",\"sizeref\":750},\"mode\":\"markers\",\"text\":[\"Cows' milk\",\"Milk skim\",\"Buttermilk\",\"Evaporated undiluted\",\"Fortified milk\",\"Powdered milk\",\"skim instant\",\"skim non-instant\",\"Goats' milk\",\"(1/2 cup ice cream)\",\"Cocoa\",\"skim. milk\",\"(cornstarch)\",\"Custard\",\"Ice cream\",\"Ice milk\",\"Cream or half-and-half\",\"or whipping\",\"Cheese\",\"uncreamed\",\"Cheddar\",\"Cheddar grated cup\",\"Cream cheese\",\"Processed cheese\",\"Roquefort type\",\"Swiss\",\"Eggs raw\",\"Eggs Scrambled or fried\",\"Yolks\",\"Butter\",\"Butter\",\"Butter\",\"Hydrogenated cooking fat\",\"Lard\",\"Margarine\",\"Margarine 2 pat or\",\"Mayonnaise\",\"Corn oil\",\"Olive oil\",\"Safflower seed oil\",\"French dressing\",\"Thousand Island sauce\",\"Bacon\",\"Beef\",\"Hamburger\",\"Ground lean\",\"Roast beef\",\"Steak\",\"Steak lean as round\",\"Corned beef\",\"Corned beef hash canned\",\"Corned beef hash Dried\",\"Pot-pie\",\"Corned beef hash Stew\",\"chicken\",\"Fried breast or leg and thigh chicken\",\"Roasted chicken\",\"Chicken livers fried\",\"Duck domestic\",\"Lamb chop broiled\",\"Leg roasted\",\"Shoulder braised\",\"Pork chop 1 thick\",\"Ham pan-broiled\",\"Ham as \",\"Ham canned spiced\",\"Pork roast\",\"Pork sausage\",\"Turkey\",\"Veal\",\"Roast\",\"Clams\",\"Cod\",\"Crab meat\",\"Fish sticks fried\",\"Flounder\",\"Haddock\",\"Halibut\",\"Herring\",\"Lobster\",\"Oysters\",\"Oyster stew\",\"Salmon\",\"Sardines\",\"Scallops\",\"Shad\",\"Shrimp\",\"Swordfish\",\"Tuna\",\"Artichoke\",\"Asparagus\",\"Beans\",\"Lima\",\"Lima dry cooked\",\"Navy baked with pork\",\"Red kidney\",\"Bean sprouts\",\"Beet greens\",\"Broccoli\",\"Brussels sprouts\",\"Sauerkraut\",\"Steamed cabbage\",\"Carrots\",\"Raw grated\",\"Strips from raw\",\"Cauliflower\",\"Celery\",\"Stalk raw\",\"Chard steamed\",\"Collards\",\"Corn\",\"cooked or canned\",\"Cucumbers\",\"Dandelion greens\",\"Eggplant\",\"Endive\",\"Kale\",\"Kohlrabi\",\"Lambs quarters steamed\",\"Lentils\",\"Lettuce\",\"Iceberg\",\"Mushrooms canned\",\"Mustard greens\",\"Okra\",\"Onions\",\"Raw green\",\"Parsley\",\"Parsnips\",\"Peas\",\"Fresh steamed peas\",\"Split cooked peas\",\"heated peas\",\"Peppers canned\",\"Peppers Raw green sweet\",\"Peppers with beef and crumbs\",\"Potatoes baked\",\"French-fried\",\"Potatoes Mashed with milk and butter\",\"Potatoes pan-tried\",\"Scalloped with cheese potatoes\",\"Steamed potatoes before peeling\",\"Potato chips\",\"Radishes\",\"Rutabagas\",\"Soybeans\",\"Spinach\",\"Squash\",\"Winter mashed\",\"Sweet potatoes\",\"Candied\",\"Tomatoes\",\"Raw 2 by 2 1/2\",\"Tomato juice\",\"Tomato catsup\",\"Turnip greens\",\"Turnips steamed\",\"Watercress stems raw\",\"Apple juice canned\",\"Apple vinegar\",\"Apples raw\",\"Stewed or canned\",\"Apricots\",\"Dried uncooked\",\"Fresh\",\"Nectar or juice\",\"Avocado\",\"Banana\",\"Blackberries\",\"Blueberries\",\"Cantaloupe\",\"Cherries\",\"Fresh raw\",\"Cranberry sauce sweetened\",\"Dates\",\"Figs\",\"Fresh raw figs\",\"figs Canned with syrup \",\"Fruit cocktail canned\",\"Grapefruit sections\",\"Grapefruit fresh 5\\\" diameter\",\"Grapefruit juice\",\"Grapes\",\"European as Muscat Tokay\",\"Grape juice\",\"Lemon juice\",\"Lemonade concentratefrozen\",\"Limeade concentrate frozen\",\"Olives large\",\"OlivesRipe\",\"Oranges 3\\\" diameter\",\"Orange juice\",\"Frozen \",\"Papaya\",\"Peaches\",\"Fresh raw\",\"Pears\",\"Raw 3 by 2V\",\"Persimmons\",\"Pineapple\",\"Pineapple Crushed\",\"Raw diced\",\"Pineapple juice\",\"Plums\",\"Raw 2\\\" diameter\",\"Prunes\",\"Prune juice\",\"Raisins\",\"Raspberries\",\"Raw red\",\"Rhubarb sweetened\",\"Strawberries\",\"Raw\",\"Tangerines\",\"Watermelon\",\"Biscuits\",\"Bran flakes\",\"Bread cracked wheat\",\"Rye\",\"White 20 slices or\",\"Whole-wheat\",\"Whole-wheat\",\"Corn bread ground meal\",\"Cornflakes\",\"Corn grits cooked\",\"Corn meal\",\"Crackers\",\"Soda 2 1/2 square\",\"Farina\",\"Flour\",\"Wheat (all purpose)\",\"Wheat (whole)\",\"Macaroni\",\"Baked with cheese\",\"Muffins\",\"Noodles\",\"Oatmeal\",\"Pancakes 4\\\" diam.\",\"Wheat pancakes 4\\\" diam.\",\"Pizza 14\\\" diam.\",\"Popcorn salted\",\"Puffed rice\",\"Puffed wheat presweetened\",\"Rice\",\"Converted\",\"White\",\"Rice flakes\",\"Rice polish\",\"Rolls\",\"of refined flour\",\"whole-wheat\",\"Spaghetti with meat sauce\",\"with tomatoes and cheese\",\"Spanish rice\",\"Shredded wheat biscuit\",\"Waffles\",\"Wheat germ\",\"Wheat-germ cereal toasted\",\"Wheat meal cereal unrefined\",\"Wheat cooked\",\"Bean soups\",\"Beef soup\",\"Bouillon\",\"chicken soup\",\"Clam chowder\",\"Cream soups\",\"Noodle\",\"Split-pea soup\",\"Tomato soup\",\"Vegetable\",\"Apple betty\",\"Bread pudding\",\"Cakes\",\"Chocolate fudge\",\"Cupcake\",\"Fruit cake\",\"Gingerbread\",\"Plain with no icing\",\"Sponge cake\",\"Candy\",\"Chocolate creams\",\"Fudge\",\"Hard candies\",\"Marshmallows\",\"Milk chocolate\",\"Chocolate syrup\",\"Doughnuts\",\"Gelatin made with water\",\"Honey\",\"Ice cream\",\"Ices\",\"preserves\",\"Jellies\",\"Molasses\",\"Cane Syrup\",\"9\\\" diam. pie\",\"Cherry Pie\",\"Custard\",\"Lemon meringue\",\"Mince\",\"Pumpkin Pie\",\"Puddings Sugar\",\"3 teaspoons sugar\",\"Brown firm-packed dark sugar\",\"Syrup\",\"table blends sugar\",\"Tapioca cream pudding\",\"Almonds\",\"roasted and salted\",\"Brazil nuts\",\"Cashews\",\"coconut sweetened\",\"Peanut butter\",\"Peanut butter natural\",\"Peanuts\",\"Pecans\",\"Sesame seeds\",\"Sunflower seeds\",\"Walnuts\",\"Beer\",\"Gin\",\"Wines\",\"Table (12.2% alcohol)\",\"Carbonated drinks Artificially sweetened\",\"Club soda\",\"Cola drinks\",\"Fruit-flavored soda\",\"Ginger ale\",\"Root beer\",\"Coffee\",\"Tea\"],\"x\":[\"Dairy products\",\"Dairy products\",\"Dairy products\",\"Dairy products\",\"Dairy products\",\"Dairy products\",\"Dairy products\",\"Dairy products\",\"Dairy products\",\"Dairy products\",\"Dairy products\",\"Dairy products\",\"Dairy products\",\"Dairy products\",\"Dairy products\",\"Dairy products\",\"Dairy products\",\"Dairy products\",\"Dairy products\",\"Dairy products\",\"Dairy products\",\"Dairy products\",\"Dairy products\",\"Dairy products\",\"Dairy products\",\"Dairy products\",\"Dairy products\",\"Dairy products\",\"Fats Oils Shortenings\",\"Fats Oils Shortenings\",\"Fats Oils Shortenings\",\"Fats Oils Shortenings\",\"Fats Oils Shortenings\",\"Fats Oils Shortenings\",\"Fats Oils Shortenings\",\"Fats Oils Shortenings\",\"Fats Oils Shortenings\",\"Fats Oils Shortenings\",\"Fats Oils Shortenings\",\"Fats Oils Shortenings\",\"Fats Oils Shortenings\",\"Fats Oils Shortenings\",\"Meat Poultry\",\"Meat Poultry\",\"Meat Poultry\",\"Meat Poultry\",\"Meat Poultry\",\"Meat Poultry\",\"Meat Poultry\",\"Meat Poultry\",\"Meat Poultry\",\"Meat Poultry\",\"Meat Poultry\",\"Meat Poultry\",\"Meat Poultry\",\"Meat Poultry\",\"Meat Poultry\",\"Meat Poultry\",\"Meat Poultry\",\"Meat Poultry\",\"Meat Poultry\",\"Meat Poultry\",\"Meat Poultry\",\"Meat Poultry\",\"Meat Poultry\",\"Meat Poultry\",\"Meat Poultry\",\"Meat Poultry\",\"Meat Poultry\",\"Meat Poultry\",\"Meat Poultry\",\"Fish Seafood\",\"Fish Seafood\",\"Fish Seafood\",\"Fish Seafood\",\"Fish Seafood\",\"Fish Seafood\",\"Fish Seafood\",\"Fish Seafood\",\"Fish Seafood\",\"Fish Seafood\",\"Fish Seafood\",\"Fish Seafood\",\"Fish Seafood\",\"Fish Seafood\",\"Fish Seafood\",\"Fish Seafood\",\"Fish Seafood\",\"Fish Seafood\",\"Vegetables A-E\",\"Vegetables A-E\",\"Vegetables A-E\",\"Vegetables A-E\",\"Vegetables A-E\",\"Vegetables A-E\",\"Vegetables A-E\",\"Vegetables A-E\",\"Vegetables A-E\",\"Vegetables A-E\",\"Vegetables A-E\",\"Vegetables A-E\",\"Vegetables A-E\",\"Vegetables A-E\",\"Vegetables A-E\",\"Vegetables A-E\",\"Vegetables A-E\",\"Vegetables A-E\",\"Vegetables A-E\",\"Vegetables A-E\",\"Vegetables A-E\",\"Vegetables A-E\",\"Vegetables A-E\",\"Vegetables A-E\",\"Vegetables A-E\",\"Vegetables A-E\",\"Vegetables A-E\",\"Vegetables F-P\",\"Vegetables F-P\",\"Vegetables F-P\",\"Vegetables F-P\",\"Vegetables F-P\",\"Vegetables F-P\",\"Vegetables F-P\",\"Vegetables F-P\",\"Vegetables F-P\",\"Vegetables F-P\",\"Vegetables F-P\",\"Vegetables F-P\",\"Vegetables F-P\",\"Vegetables F-P\",\"Vegetables R-Z\",\"Vegetables R-Z\",\"Vegetables R-Z\",\"Vegetables R-Z\",\"Vegetables R-Z\",\"Vegetables R-Z\",\"Vegetables R-Z\",\"Vegetables R-Z\",\"Vegetables R-Z\",\"Vegetables R-Z\",\"Vegetables R-Z\",\"Vegetables R-Z\",\"Vegetables R-Z\",\"Vegetables R-Z\",\"Vegetables R-Z\",\"Vegetables R-Z\",\"Vegetables R-Z\",\"Vegetables R-Z\",\"Vegetables R-Z\",\"Vegetables R-Z\",\"Vegetables R-Z\",\"Vegetables R-Z\",\"Vegetables R-Z\",\"Vegetables R-Z\",\"Vegetables R-Z\",\"Vegetables R-Z\",\"Vegetables R-Z\",\"Fruits A-F\",\"Fruits A-F\",\"Fruits A-F\",\"Fruits A-F\",\"Fruits A-F\",\"Fruits A-F\",\"Fruits A-F\",\"Fruits A-F\",\"Fruits A-F\",\"Fruits A-F\",\"Fruits A-F\",\"Fruits A-F\",\"Fruits A-F\",\"Fruits A-F\",\"Fruits A-F\",\"Fruits A-F\",\"Fruits A-F\",\"Fruits A-F\",\"Fruits A-F\",\"Fruits A-F\",\"Fruits A-F\",\"Fruits A-F\",\"Fruits G-P\",\"Fruits G-P\",\"Fruits G-P\",\"Fruits G-P\",\"Fruits G-P\",\"Fruits G-P\",\"Fruits G-P\",\"Fruits G-P\",\"Fruits G-P\",\"Fruits G-P\",\"Fruits G-P\",\"Fruits G-P\",\"Fruits G-P\",\"Fruits G-P\",\"Fruits G-P\",\"Fruits G-P\",\"Fruits G-P\",\"Fruits G-P\",\"Fruits G-P\",\"Fruits G-P\",\"Fruits G-P\",\"Fruits G-P\",\"Fruits G-P\",\"Fruits G-P\",\"Fruits G-P\",\"Fruits G-P\",\"Fruits G-P\",\"Fruits G-P\",\"Fruits R-Z\",\"Fruits R-Z\",\"Fruits R-Z\",\"Fruits R-Z\",\"Fruits R-Z\",\"Fruits R-Z\",\"Fruits R-Z\",\"Fruits R-Z\",\"Breads cereals fastfoodgrains\",\"Breads cereals fastfoodgrains\",\"Breads cereals fastfoodgrains\",\"Breads cereals fastfoodgrains\",\"Breads cereals fastfoodgrains\",\"Breads cereals fastfoodgrains\",\"Breads cereals fastfoodgrains\",\"Breads cereals fastfoodgrains\",\"Breads cereals fastfoodgrains\",\"Breads cereals fastfoodgrains\",\"Breads cereals fastfoodgrains\",\"Breads cereals fastfoodgrains\",\"Breads cereals fastfoodgrains\",\"Breads cereals fastfoodgrains\",\"Breads cereals fastfoodgrains\",\"Breads cereals fastfoodgrains\",\"Breads cereals fastfoodgrains\",\"Breads cereals fastfoodgrains\",\"Breads cereals fastfoodgrains\",\"Breads cereals fastfoodgrains\",\"Breads cereals fastfoodgrains\",\"Breads cereals fastfoodgrains\",\"Breads cereals fastfoodgrains\",\"Breads cereals fastfoodgrains\",\"Breads cereals fastfoodgrains\",\"Breads cereals fastfoodgrains\",\"Breads cereals fastfoodgrains\",\"Breads cereals fastfoodgrains\",\"Breads cereals fastfoodgrains\",\"Breads cereals fastfoodgrains\",\"Breads cereals fastfoodgrains\",\"Breads cereals fastfoodgrains\",\"Breads cereals fastfoodgrains\",\"Breads cereals fastfoodgrains\",\"Breads cereals fastfoodgrains\",\"Breads cereals fastfoodgrains\",\"Breads cereals fastfoodgrains\",\"Breads cereals fastfoodgrains\",\"Breads cereals fastfoodgrains\",\"Breads cereals fastfoodgrains\",\"Breads cereals fastfoodgrains\",\"Breads cereals fastfoodgrains\",\"Breads cereals fastfoodgrains\",\"Breads cereals fastfoodgrains\",\"Breads cereals fastfoodgrains\",\"Soups\",\"Soups\",\"Soups\",\"Soups\",\"Soups\",\"Soups\",\"Soups\",\"Soups\",\"Soups\",\"Soups\",\"Desserts sweets\",\"Desserts sweets\",\"Desserts sweets\",\"Desserts sweets\",\"Desserts sweets\",\"Desserts sweets\",\"Desserts sweets\",\"Desserts sweets\",\"Desserts sweets\",\"Desserts sweets\",\"Desserts sweets\",\"Desserts sweets\",\"Desserts sweets\",\"Desserts sweets\",\"Desserts sweets\",\"Desserts sweets\",\"Desserts sweets\",\"Desserts sweets\",\"Jams Jellies\",\"Desserts sweets\",\"Desserts sweets\",\"Jams Jellies\",\"Jams Jellies\",\"Jams Jellies\",\"Jams Jellies\",\"Desserts sweets\",\"Desserts sweets\",\"Desserts sweets\",\"Desserts sweets\",\"Desserts sweets\",\"Desserts sweets\",\"Desserts sweets\",\"Desserts sweets\",\"Jams Jellies\",\"Jams Jellies\",\"Jams Jellies\",\"Desserts sweets\",\"Seeds and Nuts\",\"Seeds and Nuts\",\"Seeds and Nuts\",\"Seeds and Nuts\",\"Seeds and Nuts\",\"Seeds and Nuts\",\"Seeds and Nuts\",\"Seeds and Nuts\",\"Seeds and Nuts\",\"Seeds and Nuts\",\"Seeds and Nuts\",\"Seeds and Nuts\",\"DrinksAlcohol Beverages\",\"DrinksAlcohol Beverages\",\"DrinksAlcohol Beverages\",\"DrinksAlcohol Beverages\",\"DrinksAlcohol Beverages\",\"DrinksAlcohol Beverages\",\"DrinksAlcohol Beverages\",\"DrinksAlcohol Beverages\",\"DrinksAlcohol Beverages\",\"DrinksAlcohol Beverages\",\"DrinksAlcohol Beverages\",\"DrinksAlcohol Beverages\"],\"y\":[\"Cows' milk\",\"Milk skim\",\"Buttermilk\",\"Evaporated undiluted\",\"Fortified milk\",\"Powdered milk\",\"skim instant\",\"skim non-instant\",\"Goats' milk\",\"(1/2 cup ice cream)\",\"Cocoa\",\"skim. milk\",\"(cornstarch)\",\"Custard\",\"Ice cream\",\"Ice milk\",\"Cream or half-and-half\",\"or whipping\",\"Cheese\",\"uncreamed\",\"Cheddar\",\"Cheddar grated cup\",\"Cream cheese\",\"Processed cheese\",\"Roquefort type\",\"Swiss\",\"Eggs raw\",\"Eggs Scrambled or fried\",\"Yolks\",\"Butter\",\"Butter\",\"Butter\",\"Hydrogenated cooking fat\",\"Lard\",\"Margarine\",\"Margarine 2 pat or\",\"Mayonnaise\",\"Corn oil\",\"Olive oil\",\"Safflower seed oil\",\"French dressing\",\"Thousand Island sauce\",\"Bacon\",\"Beef\",\"Hamburger\",\"Ground lean\",\"Roast beef\",\"Steak\",\"Steak lean as round\",\"Corned beef\",\"Corned beef hash canned\",\"Corned beef hash Dried\",\"Pot-pie\",\"Corned beef hash Stew\",\"chicken\",\"Fried breast or leg and thigh chicken\",\"Roasted chicken\",\"Chicken livers fried\",\"Duck domestic\",\"Lamb chop broiled\",\"Leg roasted\",\"Shoulder braised\",\"Pork chop 1 thick\",\"Ham pan-broiled\",\"Ham as \",\"Ham canned spiced\",\"Pork roast\",\"Pork sausage\",\"Turkey\",\"Veal\",\"Roast\",\"Clams\",\"Cod\",\"Crab meat\",\"Fish sticks fried\",\"Flounder\",\"Haddock\",\"Halibut\",\"Herring\",\"Lobster\",\"Oysters\",\"Oyster stew\",\"Salmon\",\"Sardines\",\"Scallops\",\"Shad\",\"Shrimp\",\"Swordfish\",\"Tuna\",\"Artichoke\",\"Asparagus\",\"Beans\",\"Lima\",\"Lima dry cooked\",\"Navy baked with pork\",\"Red kidney\",\"Bean sprouts\",\"Beet greens\",\"Broccoli\",\"Brussels sprouts\",\"Sauerkraut\",\"Steamed cabbage\",\"Carrots\",\"Raw grated\",\"Strips from raw\",\"Cauliflower\",\"Celery\",\"Stalk raw\",\"Chard steamed\",\"Collards\",\"Corn\",\"cooked or canned\",\"Cucumbers\",\"Dandelion greens\",\"Eggplant\",\"Endive\",\"Kale\",\"Kohlrabi\",\"Lambs quarters steamed\",\"Lentils\",\"Lettuce\",\"Iceberg\",\"Mushrooms canned\",\"Mustard greens\",\"Okra\",\"Onions\",\"Raw green\",\"Parsley\",\"Parsnips\",\"Peas\",\"Fresh steamed peas\",\"Split cooked peas\",\"heated peas\",\"Peppers canned\",\"Peppers Raw green sweet\",\"Peppers with beef and crumbs\",\"Potatoes baked\",\"French-fried\",\"Potatoes Mashed with milk and butter\",\"Potatoes pan-tried\",\"Scalloped with cheese potatoes\",\"Steamed potatoes before peeling\",\"Potato chips\",\"Radishes\",\"Rutabagas\",\"Soybeans\",\"Spinach\",\"Squash\",\"Winter mashed\",\"Sweet potatoes\",\"Candied\",\"Tomatoes\",\"Raw 2 by 2 1/2\",\"Tomato juice\",\"Tomato catsup\",\"Turnip greens\",\"Turnips steamed\",\"Watercress stems raw\",\"Apple juice canned\",\"Apple vinegar\",\"Apples raw\",\"Stewed or canned\",\"Apricots\",\"Dried uncooked\",\"Fresh\",\"Nectar or juice\",\"Avocado\",\"Banana\",\"Blackberries\",\"Blueberries\",\"Cantaloupe\",\"Cherries\",\"Fresh raw\",\"Cranberry sauce sweetened\",\"Dates\",\"Figs\",\"Fresh raw figs\",\"figs Canned with syrup \",\"Fruit cocktail canned\",\"Grapefruit sections\",\"Grapefruit fresh 5\\\" diameter\",\"Grapefruit juice\",\"Grapes\",\"European as Muscat Tokay\",\"Grape juice\",\"Lemon juice\",\"Lemonade concentratefrozen\",\"Limeade concentrate frozen\",\"Olives large\",\"OlivesRipe\",\"Oranges 3\\\" diameter\",\"Orange juice\",\"Frozen \",\"Papaya\",\"Peaches\",\"Fresh raw\",\"Pears\",\"Raw 3 by 2V\",\"Persimmons\",\"Pineapple\",\"Pineapple Crushed\",\"Raw diced\",\"Pineapple juice\",\"Plums\",\"Raw 2\\\" diameter\",\"Prunes\",\"Prune juice\",\"Raisins\",\"Raspberries\",\"Raw red\",\"Rhubarb sweetened\",\"Strawberries\",\"Raw\",\"Tangerines\",\"Watermelon\",\"Biscuits\",\"Bran flakes\",\"Bread cracked wheat\",\"Rye\",\"White 20 slices or\",\"Whole-wheat\",\"Whole-wheat\",\"Corn bread ground meal\",\"Cornflakes\",\"Corn grits cooked\",\"Corn meal\",\"Crackers\",\"Soda 2 1/2 square\",\"Farina\",\"Flour\",\"Wheat (all purpose)\",\"Wheat (whole)\",\"Macaroni\",\"Baked with cheese\",\"Muffins\",\"Noodles\",\"Oatmeal\",\"Pancakes 4\\\" diam.\",\"Wheat pancakes 4\\\" diam.\",\"Pizza 14\\\" diam.\",\"Popcorn salted\",\"Puffed rice\",\"Puffed wheat presweetened\",\"Rice\",\"Converted\",\"White\",\"Rice flakes\",\"Rice polish\",\"Rolls\",\"of refined flour\",\"whole-wheat\",\"Spaghetti with meat sauce\",\"with tomatoes and cheese\",\"Spanish rice\",\"Shredded wheat biscuit\",\"Waffles\",\"Wheat germ\",\"Wheat-germ cereal toasted\",\"Wheat meal cereal unrefined\",\"Wheat cooked\",\"Bean soups\",\"Beef soup\",\"Bouillon\",\"chicken soup\",\"Clam chowder\",\"Cream soups\",\"Noodle\",\"Split-pea soup\",\"Tomato soup\",\"Vegetable\",\"Apple betty\",\"Bread pudding\",\"Cakes\",\"Chocolate fudge\",\"Cupcake\",\"Fruit cake\",\"Gingerbread\",\"Plain with no icing\",\"Sponge cake\",\"Candy\",\"Chocolate creams\",\"Fudge\",\"Hard candies\",\"Marshmallows\",\"Milk chocolate\",\"Chocolate syrup\",\"Doughnuts\",\"Gelatin made with water\",\"Honey\",\"Ice cream\",\"Ices\",\"preserves\",\"Jellies\",\"Molasses\",\"Cane Syrup\",\"9\\\" diam. pie\",\"Cherry Pie\",\"Custard\",\"Lemon meringue\",\"Mince\",\"Pumpkin Pie\",\"Puddings Sugar\",\"3 teaspoons sugar\",\"Brown firm-packed dark sugar\",\"Syrup\",\"table blends sugar\",\"Tapioca cream pudding\",\"Almonds\",\"roasted and salted\",\"Brazil nuts\",\"Cashews\",\"coconut sweetened\",\"Peanut butter\",\"Peanut butter natural\",\"Peanuts\",\"Pecans\",\"Sesame seeds\",\"Sunflower seeds\",\"Walnuts\",\"Beer\",\"Gin\",\"Wines\",\"Table (12.2% alcohol)\",\"Carbonated drinks Artificially sweetened\",\"Club soda\",\"Cola drinks\",\"Fruit-flavored soda\",\"Ginger ale\",\"Root beer\",\"Coffee\",\"Tea\"],\"z\":[40,0,5,20,42,28,0,0,10,24,11,4,10,14,18,10,15,44,11,0,6,19,11,9,9,8,12,16,10,11,115,115,100,110,91,11,12,14,14,14,6,8,8,16,17,10,36,27,12,10,8,4,28,10,9,15,20,14,28,35,14,23,21,22,13,14,24,44,15,9,14,1,5,2,10,8,5,8,13,1,233,6,5,9,8,10,1,6,7,0,0,0,0,0,6,1,0,0,0,0,0,0,0,0,0,0,0,0,0,0,1,0,0,1,0,0,1,0,0,0,0,0,0,0,0,0,0,0,1,0,0,0,0,0,0,9,0,7,12,14,8,0,7,0,0,11,0,0,0,1,6,0,0,0,0,1,0,0,0,0,0,0,0,0,0,0,18,0,1,0,0,1,0,0,0,0,0,0,0,0,0,0,0,0,0,0,0,0,10,13,0,0,0,0,0,0,0,1,0,0,0,0,0,0,0,1,0,0,0,0,0,0,0,0,1,4,0,1,1,15,14,1,4,0,0,4,1,1,0,22,1,2,1,25,5,2,3,9,9,6,7,0,0,3,0,0,0,6,12,2,1,10,5,4,1,9,7,7,1,1,5,4,0,2,2,12,4,3,7,2,4,12,0,14,3,4,7,5,2,3,4,12,0,0,6,0,7,0,0,0,0,0,0,0,0,13,13,11,12,9,12,0,0,0,0,0,10,38,40,47,32,20,25,24,25,35,24,26,32,0,0,0,0,0,0,0,0,0,0,0,0],\"type\":\"scatter3d\"}],                        {\"height\":800,\"template\":{\"data\":{\"barpolar\":[{\"marker\":{\"line\":{\"color\":\"#E5ECF6\",\"width\":0.5},\"pattern\":{\"fillmode\":\"overlay\",\"size\":10,\"solidity\":0.2}},\"type\":\"barpolar\"}],\"bar\":[{\"error_x\":{\"color\":\"#2a3f5f\"},\"error_y\":{\"color\":\"#2a3f5f\"},\"marker\":{\"line\":{\"color\":\"#E5ECF6\",\"width\":0.5},\"pattern\":{\"fillmode\":\"overlay\",\"size\":10,\"solidity\":0.2}},\"type\":\"bar\"}],\"carpet\":[{\"aaxis\":{\"endlinecolor\":\"#2a3f5f\",\"gridcolor\":\"white\",\"linecolor\":\"white\",\"minorgridcolor\":\"white\",\"startlinecolor\":\"#2a3f5f\"},\"baxis\":{\"endlinecolor\":\"#2a3f5f\",\"gridcolor\":\"white\",\"linecolor\":\"white\",\"minorgridcolor\":\"white\",\"startlinecolor\":\"#2a3f5f\"},\"type\":\"carpet\"}],\"choropleth\":[{\"colorbar\":{\"outlinewidth\":0,\"ticks\":\"\"},\"type\":\"choropleth\"}],\"contourcarpet\":[{\"colorbar\":{\"outlinewidth\":0,\"ticks\":\"\"},\"type\":\"contourcarpet\"}],\"contour\":[{\"colorbar\":{\"outlinewidth\":0,\"ticks\":\"\"},\"colorscale\":[[0.0,\"#0d0887\"],[0.1111111111111111,\"#46039f\"],[0.2222222222222222,\"#7201a8\"],[0.3333333333333333,\"#9c179e\"],[0.4444444444444444,\"#bd3786\"],[0.5555555555555556,\"#d8576b\"],[0.6666666666666666,\"#ed7953\"],[0.7777777777777778,\"#fb9f3a\"],[0.8888888888888888,\"#fdca26\"],[1.0,\"#f0f921\"]],\"type\":\"contour\"}],\"heatmapgl\":[{\"colorbar\":{\"outlinewidth\":0,\"ticks\":\"\"},\"colorscale\":[[0.0,\"#0d0887\"],[0.1111111111111111,\"#46039f\"],[0.2222222222222222,\"#7201a8\"],[0.3333333333333333,\"#9c179e\"],[0.4444444444444444,\"#bd3786\"],[0.5555555555555556,\"#d8576b\"],[0.6666666666666666,\"#ed7953\"],[0.7777777777777778,\"#fb9f3a\"],[0.8888888888888888,\"#fdca26\"],[1.0,\"#f0f921\"]],\"type\":\"heatmapgl\"}],\"heatmap\":[{\"colorbar\":{\"outlinewidth\":0,\"ticks\":\"\"},\"colorscale\":[[0.0,\"#0d0887\"],[0.1111111111111111,\"#46039f\"],[0.2222222222222222,\"#7201a8\"],[0.3333333333333333,\"#9c179e\"],[0.4444444444444444,\"#bd3786\"],[0.5555555555555556,\"#d8576b\"],[0.6666666666666666,\"#ed7953\"],[0.7777777777777778,\"#fb9f3a\"],[0.8888888888888888,\"#fdca26\"],[1.0,\"#f0f921\"]],\"type\":\"heatmap\"}],\"histogram2dcontour\":[{\"colorbar\":{\"outlinewidth\":0,\"ticks\":\"\"},\"colorscale\":[[0.0,\"#0d0887\"],[0.1111111111111111,\"#46039f\"],[0.2222222222222222,\"#7201a8\"],[0.3333333333333333,\"#9c179e\"],[0.4444444444444444,\"#bd3786\"],[0.5555555555555556,\"#d8576b\"],[0.6666666666666666,\"#ed7953\"],[0.7777777777777778,\"#fb9f3a\"],[0.8888888888888888,\"#fdca26\"],[1.0,\"#f0f921\"]],\"type\":\"histogram2dcontour\"}],\"histogram2d\":[{\"colorbar\":{\"outlinewidth\":0,\"ticks\":\"\"},\"colorscale\":[[0.0,\"#0d0887\"],[0.1111111111111111,\"#46039f\"],[0.2222222222222222,\"#7201a8\"],[0.3333333333333333,\"#9c179e\"],[0.4444444444444444,\"#bd3786\"],[0.5555555555555556,\"#d8576b\"],[0.6666666666666666,\"#ed7953\"],[0.7777777777777778,\"#fb9f3a\"],[0.8888888888888888,\"#fdca26\"],[1.0,\"#f0f921\"]],\"type\":\"histogram2d\"}],\"histogram\":[{\"marker\":{\"pattern\":{\"fillmode\":\"overlay\",\"size\":10,\"solidity\":0.2}},\"type\":\"histogram\"}],\"mesh3d\":[{\"colorbar\":{\"outlinewidth\":0,\"ticks\":\"\"},\"type\":\"mesh3d\"}],\"parcoords\":[{\"line\":{\"colorbar\":{\"outlinewidth\":0,\"ticks\":\"\"}},\"type\":\"parcoords\"}],\"pie\":[{\"automargin\":true,\"type\":\"pie\"}],\"scatter3d\":[{\"line\":{\"colorbar\":{\"outlinewidth\":0,\"ticks\":\"\"}},\"marker\":{\"colorbar\":{\"outlinewidth\":0,\"ticks\":\"\"}},\"type\":\"scatter3d\"}],\"scattercarpet\":[{\"marker\":{\"colorbar\":{\"outlinewidth\":0,\"ticks\":\"\"}},\"type\":\"scattercarpet\"}],\"scattergeo\":[{\"marker\":{\"colorbar\":{\"outlinewidth\":0,\"ticks\":\"\"}},\"type\":\"scattergeo\"}],\"scattergl\":[{\"marker\":{\"colorbar\":{\"outlinewidth\":0,\"ticks\":\"\"}},\"type\":\"scattergl\"}],\"scattermapbox\":[{\"marker\":{\"colorbar\":{\"outlinewidth\":0,\"ticks\":\"\"}},\"type\":\"scattermapbox\"}],\"scatterpolargl\":[{\"marker\":{\"colorbar\":{\"outlinewidth\":0,\"ticks\":\"\"}},\"type\":\"scatterpolargl\"}],\"scatterpolar\":[{\"marker\":{\"colorbar\":{\"outlinewidth\":0,\"ticks\":\"\"}},\"type\":\"scatterpolar\"}],\"scatter\":[{\"marker\":{\"colorbar\":{\"outlinewidth\":0,\"ticks\":\"\"}},\"type\":\"scatter\"}],\"scatterternary\":[{\"marker\":{\"colorbar\":{\"outlinewidth\":0,\"ticks\":\"\"}},\"type\":\"scatterternary\"}],\"surface\":[{\"colorbar\":{\"outlinewidth\":0,\"ticks\":\"\"},\"colorscale\":[[0.0,\"#0d0887\"],[0.1111111111111111,\"#46039f\"],[0.2222222222222222,\"#7201a8\"],[0.3333333333333333,\"#9c179e\"],[0.4444444444444444,\"#bd3786\"],[0.5555555555555556,\"#d8576b\"],[0.6666666666666666,\"#ed7953\"],[0.7777777777777778,\"#fb9f3a\"],[0.8888888888888888,\"#fdca26\"],[1.0,\"#f0f921\"]],\"type\":\"surface\"}],\"table\":[{\"cells\":{\"fill\":{\"color\":\"#EBF0F8\"},\"line\":{\"color\":\"white\"}},\"header\":{\"fill\":{\"color\":\"#C8D4E3\"},\"line\":{\"color\":\"white\"}},\"type\":\"table\"}]},\"layout\":{\"annotationdefaults\":{\"arrowcolor\":\"#2a3f5f\",\"arrowhead\":0,\"arrowwidth\":1},\"autotypenumbers\":\"strict\",\"coloraxis\":{\"colorbar\":{\"outlinewidth\":0,\"ticks\":\"\"}},\"colorscale\":{\"diverging\":[[0,\"#8e0152\"],[0.1,\"#c51b7d\"],[0.2,\"#de77ae\"],[0.3,\"#f1b6da\"],[0.4,\"#fde0ef\"],[0.5,\"#f7f7f7\"],[0.6,\"#e6f5d0\"],[0.7,\"#b8e186\"],[0.8,\"#7fbc41\"],[0.9,\"#4d9221\"],[1,\"#276419\"]],\"sequential\":[[0.0,\"#0d0887\"],[0.1111111111111111,\"#46039f\"],[0.2222222222222222,\"#7201a8\"],[0.3333333333333333,\"#9c179e\"],[0.4444444444444444,\"#bd3786\"],[0.5555555555555556,\"#d8576b\"],[0.6666666666666666,\"#ed7953\"],[0.7777777777777778,\"#fb9f3a\"],[0.8888888888888888,\"#fdca26\"],[1.0,\"#f0f921\"]],\"sequentialminus\":[[0.0,\"#0d0887\"],[0.1111111111111111,\"#46039f\"],[0.2222222222222222,\"#7201a8\"],[0.3333333333333333,\"#9c179e\"],[0.4444444444444444,\"#bd3786\"],[0.5555555555555556,\"#d8576b\"],[0.6666666666666666,\"#ed7953\"],[0.7777777777777778,\"#fb9f3a\"],[0.8888888888888888,\"#fdca26\"],[1.0,\"#f0f921\"]]},\"colorway\":[\"#636efa\",\"#EF553B\",\"#00cc96\",\"#ab63fa\",\"#FFA15A\",\"#19d3f3\",\"#FF6692\",\"#B6E880\",\"#FF97FF\",\"#FECB52\"],\"font\":{\"color\":\"#2a3f5f\"},\"geo\":{\"bgcolor\":\"white\",\"lakecolor\":\"white\",\"landcolor\":\"#E5ECF6\",\"showlakes\":true,\"showland\":true,\"subunitcolor\":\"white\"},\"hoverlabel\":{\"align\":\"left\"},\"hovermode\":\"closest\",\"mapbox\":{\"style\":\"light\"},\"paper_bgcolor\":\"white\",\"plot_bgcolor\":\"#E5ECF6\",\"polar\":{\"angularaxis\":{\"gridcolor\":\"white\",\"linecolor\":\"white\",\"ticks\":\"\"},\"bgcolor\":\"#E5ECF6\",\"radialaxis\":{\"gridcolor\":\"white\",\"linecolor\":\"white\",\"ticks\":\"\"}},\"scene\":{\"xaxis\":{\"backgroundcolor\":\"#E5ECF6\",\"gridcolor\":\"white\",\"gridwidth\":2,\"linecolor\":\"white\",\"showbackground\":true,\"ticks\":\"\",\"zerolinecolor\":\"white\"},\"yaxis\":{\"backgroundcolor\":\"#E5ECF6\",\"gridcolor\":\"white\",\"gridwidth\":2,\"linecolor\":\"white\",\"showbackground\":true,\"ticks\":\"\",\"zerolinecolor\":\"white\"},\"zaxis\":{\"backgroundcolor\":\"#E5ECF6\",\"gridcolor\":\"white\",\"gridwidth\":2,\"linecolor\":\"white\",\"showbackground\":true,\"ticks\":\"\",\"zerolinecolor\":\"white\"}},\"shapedefaults\":{\"line\":{\"color\":\"#2a3f5f\"}},\"ternary\":{\"aaxis\":{\"gridcolor\":\"white\",\"linecolor\":\"white\",\"ticks\":\"\"},\"baxis\":{\"gridcolor\":\"white\",\"linecolor\":\"white\",\"ticks\":\"\"},\"bgcolor\":\"#E5ECF6\",\"caxis\":{\"gridcolor\":\"white\",\"linecolor\":\"white\",\"ticks\":\"\"}},\"title\":{\"x\":0.05},\"xaxis\":{\"automargin\":true,\"gridcolor\":\"white\",\"linecolor\":\"white\",\"ticks\":\"\",\"title\":{\"standoff\":15},\"zerolinecolor\":\"white\",\"zerolinewidth\":2},\"yaxis\":{\"automargin\":true,\"gridcolor\":\"white\",\"linecolor\":\"white\",\"ticks\":\"\",\"title\":{\"standoff\":15},\"zerolinecolor\":\"white\",\"zerolinewidth\":2}}},\"title\":{\"text\":\"3D Scatter Plot of Fatty foods (% Daily Value)\"},\"width\":800},                        {\"responsive\": true}                    ).then(function(){\n",
              "                            \n",
              "var gd = document.getElementById('cfcdb4e1-8586-4e63-bec1-3cb216e55a92');\n",
              "var x = new MutationObserver(function (mutations, observer) {{\n",
              "        var display = window.getComputedStyle(gd).display;\n",
              "        if (!display || display === 'none') {{\n",
              "            console.log([gd, 'removed!']);\n",
              "            Plotly.purge(gd);\n",
              "            observer.disconnect();\n",
              "        }}\n",
              "}});\n",
              "\n",
              "// Listen for the removal of the full notebook cells\n",
              "var notebookContainer = gd.closest('#notebook-container');\n",
              "if (notebookContainer) {{\n",
              "    x.observe(notebookContainer, {childList: true});\n",
              "}}\n",
              "\n",
              "// Listen for the clearing of the current output cell\n",
              "var outputEl = gd.closest('.output');\n",
              "if (outputEl) {{\n",
              "    x.observe(outputEl, {childList: true});\n",
              "}}\n",
              "\n",
              "                        })                };                            </script>        </div>\n",
              "</body>\n",
              "</html>"
            ]
          },
          "metadata": {}
        }
      ]
    },
    {
      "cell_type": "code",
      "source": [
        "trace1 = go.Scatter3d(\n",
        "    x=nutrients['Category'].values,\n",
        "    y=nutrients['Food'].values,\n",
        "    z=nutrients['Carbs'].values,\n",
        "    text=nutrients['Food'].values,\n",
        "    mode='markers',\n",
        "    marker=dict(\n",
        "        sizemode='diameter',\n",
        "         sizeref=750,\n",
        "        color = nutrients['Carbs'].values,\n",
        "        colorscale = 'Portland',\n",
        "        colorbar = dict(title = 'Total Fat (% Daily Value)'),\n",
        "        line=dict(color='rgb(255, 255, 255)')\n",
        "    )\n",
        ")\n",
        "data=[trace1]\n",
        "layout=dict(height=800, width=800, title='3D Scatter Plot of Carbohydrate rich food')\n",
        "fig=dict(data=data, layout=layout)\n",
        "py.iplot(fig, filename='3DBubble')"
      ],
      "metadata": {
        "colab": {
          "base_uri": "https://localhost:8080/",
          "height": 817
        },
        "id": "hdGwEwR0v3Gr",
        "outputId": "db653ede-7059-429a-8fcc-cfc0e76e0097"
      },
      "execution_count": null,
      "outputs": [
        {
          "output_type": "display_data",
          "data": {
            "text/html": [
              "<html>\n",
              "<head><meta charset=\"utf-8\" /></head>\n",
              "<body>\n",
              "    <div>            <script src=\"https://cdnjs.cloudflare.com/ajax/libs/mathjax/2.7.5/MathJax.js?config=TeX-AMS-MML_SVG\"></script><script type=\"text/javascript\">if (window.MathJax) {MathJax.Hub.Config({SVG: {font: \"STIX-Web\"}});}</script>                <script type=\"text/javascript\">window.PlotlyConfig = {MathJaxConfig: 'local'};</script>\n",
              "        <script src=\"https://cdn.plot.ly/plotly-2.8.3.min.js\"></script>                <div id=\"31a1a721-05bf-4a59-8d46-0d102ba34b5f\" class=\"plotly-graph-div\" style=\"height:800px; width:800px;\"></div>            <script type=\"text/javascript\">                                    window.PLOTLYENV=window.PLOTLYENV || {};                                    if (document.getElementById(\"31a1a721-05bf-4a59-8d46-0d102ba34b5f\")) {                    Plotly.newPlot(                        \"31a1a721-05bf-4a59-8d46-0d102ba34b5f\",                        [{\"marker\":{\"color\":[48.0,52.0,13.0,24.0,119.0,39.0,42.0,42.0,11.0,70.0,26.0,13.0,40.0,28.0,29.0,32.0,5.0,3.0,6.0,6.0,0.0,1.0,1.0,0.0,0.0,0.0,0.0,1.0,0.0,0.0,118.0,118.0,0.0,0.0,0.0,0.0,0.0,0.0,0.0,0.0,2.0,1.0,1.0,0.0,0.0,0.0,0.0,0.0,0.0,0.0,6.0,0.0,32.0,15.0,0.0,0.0,0.0,2.3,0.0,0.0,0.0,0.0,0.0,0.0,0.0,1.0,0.0,0.0,0.0,0.0,0.0,2.0,0.0,1.0,8.0,0.0,6.0,0.0,0.0,0.0,236.0,0.0,0.0,0.0,10.0,0.0,0.0,0.0,0.0,10.0,3.0,6.0,24.0,48.0,37.0,42.0,3.0,6.0,8.0,12.0,7.0,9.0,10.0,10.0,5.0,6.0,4.0,1.0,7.0,8.0,21.0,41.0,1.0,16.0,9.0,2.0,8.0,9.0,7.0,38.0,2.0,3.0,4.0,6.0,7.0,18.0,5.0,0.0,22.0,13.0,12.0,21.0,10.0,2.0,6.0,24.0,22.0,20.0,28.0,33.0,14.0,19.0,10.0,2.0,8.0,20.0,3.0,8.0,23.0,36.0,80.0,9.0,6.0,10.0,4.0,8.0,9.0,1.0,34.0,3.0,18.0,26.0,57.0,50.0,14.0,36.0,6.0,23.0,19.0,65.0,9.0,26.0,15.0,142.0,134.0,30.0,22.0,32.0,50.0,44.0,14.0,24.0,16.0,26.0,42.0,10.0,112.0,108.0,3.0,1.0,16.0,25.0,78.0,18.0,52.0,10.0,50.0,25.0,20.0,26.0,55.0,19.0,32.0,50.0,7.0,81.0,45.0,82.0,25.0,14.0,98.0,60.0,12.0,10.0,29.0,18.0,32.0,12.0,12.0,229.0,216.0,11.0,15.0,25.0,27.0,74.0,10.0,8.0,22.0,33.0,84.0,79.0,32.0,44.0,19.0,37.0,26.0,28.0,28.0,23.0,20.0,12.0,26.0,154.0,142.0,150.0,26.0,28.0,23.0,20.0,20.0,35.0,36.0,40.0,23.0,30.0,34.0,36.0,25.0,35.0,30.0,11.0,0.0,10.0,12.0,18.0,13.0,25.0,22.0,14.0,29.0,56.0,23.0,70.0,31.0,17.0,28.0,31.0,22.0,19.0,24.0,80.0,28.0,23.0,44.0,22.0,17.0,36.0,30.0,0.0,48.0,14.0,13.0,11.0,13.0,53.0,55.0,34.0,45.0,62.0,34.0,199.0,12.0,210.0,25.0,29.0,42.0,13.0,13.0,7.0,20.0,26.0,9.0,8.0,9.0,7.0,10.0,10.0,8.0,8.0,0.0,9.0,5.0,0.0,0.0,38.0,42.0,28.0,35.0,1.0,1.0],\"colorbar\":{\"title\":{\"text\":\"Total Fat (% Daily Value)\"}},\"colorscale\":[[0.0,\"rgb(12,51,131)\"],[0.25,\"rgb(10,136,186)\"],[0.5,\"rgb(242,211,56)\"],[0.75,\"rgb(242,143,56)\"],[1.0,\"rgb(217,30,30)\"]],\"line\":{\"color\":\"rgb(255, 255, 255)\"},\"sizemode\":\"diameter\",\"sizeref\":750},\"mode\":\"markers\",\"text\":[\"Cows' milk\",\"Milk skim\",\"Buttermilk\",\"Evaporated undiluted\",\"Fortified milk\",\"Powdered milk\",\"skim instant\",\"skim non-instant\",\"Goats' milk\",\"(1/2 cup ice cream)\",\"Cocoa\",\"skim. milk\",\"(cornstarch)\",\"Custard\",\"Ice cream\",\"Ice milk\",\"Cream or half-and-half\",\"or whipping\",\"Cheese\",\"uncreamed\",\"Cheddar\",\"Cheddar grated cup\",\"Cream cheese\",\"Processed cheese\",\"Roquefort type\",\"Swiss\",\"Eggs raw\",\"Eggs Scrambled or fried\",\"Yolks\",\"Butter\",\"Butter\",\"Butter\",\"Hydrogenated cooking fat\",\"Lard\",\"Margarine\",\"Margarine 2 pat or\",\"Mayonnaise\",\"Corn oil\",\"Olive oil\",\"Safflower seed oil\",\"French dressing\",\"Thousand Island sauce\",\"Bacon\",\"Beef\",\"Hamburger\",\"Ground lean\",\"Roast beef\",\"Steak\",\"Steak lean as round\",\"Corned beef\",\"Corned beef hash canned\",\"Corned beef hash Dried\",\"Pot-pie\",\"Corned beef hash Stew\",\"chicken\",\"Fried breast or leg and thigh chicken\",\"Roasted chicken\",\"Chicken livers fried\",\"Duck domestic\",\"Lamb chop broiled\",\"Leg roasted\",\"Shoulder braised\",\"Pork chop 1 thick\",\"Ham pan-broiled\",\"Ham as \",\"Ham canned spiced\",\"Pork roast\",\"Pork sausage\",\"Turkey\",\"Veal\",\"Roast\",\"Clams\",\"Cod\",\"Crab meat\",\"Fish sticks fried\",\"Flounder\",\"Haddock\",\"Halibut\",\"Herring\",\"Lobster\",\"Oysters\",\"Oyster stew\",\"Salmon\",\"Sardines\",\"Scallops\",\"Shad\",\"Shrimp\",\"Swordfish\",\"Tuna\",\"Artichoke\",\"Asparagus\",\"Beans\",\"Lima\",\"Lima dry cooked\",\"Navy baked with pork\",\"Red kidney\",\"Bean sprouts\",\"Beet greens\",\"Broccoli\",\"Brussels sprouts\",\"Sauerkraut\",\"Steamed cabbage\",\"Carrots\",\"Raw grated\",\"Strips from raw\",\"Cauliflower\",\"Celery\",\"Stalk raw\",\"Chard steamed\",\"Collards\",\"Corn\",\"cooked or canned\",\"Cucumbers\",\"Dandelion greens\",\"Eggplant\",\"Endive\",\"Kale\",\"Kohlrabi\",\"Lambs quarters steamed\",\"Lentils\",\"Lettuce\",\"Iceberg\",\"Mushrooms canned\",\"Mustard greens\",\"Okra\",\"Onions\",\"Raw green\",\"Parsley\",\"Parsnips\",\"Peas\",\"Fresh steamed peas\",\"Split cooked peas\",\"heated peas\",\"Peppers canned\",\"Peppers Raw green sweet\",\"Peppers with beef and crumbs\",\"Potatoes baked\",\"French-fried\",\"Potatoes Mashed with milk and butter\",\"Potatoes pan-tried\",\"Scalloped with cheese potatoes\",\"Steamed potatoes before peeling\",\"Potato chips\",\"Radishes\",\"Rutabagas\",\"Soybeans\",\"Spinach\",\"Squash\",\"Winter mashed\",\"Sweet potatoes\",\"Candied\",\"Tomatoes\",\"Raw 2 by 2 1/2\",\"Tomato juice\",\"Tomato catsup\",\"Turnip greens\",\"Turnips steamed\",\"Watercress stems raw\",\"Apple juice canned\",\"Apple vinegar\",\"Apples raw\",\"Stewed or canned\",\"Apricots\",\"Dried uncooked\",\"Fresh\",\"Nectar or juice\",\"Avocado\",\"Banana\",\"Blackberries\",\"Blueberries\",\"Cantaloupe\",\"Cherries\",\"Fresh raw\",\"Cranberry sauce sweetened\",\"Dates\",\"Figs\",\"Fresh raw figs\",\"figs Canned with syrup \",\"Fruit cocktail canned\",\"Grapefruit sections\",\"Grapefruit fresh 5\\\" diameter\",\"Grapefruit juice\",\"Grapes\",\"European as Muscat Tokay\",\"Grape juice\",\"Lemon juice\",\"Lemonade concentratefrozen\",\"Limeade concentrate frozen\",\"Olives large\",\"OlivesRipe\",\"Oranges 3\\\" diameter\",\"Orange juice\",\"Frozen \",\"Papaya\",\"Peaches\",\"Fresh raw\",\"Pears\",\"Raw 3 by 2V\",\"Persimmons\",\"Pineapple\",\"Pineapple Crushed\",\"Raw diced\",\"Pineapple juice\",\"Plums\",\"Raw 2\\\" diameter\",\"Prunes\",\"Prune juice\",\"Raisins\",\"Raspberries\",\"Raw red\",\"Rhubarb sweetened\",\"Strawberries\",\"Raw\",\"Tangerines\",\"Watermelon\",\"Biscuits\",\"Bran flakes\",\"Bread cracked wheat\",\"Rye\",\"White 20 slices or\",\"Whole-wheat\",\"Whole-wheat\",\"Corn bread ground meal\",\"Cornflakes\",\"Corn grits cooked\",\"Corn meal\",\"Crackers\",\"Soda 2 1/2 square\",\"Farina\",\"Flour\",\"Wheat (all purpose)\",\"Wheat (whole)\",\"Macaroni\",\"Baked with cheese\",\"Muffins\",\"Noodles\",\"Oatmeal\",\"Pancakes 4\\\" diam.\",\"Wheat pancakes 4\\\" diam.\",\"Pizza 14\\\" diam.\",\"Popcorn salted\",\"Puffed rice\",\"Puffed wheat presweetened\",\"Rice\",\"Converted\",\"White\",\"Rice flakes\",\"Rice polish\",\"Rolls\",\"of refined flour\",\"whole-wheat\",\"Spaghetti with meat sauce\",\"with tomatoes and cheese\",\"Spanish rice\",\"Shredded wheat biscuit\",\"Waffles\",\"Wheat germ\",\"Wheat-germ cereal toasted\",\"Wheat meal cereal unrefined\",\"Wheat cooked\",\"Bean soups\",\"Beef soup\",\"Bouillon\",\"chicken soup\",\"Clam chowder\",\"Cream soups\",\"Noodle\",\"Split-pea soup\",\"Tomato soup\",\"Vegetable\",\"Apple betty\",\"Bread pudding\",\"Cakes\",\"Chocolate fudge\",\"Cupcake\",\"Fruit cake\",\"Gingerbread\",\"Plain with no icing\",\"Sponge cake\",\"Candy\",\"Chocolate creams\",\"Fudge\",\"Hard candies\",\"Marshmallows\",\"Milk chocolate\",\"Chocolate syrup\",\"Doughnuts\",\"Gelatin made with water\",\"Honey\",\"Ice cream\",\"Ices\",\"preserves\",\"Jellies\",\"Molasses\",\"Cane Syrup\",\"9\\\" diam. pie\",\"Cherry Pie\",\"Custard\",\"Lemon meringue\",\"Mince\",\"Pumpkin Pie\",\"Puddings Sugar\",\"3 teaspoons sugar\",\"Brown firm-packed dark sugar\",\"Syrup\",\"table blends sugar\",\"Tapioca cream pudding\",\"Almonds\",\"roasted and salted\",\"Brazil nuts\",\"Cashews\",\"coconut sweetened\",\"Peanut butter\",\"Peanut butter natural\",\"Peanuts\",\"Pecans\",\"Sesame seeds\",\"Sunflower seeds\",\"Walnuts\",\"Beer\",\"Gin\",\"Wines\",\"Table (12.2% alcohol)\",\"Carbonated drinks Artificially sweetened\",\"Club soda\",\"Cola drinks\",\"Fruit-flavored soda\",\"Ginger ale\",\"Root beer\",\"Coffee\",\"Tea\"],\"x\":[\"Dairy products\",\"Dairy products\",\"Dairy products\",\"Dairy products\",\"Dairy products\",\"Dairy products\",\"Dairy products\",\"Dairy products\",\"Dairy products\",\"Dairy products\",\"Dairy products\",\"Dairy products\",\"Dairy products\",\"Dairy products\",\"Dairy products\",\"Dairy products\",\"Dairy products\",\"Dairy products\",\"Dairy products\",\"Dairy products\",\"Dairy products\",\"Dairy products\",\"Dairy products\",\"Dairy products\",\"Dairy products\",\"Dairy products\",\"Dairy products\",\"Dairy products\",\"Fats Oils Shortenings\",\"Fats Oils Shortenings\",\"Fats Oils Shortenings\",\"Fats Oils Shortenings\",\"Fats Oils Shortenings\",\"Fats Oils Shortenings\",\"Fats Oils Shortenings\",\"Fats Oils Shortenings\",\"Fats Oils Shortenings\",\"Fats Oils Shortenings\",\"Fats Oils Shortenings\",\"Fats Oils Shortenings\",\"Fats Oils Shortenings\",\"Fats Oils Shortenings\",\"Meat Poultry\",\"Meat Poultry\",\"Meat Poultry\",\"Meat Poultry\",\"Meat Poultry\",\"Meat Poultry\",\"Meat Poultry\",\"Meat Poultry\",\"Meat Poultry\",\"Meat Poultry\",\"Meat Poultry\",\"Meat Poultry\",\"Meat Poultry\",\"Meat Poultry\",\"Meat Poultry\",\"Meat Poultry\",\"Meat Poultry\",\"Meat Poultry\",\"Meat Poultry\",\"Meat Poultry\",\"Meat Poultry\",\"Meat Poultry\",\"Meat Poultry\",\"Meat Poultry\",\"Meat Poultry\",\"Meat Poultry\",\"Meat Poultry\",\"Meat Poultry\",\"Meat Poultry\",\"Fish Seafood\",\"Fish Seafood\",\"Fish Seafood\",\"Fish Seafood\",\"Fish Seafood\",\"Fish Seafood\",\"Fish Seafood\",\"Fish Seafood\",\"Fish Seafood\",\"Fish Seafood\",\"Fish Seafood\",\"Fish Seafood\",\"Fish Seafood\",\"Fish Seafood\",\"Fish Seafood\",\"Fish Seafood\",\"Fish Seafood\",\"Fish Seafood\",\"Vegetables A-E\",\"Vegetables A-E\",\"Vegetables A-E\",\"Vegetables A-E\",\"Vegetables A-E\",\"Vegetables A-E\",\"Vegetables A-E\",\"Vegetables A-E\",\"Vegetables A-E\",\"Vegetables A-E\",\"Vegetables A-E\",\"Vegetables A-E\",\"Vegetables A-E\",\"Vegetables A-E\",\"Vegetables A-E\",\"Vegetables A-E\",\"Vegetables A-E\",\"Vegetables A-E\",\"Vegetables A-E\",\"Vegetables A-E\",\"Vegetables A-E\",\"Vegetables A-E\",\"Vegetables A-E\",\"Vegetables A-E\",\"Vegetables A-E\",\"Vegetables A-E\",\"Vegetables A-E\",\"Vegetables F-P\",\"Vegetables F-P\",\"Vegetables F-P\",\"Vegetables F-P\",\"Vegetables F-P\",\"Vegetables F-P\",\"Vegetables F-P\",\"Vegetables F-P\",\"Vegetables F-P\",\"Vegetables F-P\",\"Vegetables F-P\",\"Vegetables F-P\",\"Vegetables F-P\",\"Vegetables F-P\",\"Vegetables R-Z\",\"Vegetables R-Z\",\"Vegetables R-Z\",\"Vegetables R-Z\",\"Vegetables R-Z\",\"Vegetables R-Z\",\"Vegetables R-Z\",\"Vegetables R-Z\",\"Vegetables R-Z\",\"Vegetables R-Z\",\"Vegetables R-Z\",\"Vegetables R-Z\",\"Vegetables R-Z\",\"Vegetables R-Z\",\"Vegetables R-Z\",\"Vegetables R-Z\",\"Vegetables R-Z\",\"Vegetables R-Z\",\"Vegetables R-Z\",\"Vegetables R-Z\",\"Vegetables R-Z\",\"Vegetables R-Z\",\"Vegetables R-Z\",\"Vegetables R-Z\",\"Vegetables R-Z\",\"Vegetables R-Z\",\"Vegetables R-Z\",\"Fruits A-F\",\"Fruits A-F\",\"Fruits A-F\",\"Fruits A-F\",\"Fruits A-F\",\"Fruits A-F\",\"Fruits A-F\",\"Fruits A-F\",\"Fruits A-F\",\"Fruits A-F\",\"Fruits A-F\",\"Fruits A-F\",\"Fruits A-F\",\"Fruits A-F\",\"Fruits A-F\",\"Fruits A-F\",\"Fruits A-F\",\"Fruits A-F\",\"Fruits A-F\",\"Fruits A-F\",\"Fruits A-F\",\"Fruits A-F\",\"Fruits G-P\",\"Fruits G-P\",\"Fruits G-P\",\"Fruits G-P\",\"Fruits G-P\",\"Fruits G-P\",\"Fruits G-P\",\"Fruits G-P\",\"Fruits G-P\",\"Fruits G-P\",\"Fruits G-P\",\"Fruits G-P\",\"Fruits G-P\",\"Fruits G-P\",\"Fruits G-P\",\"Fruits G-P\",\"Fruits G-P\",\"Fruits G-P\",\"Fruits G-P\",\"Fruits G-P\",\"Fruits G-P\",\"Fruits G-P\",\"Fruits G-P\",\"Fruits G-P\",\"Fruits G-P\",\"Fruits G-P\",\"Fruits G-P\",\"Fruits G-P\",\"Fruits R-Z\",\"Fruits R-Z\",\"Fruits R-Z\",\"Fruits R-Z\",\"Fruits R-Z\",\"Fruits R-Z\",\"Fruits R-Z\",\"Fruits R-Z\",\"Breads cereals fastfoodgrains\",\"Breads cereals fastfoodgrains\",\"Breads cereals fastfoodgrains\",\"Breads cereals fastfoodgrains\",\"Breads cereals fastfoodgrains\",\"Breads cereals fastfoodgrains\",\"Breads cereals fastfoodgrains\",\"Breads cereals fastfoodgrains\",\"Breads cereals fastfoodgrains\",\"Breads cereals fastfoodgrains\",\"Breads cereals fastfoodgrains\",\"Breads cereals fastfoodgrains\",\"Breads cereals fastfoodgrains\",\"Breads cereals fastfoodgrains\",\"Breads cereals fastfoodgrains\",\"Breads cereals fastfoodgrains\",\"Breads cereals fastfoodgrains\",\"Breads cereals fastfoodgrains\",\"Breads cereals fastfoodgrains\",\"Breads cereals fastfoodgrains\",\"Breads cereals fastfoodgrains\",\"Breads cereals fastfoodgrains\",\"Breads cereals fastfoodgrains\",\"Breads cereals fastfoodgrains\",\"Breads cereals fastfoodgrains\",\"Breads cereals fastfoodgrains\",\"Breads cereals fastfoodgrains\",\"Breads cereals fastfoodgrains\",\"Breads cereals fastfoodgrains\",\"Breads cereals fastfoodgrains\",\"Breads cereals fastfoodgrains\",\"Breads cereals fastfoodgrains\",\"Breads cereals fastfoodgrains\",\"Breads cereals fastfoodgrains\",\"Breads cereals fastfoodgrains\",\"Breads cereals fastfoodgrains\",\"Breads cereals fastfoodgrains\",\"Breads cereals fastfoodgrains\",\"Breads cereals fastfoodgrains\",\"Breads cereals fastfoodgrains\",\"Breads cereals fastfoodgrains\",\"Breads cereals fastfoodgrains\",\"Breads cereals fastfoodgrains\",\"Breads cereals fastfoodgrains\",\"Breads cereals fastfoodgrains\",\"Soups\",\"Soups\",\"Soups\",\"Soups\",\"Soups\",\"Soups\",\"Soups\",\"Soups\",\"Soups\",\"Soups\",\"Desserts sweets\",\"Desserts sweets\",\"Desserts sweets\",\"Desserts sweets\",\"Desserts sweets\",\"Desserts sweets\",\"Desserts sweets\",\"Desserts sweets\",\"Desserts sweets\",\"Desserts sweets\",\"Desserts sweets\",\"Desserts sweets\",\"Desserts sweets\",\"Desserts sweets\",\"Desserts sweets\",\"Desserts sweets\",\"Desserts sweets\",\"Desserts sweets\",\"Jams Jellies\",\"Desserts sweets\",\"Desserts sweets\",\"Jams Jellies\",\"Jams Jellies\",\"Jams Jellies\",\"Jams Jellies\",\"Desserts sweets\",\"Desserts sweets\",\"Desserts sweets\",\"Desserts sweets\",\"Desserts sweets\",\"Desserts sweets\",\"Desserts sweets\",\"Desserts sweets\",\"Jams Jellies\",\"Jams Jellies\",\"Jams Jellies\",\"Desserts sweets\",\"Seeds and Nuts\",\"Seeds and Nuts\",\"Seeds and Nuts\",\"Seeds and Nuts\",\"Seeds and Nuts\",\"Seeds and Nuts\",\"Seeds and Nuts\",\"Seeds and Nuts\",\"Seeds and Nuts\",\"Seeds and Nuts\",\"Seeds and Nuts\",\"Seeds and Nuts\",\"DrinksAlcohol Beverages\",\"DrinksAlcohol Beverages\",\"DrinksAlcohol Beverages\",\"DrinksAlcohol Beverages\",\"DrinksAlcohol Beverages\",\"DrinksAlcohol Beverages\",\"DrinksAlcohol Beverages\",\"DrinksAlcohol Beverages\",\"DrinksAlcohol Beverages\",\"DrinksAlcohol Beverages\",\"DrinksAlcohol Beverages\",\"DrinksAlcohol Beverages\"],\"y\":[\"Cows' milk\",\"Milk skim\",\"Buttermilk\",\"Evaporated undiluted\",\"Fortified milk\",\"Powdered milk\",\"skim instant\",\"skim non-instant\",\"Goats' milk\",\"(1/2 cup ice cream)\",\"Cocoa\",\"skim. milk\",\"(cornstarch)\",\"Custard\",\"Ice cream\",\"Ice milk\",\"Cream or half-and-half\",\"or whipping\",\"Cheese\",\"uncreamed\",\"Cheddar\",\"Cheddar grated cup\",\"Cream cheese\",\"Processed cheese\",\"Roquefort type\",\"Swiss\",\"Eggs raw\",\"Eggs Scrambled or fried\",\"Yolks\",\"Butter\",\"Butter\",\"Butter\",\"Hydrogenated cooking fat\",\"Lard\",\"Margarine\",\"Margarine 2 pat or\",\"Mayonnaise\",\"Corn oil\",\"Olive oil\",\"Safflower seed oil\",\"French dressing\",\"Thousand Island sauce\",\"Bacon\",\"Beef\",\"Hamburger\",\"Ground lean\",\"Roast beef\",\"Steak\",\"Steak lean as round\",\"Corned beef\",\"Corned beef hash canned\",\"Corned beef hash Dried\",\"Pot-pie\",\"Corned beef hash Stew\",\"chicken\",\"Fried breast or leg and thigh chicken\",\"Roasted chicken\",\"Chicken livers fried\",\"Duck domestic\",\"Lamb chop broiled\",\"Leg roasted\",\"Shoulder braised\",\"Pork chop 1 thick\",\"Ham pan-broiled\",\"Ham as \",\"Ham canned spiced\",\"Pork roast\",\"Pork sausage\",\"Turkey\",\"Veal\",\"Roast\",\"Clams\",\"Cod\",\"Crab meat\",\"Fish sticks fried\",\"Flounder\",\"Haddock\",\"Halibut\",\"Herring\",\"Lobster\",\"Oysters\",\"Oyster stew\",\"Salmon\",\"Sardines\",\"Scallops\",\"Shad\",\"Shrimp\",\"Swordfish\",\"Tuna\",\"Artichoke\",\"Asparagus\",\"Beans\",\"Lima\",\"Lima dry cooked\",\"Navy baked with pork\",\"Red kidney\",\"Bean sprouts\",\"Beet greens\",\"Broccoli\",\"Brussels sprouts\",\"Sauerkraut\",\"Steamed cabbage\",\"Carrots\",\"Raw grated\",\"Strips from raw\",\"Cauliflower\",\"Celery\",\"Stalk raw\",\"Chard steamed\",\"Collards\",\"Corn\",\"cooked or canned\",\"Cucumbers\",\"Dandelion greens\",\"Eggplant\",\"Endive\",\"Kale\",\"Kohlrabi\",\"Lambs quarters steamed\",\"Lentils\",\"Lettuce\",\"Iceberg\",\"Mushrooms canned\",\"Mustard greens\",\"Okra\",\"Onions\",\"Raw green\",\"Parsley\",\"Parsnips\",\"Peas\",\"Fresh steamed peas\",\"Split cooked peas\",\"heated peas\",\"Peppers canned\",\"Peppers Raw green sweet\",\"Peppers with beef and crumbs\",\"Potatoes baked\",\"French-fried\",\"Potatoes Mashed with milk and butter\",\"Potatoes pan-tried\",\"Scalloped with cheese potatoes\",\"Steamed potatoes before peeling\",\"Potato chips\",\"Radishes\",\"Rutabagas\",\"Soybeans\",\"Spinach\",\"Squash\",\"Winter mashed\",\"Sweet potatoes\",\"Candied\",\"Tomatoes\",\"Raw 2 by 2 1/2\",\"Tomato juice\",\"Tomato catsup\",\"Turnip greens\",\"Turnips steamed\",\"Watercress stems raw\",\"Apple juice canned\",\"Apple vinegar\",\"Apples raw\",\"Stewed or canned\",\"Apricots\",\"Dried uncooked\",\"Fresh\",\"Nectar or juice\",\"Avocado\",\"Banana\",\"Blackberries\",\"Blueberries\",\"Cantaloupe\",\"Cherries\",\"Fresh raw\",\"Cranberry sauce sweetened\",\"Dates\",\"Figs\",\"Fresh raw figs\",\"figs Canned with syrup \",\"Fruit cocktail canned\",\"Grapefruit sections\",\"Grapefruit fresh 5\\\" diameter\",\"Grapefruit juice\",\"Grapes\",\"European as Muscat Tokay\",\"Grape juice\",\"Lemon juice\",\"Lemonade concentratefrozen\",\"Limeade concentrate frozen\",\"Olives large\",\"OlivesRipe\",\"Oranges 3\\\" diameter\",\"Orange juice\",\"Frozen \",\"Papaya\",\"Peaches\",\"Fresh raw\",\"Pears\",\"Raw 3 by 2V\",\"Persimmons\",\"Pineapple\",\"Pineapple Crushed\",\"Raw diced\",\"Pineapple juice\",\"Plums\",\"Raw 2\\\" diameter\",\"Prunes\",\"Prune juice\",\"Raisins\",\"Raspberries\",\"Raw red\",\"Rhubarb sweetened\",\"Strawberries\",\"Raw\",\"Tangerines\",\"Watermelon\",\"Biscuits\",\"Bran flakes\",\"Bread cracked wheat\",\"Rye\",\"White 20 slices or\",\"Whole-wheat\",\"Whole-wheat\",\"Corn bread ground meal\",\"Cornflakes\",\"Corn grits cooked\",\"Corn meal\",\"Crackers\",\"Soda 2 1/2 square\",\"Farina\",\"Flour\",\"Wheat (all purpose)\",\"Wheat (whole)\",\"Macaroni\",\"Baked with cheese\",\"Muffins\",\"Noodles\",\"Oatmeal\",\"Pancakes 4\\\" diam.\",\"Wheat pancakes 4\\\" diam.\",\"Pizza 14\\\" diam.\",\"Popcorn salted\",\"Puffed rice\",\"Puffed wheat presweetened\",\"Rice\",\"Converted\",\"White\",\"Rice flakes\",\"Rice polish\",\"Rolls\",\"of refined flour\",\"whole-wheat\",\"Spaghetti with meat sauce\",\"with tomatoes and cheese\",\"Spanish rice\",\"Shredded wheat biscuit\",\"Waffles\",\"Wheat germ\",\"Wheat-germ cereal toasted\",\"Wheat meal cereal unrefined\",\"Wheat cooked\",\"Bean soups\",\"Beef soup\",\"Bouillon\",\"chicken soup\",\"Clam chowder\",\"Cream soups\",\"Noodle\",\"Split-pea soup\",\"Tomato soup\",\"Vegetable\",\"Apple betty\",\"Bread pudding\",\"Cakes\",\"Chocolate fudge\",\"Cupcake\",\"Fruit cake\",\"Gingerbread\",\"Plain with no icing\",\"Sponge cake\",\"Candy\",\"Chocolate creams\",\"Fudge\",\"Hard candies\",\"Marshmallows\",\"Milk chocolate\",\"Chocolate syrup\",\"Doughnuts\",\"Gelatin made with water\",\"Honey\",\"Ice cream\",\"Ices\",\"preserves\",\"Jellies\",\"Molasses\",\"Cane Syrup\",\"9\\\" diam. pie\",\"Cherry Pie\",\"Custard\",\"Lemon meringue\",\"Mince\",\"Pumpkin Pie\",\"Puddings Sugar\",\"3 teaspoons sugar\",\"Brown firm-packed dark sugar\",\"Syrup\",\"table blends sugar\",\"Tapioca cream pudding\",\"Almonds\",\"roasted and salted\",\"Brazil nuts\",\"Cashews\",\"coconut sweetened\",\"Peanut butter\",\"Peanut butter natural\",\"Peanuts\",\"Pecans\",\"Sesame seeds\",\"Sunflower seeds\",\"Walnuts\",\"Beer\",\"Gin\",\"Wines\",\"Table (12.2% alcohol)\",\"Carbonated drinks Artificially sweetened\",\"Club soda\",\"Cola drinks\",\"Fruit-flavored soda\",\"Ginger ale\",\"Root beer\",\"Coffee\",\"Tea\"],\"z\":[48.0,52.0,13.0,24.0,119.0,39.0,42.0,42.0,11.0,70.0,26.0,13.0,40.0,28.0,29.0,32.0,5.0,3.0,6.0,6.0,0.0,1.0,1.0,0.0,0.0,0.0,0.0,1.0,0.0,0.0,118.0,118.0,0.0,0.0,0.0,0.0,0.0,0.0,0.0,0.0,2.0,1.0,1.0,0.0,0.0,0.0,0.0,0.0,0.0,0.0,6.0,0.0,32.0,15.0,0.0,0.0,0.0,2.3,0.0,0.0,0.0,0.0,0.0,0.0,0.0,1.0,0.0,0.0,0.0,0.0,0.0,2.0,0.0,1.0,8.0,0.0,6.0,0.0,0.0,0.0,236.0,0.0,0.0,0.0,10.0,0.0,0.0,0.0,0.0,10.0,3.0,6.0,24.0,48.0,37.0,42.0,3.0,6.0,8.0,12.0,7.0,9.0,10.0,10.0,5.0,6.0,4.0,1.0,7.0,8.0,21.0,41.0,1.0,16.0,9.0,2.0,8.0,9.0,7.0,38.0,2.0,3.0,4.0,6.0,7.0,18.0,5.0,0.0,22.0,13.0,12.0,21.0,10.0,2.0,6.0,24.0,22.0,20.0,28.0,33.0,14.0,19.0,10.0,2.0,8.0,20.0,3.0,8.0,23.0,36.0,80.0,9.0,6.0,10.0,4.0,8.0,9.0,1.0,34.0,3.0,18.0,26.0,57.0,50.0,14.0,36.0,6.0,23.0,19.0,65.0,9.0,26.0,15.0,142.0,134.0,30.0,22.0,32.0,50.0,44.0,14.0,24.0,16.0,26.0,42.0,10.0,112.0,108.0,3.0,1.0,16.0,25.0,78.0,18.0,52.0,10.0,50.0,25.0,20.0,26.0,55.0,19.0,32.0,50.0,7.0,81.0,45.0,82.0,25.0,14.0,98.0,60.0,12.0,10.0,29.0,18.0,32.0,12.0,12.0,229.0,216.0,11.0,15.0,25.0,27.0,74.0,10.0,8.0,22.0,33.0,84.0,79.0,32.0,44.0,19.0,37.0,26.0,28.0,28.0,23.0,20.0,12.0,26.0,154.0,142.0,150.0,26.0,28.0,23.0,20.0,20.0,35.0,36.0,40.0,23.0,30.0,34.0,36.0,25.0,35.0,30.0,11.0,0.0,10.0,12.0,18.0,13.0,25.0,22.0,14.0,29.0,56.0,23.0,70.0,31.0,17.0,28.0,31.0,22.0,19.0,24.0,80.0,28.0,23.0,44.0,22.0,17.0,36.0,30.0,0.0,48.0,14.0,13.0,11.0,13.0,53.0,55.0,34.0,45.0,62.0,34.0,199.0,12.0,210.0,25.0,29.0,42.0,13.0,13.0,7.0,20.0,26.0,9.0,8.0,9.0,7.0,10.0,10.0,8.0,8.0,0.0,9.0,5.0,0.0,0.0,38.0,42.0,28.0,35.0,1.0,1.0],\"type\":\"scatter3d\"}],                        {\"height\":800,\"template\":{\"data\":{\"barpolar\":[{\"marker\":{\"line\":{\"color\":\"#E5ECF6\",\"width\":0.5},\"pattern\":{\"fillmode\":\"overlay\",\"size\":10,\"solidity\":0.2}},\"type\":\"barpolar\"}],\"bar\":[{\"error_x\":{\"color\":\"#2a3f5f\"},\"error_y\":{\"color\":\"#2a3f5f\"},\"marker\":{\"line\":{\"color\":\"#E5ECF6\",\"width\":0.5},\"pattern\":{\"fillmode\":\"overlay\",\"size\":10,\"solidity\":0.2}},\"type\":\"bar\"}],\"carpet\":[{\"aaxis\":{\"endlinecolor\":\"#2a3f5f\",\"gridcolor\":\"white\",\"linecolor\":\"white\",\"minorgridcolor\":\"white\",\"startlinecolor\":\"#2a3f5f\"},\"baxis\":{\"endlinecolor\":\"#2a3f5f\",\"gridcolor\":\"white\",\"linecolor\":\"white\",\"minorgridcolor\":\"white\",\"startlinecolor\":\"#2a3f5f\"},\"type\":\"carpet\"}],\"choropleth\":[{\"colorbar\":{\"outlinewidth\":0,\"ticks\":\"\"},\"type\":\"choropleth\"}],\"contourcarpet\":[{\"colorbar\":{\"outlinewidth\":0,\"ticks\":\"\"},\"type\":\"contourcarpet\"}],\"contour\":[{\"colorbar\":{\"outlinewidth\":0,\"ticks\":\"\"},\"colorscale\":[[0.0,\"#0d0887\"],[0.1111111111111111,\"#46039f\"],[0.2222222222222222,\"#7201a8\"],[0.3333333333333333,\"#9c179e\"],[0.4444444444444444,\"#bd3786\"],[0.5555555555555556,\"#d8576b\"],[0.6666666666666666,\"#ed7953\"],[0.7777777777777778,\"#fb9f3a\"],[0.8888888888888888,\"#fdca26\"],[1.0,\"#f0f921\"]],\"type\":\"contour\"}],\"heatmapgl\":[{\"colorbar\":{\"outlinewidth\":0,\"ticks\":\"\"},\"colorscale\":[[0.0,\"#0d0887\"],[0.1111111111111111,\"#46039f\"],[0.2222222222222222,\"#7201a8\"],[0.3333333333333333,\"#9c179e\"],[0.4444444444444444,\"#bd3786\"],[0.5555555555555556,\"#d8576b\"],[0.6666666666666666,\"#ed7953\"],[0.7777777777777778,\"#fb9f3a\"],[0.8888888888888888,\"#fdca26\"],[1.0,\"#f0f921\"]],\"type\":\"heatmapgl\"}],\"heatmap\":[{\"colorbar\":{\"outlinewidth\":0,\"ticks\":\"\"},\"colorscale\":[[0.0,\"#0d0887\"],[0.1111111111111111,\"#46039f\"],[0.2222222222222222,\"#7201a8\"],[0.3333333333333333,\"#9c179e\"],[0.4444444444444444,\"#bd3786\"],[0.5555555555555556,\"#d8576b\"],[0.6666666666666666,\"#ed7953\"],[0.7777777777777778,\"#fb9f3a\"],[0.8888888888888888,\"#fdca26\"],[1.0,\"#f0f921\"]],\"type\":\"heatmap\"}],\"histogram2dcontour\":[{\"colorbar\":{\"outlinewidth\":0,\"ticks\":\"\"},\"colorscale\":[[0.0,\"#0d0887\"],[0.1111111111111111,\"#46039f\"],[0.2222222222222222,\"#7201a8\"],[0.3333333333333333,\"#9c179e\"],[0.4444444444444444,\"#bd3786\"],[0.5555555555555556,\"#d8576b\"],[0.6666666666666666,\"#ed7953\"],[0.7777777777777778,\"#fb9f3a\"],[0.8888888888888888,\"#fdca26\"],[1.0,\"#f0f921\"]],\"type\":\"histogram2dcontour\"}],\"histogram2d\":[{\"colorbar\":{\"outlinewidth\":0,\"ticks\":\"\"},\"colorscale\":[[0.0,\"#0d0887\"],[0.1111111111111111,\"#46039f\"],[0.2222222222222222,\"#7201a8\"],[0.3333333333333333,\"#9c179e\"],[0.4444444444444444,\"#bd3786\"],[0.5555555555555556,\"#d8576b\"],[0.6666666666666666,\"#ed7953\"],[0.7777777777777778,\"#fb9f3a\"],[0.8888888888888888,\"#fdca26\"],[1.0,\"#f0f921\"]],\"type\":\"histogram2d\"}],\"histogram\":[{\"marker\":{\"pattern\":{\"fillmode\":\"overlay\",\"size\":10,\"solidity\":0.2}},\"type\":\"histogram\"}],\"mesh3d\":[{\"colorbar\":{\"outlinewidth\":0,\"ticks\":\"\"},\"type\":\"mesh3d\"}],\"parcoords\":[{\"line\":{\"colorbar\":{\"outlinewidth\":0,\"ticks\":\"\"}},\"type\":\"parcoords\"}],\"pie\":[{\"automargin\":true,\"type\":\"pie\"}],\"scatter3d\":[{\"line\":{\"colorbar\":{\"outlinewidth\":0,\"ticks\":\"\"}},\"marker\":{\"colorbar\":{\"outlinewidth\":0,\"ticks\":\"\"}},\"type\":\"scatter3d\"}],\"scattercarpet\":[{\"marker\":{\"colorbar\":{\"outlinewidth\":0,\"ticks\":\"\"}},\"type\":\"scattercarpet\"}],\"scattergeo\":[{\"marker\":{\"colorbar\":{\"outlinewidth\":0,\"ticks\":\"\"}},\"type\":\"scattergeo\"}],\"scattergl\":[{\"marker\":{\"colorbar\":{\"outlinewidth\":0,\"ticks\":\"\"}},\"type\":\"scattergl\"}],\"scattermapbox\":[{\"marker\":{\"colorbar\":{\"outlinewidth\":0,\"ticks\":\"\"}},\"type\":\"scattermapbox\"}],\"scatterpolargl\":[{\"marker\":{\"colorbar\":{\"outlinewidth\":0,\"ticks\":\"\"}},\"type\":\"scatterpolargl\"}],\"scatterpolar\":[{\"marker\":{\"colorbar\":{\"outlinewidth\":0,\"ticks\":\"\"}},\"type\":\"scatterpolar\"}],\"scatter\":[{\"marker\":{\"colorbar\":{\"outlinewidth\":0,\"ticks\":\"\"}},\"type\":\"scatter\"}],\"scatterternary\":[{\"marker\":{\"colorbar\":{\"outlinewidth\":0,\"ticks\":\"\"}},\"type\":\"scatterternary\"}],\"surface\":[{\"colorbar\":{\"outlinewidth\":0,\"ticks\":\"\"},\"colorscale\":[[0.0,\"#0d0887\"],[0.1111111111111111,\"#46039f\"],[0.2222222222222222,\"#7201a8\"],[0.3333333333333333,\"#9c179e\"],[0.4444444444444444,\"#bd3786\"],[0.5555555555555556,\"#d8576b\"],[0.6666666666666666,\"#ed7953\"],[0.7777777777777778,\"#fb9f3a\"],[0.8888888888888888,\"#fdca26\"],[1.0,\"#f0f921\"]],\"type\":\"surface\"}],\"table\":[{\"cells\":{\"fill\":{\"color\":\"#EBF0F8\"},\"line\":{\"color\":\"white\"}},\"header\":{\"fill\":{\"color\":\"#C8D4E3\"},\"line\":{\"color\":\"white\"}},\"type\":\"table\"}]},\"layout\":{\"annotationdefaults\":{\"arrowcolor\":\"#2a3f5f\",\"arrowhead\":0,\"arrowwidth\":1},\"autotypenumbers\":\"strict\",\"coloraxis\":{\"colorbar\":{\"outlinewidth\":0,\"ticks\":\"\"}},\"colorscale\":{\"diverging\":[[0,\"#8e0152\"],[0.1,\"#c51b7d\"],[0.2,\"#de77ae\"],[0.3,\"#f1b6da\"],[0.4,\"#fde0ef\"],[0.5,\"#f7f7f7\"],[0.6,\"#e6f5d0\"],[0.7,\"#b8e186\"],[0.8,\"#7fbc41\"],[0.9,\"#4d9221\"],[1,\"#276419\"]],\"sequential\":[[0.0,\"#0d0887\"],[0.1111111111111111,\"#46039f\"],[0.2222222222222222,\"#7201a8\"],[0.3333333333333333,\"#9c179e\"],[0.4444444444444444,\"#bd3786\"],[0.5555555555555556,\"#d8576b\"],[0.6666666666666666,\"#ed7953\"],[0.7777777777777778,\"#fb9f3a\"],[0.8888888888888888,\"#fdca26\"],[1.0,\"#f0f921\"]],\"sequentialminus\":[[0.0,\"#0d0887\"],[0.1111111111111111,\"#46039f\"],[0.2222222222222222,\"#7201a8\"],[0.3333333333333333,\"#9c179e\"],[0.4444444444444444,\"#bd3786\"],[0.5555555555555556,\"#d8576b\"],[0.6666666666666666,\"#ed7953\"],[0.7777777777777778,\"#fb9f3a\"],[0.8888888888888888,\"#fdca26\"],[1.0,\"#f0f921\"]]},\"colorway\":[\"#636efa\",\"#EF553B\",\"#00cc96\",\"#ab63fa\",\"#FFA15A\",\"#19d3f3\",\"#FF6692\",\"#B6E880\",\"#FF97FF\",\"#FECB52\"],\"font\":{\"color\":\"#2a3f5f\"},\"geo\":{\"bgcolor\":\"white\",\"lakecolor\":\"white\",\"landcolor\":\"#E5ECF6\",\"showlakes\":true,\"showland\":true,\"subunitcolor\":\"white\"},\"hoverlabel\":{\"align\":\"left\"},\"hovermode\":\"closest\",\"mapbox\":{\"style\":\"light\"},\"paper_bgcolor\":\"white\",\"plot_bgcolor\":\"#E5ECF6\",\"polar\":{\"angularaxis\":{\"gridcolor\":\"white\",\"linecolor\":\"white\",\"ticks\":\"\"},\"bgcolor\":\"#E5ECF6\",\"radialaxis\":{\"gridcolor\":\"white\",\"linecolor\":\"white\",\"ticks\":\"\"}},\"scene\":{\"xaxis\":{\"backgroundcolor\":\"#E5ECF6\",\"gridcolor\":\"white\",\"gridwidth\":2,\"linecolor\":\"white\",\"showbackground\":true,\"ticks\":\"\",\"zerolinecolor\":\"white\"},\"yaxis\":{\"backgroundcolor\":\"#E5ECF6\",\"gridcolor\":\"white\",\"gridwidth\":2,\"linecolor\":\"white\",\"showbackground\":true,\"ticks\":\"\",\"zerolinecolor\":\"white\"},\"zaxis\":{\"backgroundcolor\":\"#E5ECF6\",\"gridcolor\":\"white\",\"gridwidth\":2,\"linecolor\":\"white\",\"showbackground\":true,\"ticks\":\"\",\"zerolinecolor\":\"white\"}},\"shapedefaults\":{\"line\":{\"color\":\"#2a3f5f\"}},\"ternary\":{\"aaxis\":{\"gridcolor\":\"white\",\"linecolor\":\"white\",\"ticks\":\"\"},\"baxis\":{\"gridcolor\":\"white\",\"linecolor\":\"white\",\"ticks\":\"\"},\"bgcolor\":\"#E5ECF6\",\"caxis\":{\"gridcolor\":\"white\",\"linecolor\":\"white\",\"ticks\":\"\"}},\"title\":{\"x\":0.05},\"xaxis\":{\"automargin\":true,\"gridcolor\":\"white\",\"linecolor\":\"white\",\"ticks\":\"\",\"title\":{\"standoff\":15},\"zerolinecolor\":\"white\",\"zerolinewidth\":2},\"yaxis\":{\"automargin\":true,\"gridcolor\":\"white\",\"linecolor\":\"white\",\"ticks\":\"\",\"title\":{\"standoff\":15},\"zerolinecolor\":\"white\",\"zerolinewidth\":2}}},\"title\":{\"text\":\"3D Scatter Plot of Carbohydrate rich food\"},\"width\":800},                        {\"responsive\": true}                    ).then(function(){\n",
              "                            \n",
              "var gd = document.getElementById('31a1a721-05bf-4a59-8d46-0d102ba34b5f');\n",
              "var x = new MutationObserver(function (mutations, observer) {{\n",
              "        var display = window.getComputedStyle(gd).display;\n",
              "        if (!display || display === 'none') {{\n",
              "            console.log([gd, 'removed!']);\n",
              "            Plotly.purge(gd);\n",
              "            observer.disconnect();\n",
              "        }}\n",
              "}});\n",
              "\n",
              "// Listen for the removal of the full notebook cells\n",
              "var notebookContainer = gd.closest('#notebook-container');\n",
              "if (notebookContainer) {{\n",
              "    x.observe(notebookContainer, {childList: true});\n",
              "}}\n",
              "\n",
              "// Listen for the clearing of the current output cell\n",
              "var outputEl = gd.closest('.output');\n",
              "if (outputEl) {{\n",
              "    x.observe(outputEl, {childList: true});\n",
              "}}\n",
              "\n",
              "                        })                };                            </script>        </div>\n",
              "</body>\n",
              "</html>"
            ]
          },
          "metadata": {}
        }
      ]
    },
    {
      "cell_type": "markdown",
      "source": [
        "## 칼로리 함량이 가장 많은 식품군"
      ],
      "metadata": {
        "id": "WPMjJzJS2mf4"
      }
    },
    {
      "cell_type": "code",
      "source": [
        "sns.set_style(\"whitegrid\")\n",
        "plt.figure(figsize=(22,10))\n",
        "#plt.figure()\n",
        "\n",
        "ax = sns.boxenplot(x=\"Category\", y='Calories', data=nutrients, color='#eeeeee', palette=\"tab10\")\n",
        "\n",
        "# Add transparency to colors\n",
        "for patch in ax.artists:\n",
        "    r, g, b, a = patch.get_facecolor()\n",
        "    patch.set_facecolor((r, g, b, .9))\n",
        "    \n",
        "#ax = sns.stripplot(x='Category', y='Cholesterol (% Daily Value)', data=menu, color=\"orange\", jitter=0.5, size=5,alpha=0.15)\n",
        "#\n",
        "plt.title(\"Total Calorie Content \\n\", loc=\"center\",size=32,color='#be0c0c',alpha=0.6)\n",
        "plt.xlabel('Category',color='#34495E',fontsize=20) \n",
        "plt.ylabel('Total Fat (% Daily Value)',color='#34495E',fontsize=20)\n",
        "plt.xticks(size=16,color='#008abc',rotation=90, wrap=True)  \n",
        "plt.yticks(size=15,color='#006600')\n",
        "#plt.text(2.5, 1, 'Courtesy: https://seaborn.pydata.org/examples/grouped_boxplot.html', fontsize=13,alpha=0.2)\n",
        "#plt.ylim(0,200)\n",
        "#plt.legend(loc=\"upper right\",fontsize=14,ncol=5,title='Category',title_fontsize=22,framealpha=0.99)\n",
        "plt.show()\n"
      ],
      "metadata": {
        "colab": {
          "base_uri": "https://localhost:8080/",
          "height": 790
        },
        "id": "Qsn3igy7v4KT",
        "outputId": "675f82a0-40fb-4b45-a8e4-d2238fe36b00"
      },
      "execution_count": null,
      "outputs": [
        {
          "output_type": "display_data",
          "data": {
            "text/plain": [
              "<Figure size 1584x720 with 1 Axes>"
            ],
            "image/png": "[encoded data removed]"
          },
          "metadata": {}
        }
      ]
    },
    {
      "cell_type": "code",
      "source": [
        ""
      ],
      "metadata": {
        "id": "E_J70Gr1v6S7"
      },
      "execution_count": null,
      "outputs": []
    }
  ]
}