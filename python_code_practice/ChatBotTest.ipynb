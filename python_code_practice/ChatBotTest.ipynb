{
  "nbformat": 4,
  "nbformat_minor": 0,
  "metadata": {
    "colab": {
      "name": "ChatBotTest.ipynb",
      "provenance": [],
      "collapsed_sections": [],
      "authorship_tag": "ABX9TyMrVQzNj+K84RbCKeSYalF/",
      "include_colab_link": true
    },
    "kernelspec": {
      "name": "python3",
      "display_name": "Python 3"
    },
    "language_info": {
      "name": "python"
    },
    "accelerator": "GPU"
  },
  "cells": [
    {
      "cell_type": "markdown",
      "metadata": {
        "id": "view-in-github",
        "colab_type": "text"
      },
      "source": [
        "<a href=\"https://colab.research.google.com/github/KwanHoo/python_basic/blob/main/ChatBotTest.ipynb\" target=\"_parent\"><img src=\"https://colab.research.google.com/assets/colab-badge.svg\" alt=\"Open In Colab\"/></a>"
      ]
    },
    {
      "cell_type": "markdown",
      "metadata": {
        "id": "vtNZoFZNgK5m"
      },
      "source": [
        "# ChatbotTest\n",
        "\n",
        "## 파이썬 실습"
      ]
    },
    {
      "cell_type": "markdown",
      "metadata": {
        "id": "2psBH6-7j12z"
      },
      "source": [
        "- 개발환경 확인\n",
        "- Google Colab 성능 확인"
      ]
    },
    {
      "cell_type": "code",
      "metadata": {
        "id": "fCiDzczafbqw"
      },
      "source": [
        "import platform # shift + Enter 실행 "
      ],
      "execution_count": null,
      "outputs": []
    },
    {
      "cell_type": "markdown",
      "metadata": {
        "id": "dDZlVB1ig6HE"
      },
      "source": [
        "- 환경 : 리눅스 기반 우분투"
      ]
    },
    {
      "cell_type": "code",
      "metadata": {
        "colab": {
          "base_uri": "https://localhost:8080/",
          "height": 35
        },
        "id": "bnqiClolgeML",
        "outputId": "e6cb4e13-af82-4948-d45b-9a7469a0c6e8"
      },
      "source": [
        "platform.platform() # 환경 정보 확인"
      ],
      "execution_count": null,
      "outputs": [
        {
          "output_type": "execute_result",
          "data": {
            "application/vnd.google.colaboratory.intrinsic+json": {
              "type": "string"
            },
            "text/plain": [
              "'Linux-5.4.104+-x86_64-with-Ubuntu-18.04-bionic'"
            ]
          },
          "metadata": {},
          "execution_count": 4
        }
      ]
    },
    {
      "cell_type": "markdown",
      "metadata": {
        "id": "3CcU_Mh4hKHU"
      },
      "source": [
        "- 운영체제 버전확인"
      ]
    },
    {
      "cell_type": "code",
      "metadata": {
        "colab": {
          "base_uri": "https://localhost:8080/"
        },
        "id": "bhhb0lP4g0Gf",
        "outputId": "7ff05d51-a4e9-4a5d-b43c-9ef8e2a024e7"
      },
      "source": [
        "# OS\n",
        "!cat /etc/issue.net #! 를 주는 거는 OS에 명령을 준다는 의미"
      ],
      "execution_count": null,
      "outputs": [
        {
          "output_type": "stream",
          "text": [
            "Ubuntu 18.04.5 LTS\n"
          ],
          "name": "stdout"
        }
      ]
    },
    {
      "cell_type": "markdown",
      "metadata": {
        "id": "hTvydbWHhpmg"
      },
      "source": [
        "- 어떤 CPU 제공해주는지 스펙 확인\n",
        "- 0번_cpu, 1번_cpu 2개 할당"
      ]
    },
    {
      "cell_type": "code",
      "metadata": {
        "colab": {
          "base_uri": "https://localhost:8080/"
        },
        "id": "l-UYUS04hFUz",
        "outputId": "d1144157-8eaf-41aa-e7c3-cdc4f2ac561b"
      },
      "source": [
        "# CPU\n",
        "!cat /proc/cpuinfo\n"
      ],
      "execution_count": null,
      "outputs": [
        {
          "output_type": "stream",
          "text": [
            "processor\t: 0\n",
            "vendor_id\t: GenuineIntel\n",
            "cpu family\t: 6\n",
            "model\t\t: 63\n",
            "model name\t: Intel(R) Xeon(R) CPU @ 2.30GHz\n",
            "stepping\t: 0\n",
            "microcode\t: 0x1\n",
            "cpu MHz\t\t: 2299.998\n",
            "cache size\t: 46080 KB\n",
            "physical id\t: 0\n",
            "siblings\t: 2\n",
            "core id\t\t: 0\n",
            "cpu cores\t: 1\n",
            "apicid\t\t: 0\n",
            "initial apicid\t: 0\n",
            "fpu\t\t: yes\n",
            "fpu_exception\t: yes\n",
            "cpuid level\t: 13\n",
            "wp\t\t: yes\n",
            "flags\t\t: fpu vme de pse tsc msr pae mce cx8 apic sep mtrr pge mca cmov pat pse36 clflush mmx fxsr sse sse2 ss ht syscall nx pdpe1gb rdtscp lm constant_tsc rep_good nopl xtopology nonstop_tsc cpuid tsc_known_freq pni pclmulqdq ssse3 fma cx16 pcid sse4_1 sse4_2 x2apic movbe popcnt aes xsave avx f16c rdrand hypervisor lahf_lm abm invpcid_single ssbd ibrs ibpb stibp fsgsbase tsc_adjust bmi1 avx2 smep bmi2 erms invpcid xsaveopt arat md_clear arch_capabilities\n",
            "bugs\t\t: cpu_meltdown spectre_v1 spectre_v2 spec_store_bypass l1tf mds swapgs\n",
            "bogomips\t: 4599.99\n",
            "clflush size\t: 64\n",
            "cache_alignment\t: 64\n",
            "address sizes\t: 46 bits physical, 48 bits virtual\n",
            "power management:\n",
            "\n",
            "processor\t: 1\n",
            "vendor_id\t: GenuineIntel\n",
            "cpu family\t: 6\n",
            "model\t\t: 63\n",
            "model name\t: Intel(R) Xeon(R) CPU @ 2.30GHz\n",
            "stepping\t: 0\n",
            "microcode\t: 0x1\n",
            "cpu MHz\t\t: 2299.998\n",
            "cache size\t: 46080 KB\n",
            "physical id\t: 0\n",
            "siblings\t: 2\n",
            "core id\t\t: 0\n",
            "cpu cores\t: 1\n",
            "apicid\t\t: 1\n",
            "initial apicid\t: 1\n",
            "fpu\t\t: yes\n",
            "fpu_exception\t: yes\n",
            "cpuid level\t: 13\n",
            "wp\t\t: yes\n",
            "flags\t\t: fpu vme de pse tsc msr pae mce cx8 apic sep mtrr pge mca cmov pat pse36 clflush mmx fxsr sse sse2 ss ht syscall nx pdpe1gb rdtscp lm constant_tsc rep_good nopl xtopology nonstop_tsc cpuid tsc_known_freq pni pclmulqdq ssse3 fma cx16 pcid sse4_1 sse4_2 x2apic movbe popcnt aes xsave avx f16c rdrand hypervisor lahf_lm abm invpcid_single ssbd ibrs ibpb stibp fsgsbase tsc_adjust bmi1 avx2 smep bmi2 erms invpcid xsaveopt arat md_clear arch_capabilities\n",
            "bugs\t\t: cpu_meltdown spectre_v1 spectre_v2 spec_store_bypass l1tf mds swapgs\n",
            "bogomips\t: 4599.99\n",
            "clflush size\t: 64\n",
            "cache_alignment\t: 64\n",
            "address sizes\t: 46 bits physical, 48 bits virtual\n",
            "power management:\n",
            "\n"
          ],
          "name": "stdout"
        }
      ]
    },
    {
      "cell_type": "markdown",
      "metadata": {
        "id": "uOIbn0WXiDoN"
      },
      "source": [
        "- 메모리, 램 정보 확인\n",
        "- 램 13기가 정도 용량 할당"
      ]
    },
    {
      "cell_type": "code",
      "metadata": {
        "colab": {
          "base_uri": "https://localhost:8080/"
        },
        "id": "qUh3b7y-htMC",
        "outputId": "788fa6e8-ceb8-443d-c300-f38ad76badbc"
      },
      "source": [
        "# Memory\n",
        "!cat /proc/meminfo"
      ],
      "execution_count": null,
      "outputs": [
        {
          "output_type": "stream",
          "text": [
            "MemTotal:       13302924 kB\n",
            "MemFree:        10387416 kB\n",
            "MemAvailable:   12479200 kB\n",
            "Buffers:          133188 kB\n",
            "Cached:          2083276 kB\n",
            "SwapCached:            0 kB\n",
            "Active:          1016260 kB\n",
            "Inactive:        1617628 kB\n",
            "Active(anon):     371620 kB\n",
            "Inactive(anon):      440 kB\n",
            "Active(file):     644640 kB\n",
            "Inactive(file):  1617188 kB\n",
            "Unevictable:           0 kB\n",
            "Mlocked:               0 kB\n",
            "SwapTotal:             0 kB\n",
            "SwapFree:              0 kB\n",
            "Dirty:               536 kB\n",
            "Writeback:             0 kB\n",
            "AnonPages:        417412 kB\n",
            "Mapped:           240364 kB\n",
            "Shmem:              1172 kB\n",
            "KReclaimable:     142864 kB\n",
            "Slab:             193012 kB\n",
            "SReclaimable:     142864 kB\n",
            "SUnreclaim:        50148 kB\n",
            "KernelStack:        4720 kB\n",
            "PageTables:         5600 kB\n",
            "NFS_Unstable:          0 kB\n",
            "Bounce:                0 kB\n",
            "WritebackTmp:          0 kB\n",
            "CommitLimit:     6651460 kB\n",
            "Committed_AS:    3064908 kB\n",
            "VmallocTotal:   34359738367 kB\n",
            "VmallocUsed:       45736 kB\n",
            "VmallocChunk:          0 kB\n",
            "Percpu:             1400 kB\n",
            "AnonHugePages:      2048 kB\n",
            "ShmemHugePages:        0 kB\n",
            "ShmemPmdMapped:        0 kB\n",
            "FileHugePages:         0 kB\n",
            "FilePmdMapped:         0 kB\n",
            "CmaTotal:              0 kB\n",
            "CmaFree:               0 kB\n",
            "HugePages_Total:       0\n",
            "HugePages_Free:        0\n",
            "HugePages_Rsvd:        0\n",
            "HugePages_Surp:        0\n",
            "Hugepagesize:       2048 kB\n",
            "Hugetlb:               0 kB\n",
            "DirectMap4k:      148288 kB\n",
            "DirectMap2M:     5091328 kB\n",
            "DirectMap1G:    10485760 kB\n"
          ],
          "name": "stdout"
        }
      ]
    },
    {
      "cell_type": "markdown",
      "metadata": {
        "id": "bGPTd9sUidoW"
      },
      "source": [
        "- 저장소, 하드디스크 용량 확인\n",
        "- 전체 69G"
      ]
    },
    {
      "cell_type": "code",
      "metadata": {
        "colab": {
          "base_uri": "https://localhost:8080/"
        },
        "id": "Rc_9YhnliLWj",
        "outputId": "7152c3a6-01ef-4e57-f36c-eb552482e8cd"
      },
      "source": [
        "# disk\n",
        "!df -h"
      ],
      "execution_count": null,
      "outputs": [
        {
          "output_type": "stream",
          "text": [
            "Filesystem      Size  Used Avail Use% Mounted on\n",
            "overlay          69G   38G   32G  55% /\n",
            "tmpfs            64M     0   64M   0% /dev\n",
            "tmpfs           6.4G     0  6.4G   0% /sys/fs/cgroup\n",
            "shm             5.8G     0  5.8G   0% /dev/shm\n",
            "/dev/sda1        76G   42G   35G  55% /opt/bin/.nvidia\n",
            "tmpfs           6.4G   28K  6.4G   1% /var/colab\n",
            "tmpfs           6.4G     0  6.4G   0% /proc/acpi\n",
            "tmpfs           6.4G     0  6.4G   0% /proc/scsi\n",
            "tmpfs           6.4G     0  6.4G   0% /sys/firmware\n"
          ],
          "name": "stdout"
        }
      ]
    },
    {
      "cell_type": "markdown",
      "metadata": {
        "id": "bb0cT1TKjCsz"
      },
      "source": [
        "- 설치되어 있는 python 버전 확인\n",
        "- Python 3.7.11"
      ]
    },
    {
      "cell_type": "code",
      "metadata": {
        "colab": {
          "base_uri": "https://localhost:8080/"
        },
        "id": "uLdShcQHivmh",
        "outputId": "23debee2-256f-436e-d9af-a9e8841b1804"
      },
      "source": [
        "# Python\n",
        "!python --version"
      ],
      "execution_count": null,
      "outputs": [
        {
          "output_type": "stream",
          "text": [
            "Python 3.7.11\n"
          ],
          "name": "stdout"
        }
      ]
    },
    {
      "cell_type": "markdown",
      "metadata": {
        "id": "3DbujFhejZ5G"
      },
      "source": [
        "- GPU 스펙(정보) 확인\n",
        "- Tesla P4\n",
        "- driver version : 460.32.03\n",
        "- CUDA version : 11.2"
      ]
    },
    {
      "cell_type": "code",
      "metadata": {
        "colab": {
          "base_uri": "https://localhost:8080/"
        },
        "id": "a-ntKR9OjI6-",
        "outputId": "d2c70ff1-286c-4239-da68-5e3f2163399e"
      },
      "source": [
        "# GPU Spec\n",
        "!nvidia-smi"
      ],
      "execution_count": null,
      "outputs": [
        {
          "output_type": "stream",
          "text": [
            "Sat Aug 21 02:32:46 2021       \n",
            "+-----------------------------------------------------------------------------+\n",
            "| NVIDIA-SMI 470.57.02    Driver Version: 460.32.03    CUDA Version: 11.2     |\n",
            "|-------------------------------+----------------------+----------------------+\n",
            "| GPU  Name        Persistence-M| Bus-Id        Disp.A | Volatile Uncorr. ECC |\n",
            "| Fan  Temp  Perf  Pwr:Usage/Cap|         Memory-Usage | GPU-Util  Compute M. |\n",
            "|                               |                      |               MIG M. |\n",
            "|===============================+======================+======================|\n",
            "|   0  Tesla P4            Off  | 00000000:00:04.0 Off |                    0 |\n",
            "| N/A   36C    P8     7W /  75W |      0MiB /  7611MiB |      0%      Default |\n",
            "|                               |                      |                  N/A |\n",
            "+-------------------------------+----------------------+----------------------+\n",
            "                                                                               \n",
            "+-----------------------------------------------------------------------------+\n",
            "| Processes:                                                                  |\n",
            "|  GPU   GI   CI        PID   Type   Process name                  GPU Memory |\n",
            "|        ID   ID                                                   Usage      |\n",
            "|=============================================================================|\n",
            "|  No running processes found                                                 |\n",
            "+-----------------------------------------------------------------------------+\n"
          ],
          "name": "stdout"
        }
      ]
    },
    {
      "cell_type": "markdown",
      "metadata": {
        "id": "RUdRO4O3mDln"
      },
      "source": [
        "## Python 실습 \n",
        "- 변수명으로 숫자가 들어오면안됨"
      ]
    },
    {
      "cell_type": "code",
      "metadata": {
        "colab": {
          "base_uri": "https://localhost:8080/"
        },
        "id": "iz3zwj37jaut",
        "outputId": "dea72ece-8788-4167-bd7c-f28687637750"
      },
      "source": [
        "tax = 0.08\n",
        "\n",
        "tax"
      ],
      "execution_count": null,
      "outputs": [
        {
          "output_type": "execute_result",
          "data": {
            "text/plain": [
              "0.08"
            ]
          },
          "metadata": {},
          "execution_count": 11
        }
      ]
    },
    {
      "cell_type": "code",
      "metadata": {
        "colab": {
          "base_uri": "https://localhost:8080/",
          "height": 135
        },
        "id": "gyQcRFN1mU78",
        "outputId": "19a7e3d7-e982-432e-e11a-7c58beaf7db8"
      },
      "source": [
        "2value =10 "
      ],
      "execution_count": null,
      "outputs": [
        {
          "output_type": "error",
          "ename": "SyntaxError",
          "evalue": "ignored",
          "traceback": [
            "\u001b[0;36m  File \u001b[0;32m\"<ipython-input-12-0332a042034a>\"\u001b[0;36m, line \u001b[0;32m1\u001b[0m\n\u001b[0;31m    2value =10\u001b[0m\n\u001b[0m         ^\u001b[0m\n\u001b[0;31mSyntaxError\u001b[0m\u001b[0;31m:\u001b[0m invalid syntax\n"
          ]
        }
      ]
    },
    {
      "cell_type": "markdown",
      "metadata": {
        "id": "PXSif63lnPt9"
      },
      "source": [
        "- AND 연산자 : 두개가 모두 참이여아지 참\n",
        "- OR 연산자 : 둘중 하나만 참이여도 참\n"
      ]
    },
    {
      "cell_type": "code",
      "metadata": {
        "colab": {
          "base_uri": "https://localhost:8080/"
        },
        "id": "k9KzMvg7m0Ae",
        "outputId": "cccfa6f6-d7dd-425a-e91f-0ad0d5edfdad"
      },
      "source": [
        "True and False"
      ],
      "execution_count": null,
      "outputs": [
        {
          "output_type": "execute_result",
          "data": {
            "text/plain": [
              "False"
            ]
          },
          "metadata": {},
          "execution_count": 13
        }
      ]
    },
    {
      "cell_type": "code",
      "metadata": {
        "colab": {
          "base_uri": "https://localhost:8080/"
        },
        "id": "f6ly6a_Im69Z",
        "outputId": "309405d1-53f7-487f-f69e-bcd922df9927"
      },
      "source": [
        "True and True"
      ],
      "execution_count": null,
      "outputs": [
        {
          "output_type": "execute_result",
          "data": {
            "text/plain": [
              "True"
            ]
          },
          "metadata": {},
          "execution_count": 14
        }
      ]
    },
    {
      "cell_type": "code",
      "metadata": {
        "colab": {
          "base_uri": "https://localhost:8080/"
        },
        "id": "EgqI_iahnFEe",
        "outputId": "c1a95116-befa-43cd-d853-2cad02436a37"
      },
      "source": [
        "True or True"
      ],
      "execution_count": null,
      "outputs": [
        {
          "output_type": "execute_result",
          "data": {
            "text/plain": [
              "True"
            ]
          },
          "metadata": {},
          "execution_count": 15
        }
      ]
    },
    {
      "cell_type": "code",
      "metadata": {
        "colab": {
          "base_uri": "https://localhost:8080/"
        },
        "id": "vwl7gWlFnHQP",
        "outputId": "e4b71f96-a97c-48c5-b934-eac4facb3a19"
      },
      "source": [
        "True or False"
      ],
      "execution_count": null,
      "outputs": [
        {
          "output_type": "execute_result",
          "data": {
            "text/plain": [
              "True"
            ]
          },
          "metadata": {},
          "execution_count": 17
        }
      ]
    },
    {
      "cell_type": "code",
      "metadata": {
        "colab": {
          "base_uri": "https://localhost:8080/"
        },
        "id": "4s0NHqk1nJC3",
        "outputId": "183886d5-dfa0-4dc9-e33c-8faf2ba4564b"
      },
      "source": [
        "False or False"
      ],
      "execution_count": null,
      "outputs": [
        {
          "output_type": "execute_result",
          "data": {
            "text/plain": [
              "False"
            ]
          },
          "metadata": {},
          "execution_count": 18
        }
      ]
    },
    {
      "cell_type": "markdown",
      "metadata": {
        "id": "Qx6paGZMoCU7"
      },
      "source": [
        "- in : 해당 숫자가 있느냐 없느냐 판별 문법"
      ]
    },
    {
      "cell_type": "code",
      "metadata": {
        "colab": {
          "base_uri": "https://localhost:8080/"
        },
        "id": "kYzp-qdNnODO",
        "outputId": "a2cdcdea-1695-4fd3-9203-75aeabc6fb3c"
      },
      "source": [
        "2 in [1,2,3]"
      ],
      "execution_count": null,
      "outputs": [
        {
          "output_type": "execute_result",
          "data": {
            "text/plain": [
              "True"
            ]
          },
          "metadata": {},
          "execution_count": 19
        }
      ]
    },
    {
      "cell_type": "code",
      "metadata": {
        "colab": {
          "base_uri": "https://localhost:8080/"
        },
        "id": "VDJzhib4n7Yw",
        "outputId": "cae180d3-ac16-4e8e-8962-cabb0004c1bd"
      },
      "source": [
        "15 in [2, 4, 5, 6, 8]"
      ],
      "execution_count": null,
      "outputs": [
        {
          "output_type": "execute_result",
          "data": {
            "text/plain": [
              "False"
            ]
          },
          "metadata": {},
          "execution_count": 20
        }
      ]
    },
    {
      "cell_type": "code",
      "metadata": {
        "colab": {
          "base_uri": "https://localhost:8080/"
        },
        "id": "CrIdqxwon_mZ",
        "outputId": "23e0abbf-04b6-4726-ca38-cc02ad403e36"
      },
      "source": [
        "'버거킹' in ['버거킹', '맥도날드', '롯데리아', '맘스터치']"
      ],
      "execution_count": null,
      "outputs": [
        {
          "output_type": "execute_result",
          "data": {
            "text/plain": [
              "True"
            ]
          },
          "metadata": {},
          "execution_count": 21
        }
      ]
    },
    {
      "cell_type": "markdown",
      "metadata": {
        "id": "kXPmTMs1pHm_"
      },
      "source": [
        "- 사칙연산"
      ]
    },
    {
      "cell_type": "code",
      "metadata": {
        "colab": {
          "base_uri": "https://localhost:8080/"
        },
        "id": "0KzNzY0Nowbt",
        "outputId": "467ae2ea-1271-4011-be67-533671c75600"
      },
      "source": [
        "x = 8\n",
        "y = 2\n",
        "print(x+y)\n",
        "print(x-y)\n",
        "print(x*y)\n",
        "print(x/y)\n",
        "print(x%y) # 나누고 난 나머지값\n",
        "print(x**y) # 제곱, 세제곱 등..."
      ],
      "execution_count": null,
      "outputs": [
        {
          "output_type": "stream",
          "text": [
            "10\n",
            "6\n",
            "16\n",
            "4.0\n",
            "0\n",
            "64\n"
          ],
          "name": "stdout"
        }
      ]
    },
    {
      "cell_type": "markdown",
      "metadata": {
        "id": "VqKLxHBHpszq"
      },
      "source": [
        "## Practice 1-1\n",
        "#### 정수와 실수 연산\n",
        "- 정수형 변수 a에 10을 할당\n",
        "- a를 2로 나눈 후 그 결과 값을 다시 a에 할당\n",
        "- a의 세제곱을 구한 후 그 결과 값을 변수 c에 할당\n",
        "- a와 c를 합한 후 그 결과 값을 출력\n",
        "\n",
        "- 실수형 변수 b에 10.0을 할당\n",
        "- b에 3을 곱한 후 10을 빼고 그 결과 값을 변수 d에 할당\n",
        "- d 를 4로 나눈 나머지를 출력"
      ]
    },
    {
      "cell_type": "code",
      "metadata": {
        "colab": {
          "base_uri": "https://localhost:8080/"
        },
        "id": "2eggewQspLXS",
        "outputId": "fffd1256-7c60-465c-c29b-646af6302393"
      },
      "source": [
        "a = 10\n",
        "a"
      ],
      "execution_count": 2,
      "outputs": [
        {
          "output_type": "execute_result",
          "data": {
            "text/plain": [
              "10"
            ]
          },
          "metadata": {},
          "execution_count": 2
        }
      ]
    },
    {
      "cell_type": "code",
      "metadata": {
        "colab": {
          "base_uri": "https://localhost:8080/"
        },
        "id": "1enSqEwkqOpp",
        "outputId": "8bca62c3-f6de-4f8a-921d-695bc6df2c4b"
      },
      "source": [
        "a = a/2\n",
        "print(a)"
      ],
      "execution_count": 3,
      "outputs": [
        {
          "output_type": "stream",
          "text": [
            "5.0\n"
          ],
          "name": "stdout"
        }
      ]
    },
    {
      "cell_type": "code",
      "metadata": {
        "colab": {
          "base_uri": "https://localhost:8080/"
        },
        "id": "1aXHYiW7qREU",
        "outputId": "71f31f81-38d4-4837-96e7-786d45941b00"
      },
      "source": [
        "c = a**3\n",
        "print(c)"
      ],
      "execution_count": 4,
      "outputs": [
        {
          "output_type": "stream",
          "text": [
            "125.0\n"
          ],
          "name": "stdout"
        }
      ]
    },
    {
      "cell_type": "code",
      "metadata": {
        "colab": {
          "base_uri": "https://localhost:8080/"
        },
        "id": "mIV0f0k5qW2G",
        "outputId": "ffbbf121-ecdc-471d-c8c0-0c458ed329e8"
      },
      "source": [
        "sum = a + c\n",
        "print(sum)"
      ],
      "execution_count": 5,
      "outputs": [
        {
          "output_type": "stream",
          "text": [
            "130.0\n"
          ],
          "name": "stdout"
        }
      ]
    },
    {
      "cell_type": "code",
      "metadata": {
        "colab": {
          "base_uri": "https://localhost:8080/"
        },
        "id": "DnsJUTJsqjDu",
        "outputId": "08528c2a-3df6-43e8-e7ae-1d39df4a595c"
      },
      "source": [
        "b = 10.0\n",
        "print(type(b))\n",
        "print(b)\n"
      ],
      "execution_count": 6,
      "outputs": [
        {
          "output_type": "stream",
          "text": [
            "<class 'float'>\n",
            "10.0\n"
          ],
          "name": "stdout"
        }
      ]
    },
    {
      "cell_type": "code",
      "metadata": {
        "colab": {
          "base_uri": "https://localhost:8080/"
        },
        "id": "qyxrHLpGqxKq",
        "outputId": "eb03cecf-0b5d-4fd4-e2ad-818d14a6d466"
      },
      "source": [
        "d = (b*3)-10\n",
        "\n",
        "print(d)"
      ],
      "execution_count": 7,
      "outputs": [
        {
          "output_type": "stream",
          "text": [
            "20.0\n"
          ],
          "name": "stdout"
        }
      ]
    },
    {
      "cell_type": "code",
      "metadata": {
        "colab": {
          "base_uri": "https://localhost:8080/"
        },
        "id": "CSvn9ckwrC0i",
        "outputId": "e64b1d4c-1e6b-4fe7-e312-717c845638bd"
      },
      "source": [
        "reminder = d % 4\n",
        "\n",
        "print(reminder)"
      ],
      "execution_count": 8,
      "outputs": [
        {
          "output_type": "stream",
          "text": [
            "0.0\n"
          ],
          "name": "stdout"
        }
      ]
    },
    {
      "cell_type": "markdown",
      "metadata": {
        "id": "dLHGXL5U8w_6"
      },
      "source": [
        "1. 변수는 대소문자를 구분합니다.\n",
        "2. 변수명은 _(언더스코어)나 영문자로 시작합니다.\n",
        "3. 예약어(if,while,for,etc) 변수명으로 사용할 수 없습니다."
      ]
    },
    {
      "cell_type": "code",
      "metadata": {
        "id": "tdtVN5fJrVt0",
        "colab": {
          "base_uri": "https://localhost:8080/"
        },
        "outputId": "56fe0e5c-2c76-49d3-d3b4-ab25a021b260"
      },
      "source": [
        "x = 10\n",
        "y = 20\n",
        "print(x+y)\n"
      ],
      "execution_count": 9,
      "outputs": [
        {
          "output_type": "stream",
          "text": [
            "30\n"
          ],
          "name": "stdout"
        }
      ]
    },
    {
      "cell_type": "code",
      "metadata": {
        "colab": {
          "base_uri": "https://localhost:8080/"
        },
        "id": "ylOwhVfp9BFj",
        "outputId": "5f213726-df65-4407-860a-0269db82ccb2"
      },
      "source": [
        "name = input('이름을 입력하세요:')\n",
        "age = input('나이를 입력하세요:')\n",
        "print(name,age)\n",
        "print('제 이름은',name,'입니다. 제 나이는',age,'입니다')\n",
        "print('제 이름은 {} 입니다. 제 나이는 {} 입니다'.format(name,age))"
      ],
      "execution_count": 10,
      "outputs": [
        {
          "output_type": "stream",
          "text": [
            "이름을 입력하세요:둘리\n",
            "나이를 입력하세요:15\n",
            "둘리 15\n",
            "제 이름은 둘리 입니다. 제 나이는 15 입니다\n",
            "제 이름은 둘리 입니다. 제 나이는 15 입니다\n"
          ],
          "name": "stdout"
        }
      ]
    },
    {
      "cell_type": "code",
      "metadata": {
        "colab": {
          "base_uri": "https://localhost:8080/"
        },
        "id": "8-7wLNkN9dqG",
        "outputId": "38901b0b-ad02-47a4-801d-fe8e37678cf1"
      },
      "source": [
        "# 변수의 타입\n",
        "a = 10 # int\n",
        "b = 10.1 # float\n",
        "c = \"name\" #str\n",
        "d = True # bool(True, False)\n",
        "e = [100,200,300] # list\n",
        "f = (100,200,300) # tuple\n",
        "g = {'one':1, 'two':2} # dict\n",
        "h = {100, 200, 300, 400} #set\n",
        "\n",
        "print(type(a), type(b),type(c), type(d), type(e))\n",
        "print(type(f), type(g), type(h))\n",
        "print(a+a)\n",
        "print(type(a+a))\n",
        "print(b+b)\n",
        "print(c+c)"
      ],
      "execution_count": 12,
      "outputs": [
        {
          "output_type": "stream",
          "text": [
            "<class 'int'> <class 'float'> <class 'str'> <class 'bool'> <class 'list'>\n",
            "<class 'tuple'> <class 'dict'> <class 'set'>\n",
            "20\n",
            "<class 'int'>\n",
            "20.2\n",
            "namename\n"
          ],
          "name": "stdout"
        }
      ]
    },
    {
      "cell_type": "code",
      "metadata": {
        "colab": {
          "base_uri": "https://localhost:8080/"
        },
        "id": "tJc9tAns_0Lw",
        "outputId": "bc256fba-b993-4cbb-a5c5-b0ef9967a02c"
      },
      "source": [
        "# 비교연산\n",
        "a=1\n",
        "b=4354\n",
        "print(a>b)\n",
        "print(a>=b)\n",
        "print(a<b)\n",
        "print(a<=b)\n",
        "print(a==b)\n",
        "print(a!=b)"
      ],
      "execution_count": 15,
      "outputs": [
        {
          "output_type": "stream",
          "text": [
            "False\n",
            "False\n",
            "True\n",
            "True\n",
            "False\n",
            "True\n"
          ],
          "name": "stdout"
        }
      ]
    },
    {
      "cell_type": "code",
      "metadata": {
        "colab": {
          "base_uri": "https://localhost:8080/"
        },
        "id": "ZHrBZ8tPA2uT",
        "outputId": "8195920c-ab1c-46e5-cfa5-dda7c9a09544"
      },
      "source": [
        "# 5\n",
        "\n",
        "점수 = 86\n",
        "\n",
        "if 점수 >=90:\n",
        "  print('A+')\n",
        "\n",
        "if 점수 <90 and 점수 >= 80:\n",
        "  print('A')\n",
        "\n",
        "if 점수 <80 and 점수 >= 70:\n",
        "  print('B+')\n",
        "\n",
        "if 점수 <70 and 점수 >= 60:\n",
        "  print('B')\n",
        "\n",
        "if 점수 <60:\n",
        "  print('C')"
      ],
      "execution_count": 18,
      "outputs": [
        {
          "output_type": "stream",
          "text": [
            "A\n"
          ],
          "name": "stdout"
        }
      ]
    },
    {
      "cell_type": "code",
      "metadata": {
        "colab": {
          "base_uri": "https://localhost:8080/"
        },
        "id": "9-QWChjOC3Mq",
        "outputId": "60b7d8f4-07e3-4518-8934-50d0bcd509d8"
      },
      "source": [
        "# 6\n",
        "\n",
        "# 반복문(while, for)\n",
        "x = 1\n",
        "while x< 10:\n",
        "  print(x)\n",
        "  x += 1  # x = x+1"
      ],
      "execution_count": 19,
      "outputs": [
        {
          "output_type": "stream",
          "text": [
            "1\n",
            "2\n",
            "3\n",
            "4\n",
            "5\n",
            "6\n",
            "7\n",
            "8\n",
            "9\n"
          ],
          "name": "stdout"
        }
      ]
    },
    {
      "cell_type": "code",
      "metadata": {
        "colab": {
          "base_uri": "https://localhost:8080/"
        },
        "id": "-qbRiZMIC_m8",
        "outputId": "fdc94c76-355b-45db-daeb-8b2f13549fb4"
      },
      "source": [
        "# 7\n",
        "\n",
        "x  = [1,2,3,4,5,6,7,8,9]\n",
        "# range(start:stop:step)\n",
        "print(list(range(10)))\n",
        "print(list(range(1,10,1)))\n",
        "print(list(range(0,10,2)))\n",
        "print(list(range(1,10,2)))\n",
        "print(list(range(5,-5,-1)))\n",
        "print(list(range(10,20)))\n",
        "print(type(range(10)))\n",
        "\n",
        "\n",
        "# iteration : 순서대로 하나씩 늘어남\n",
        "x = iter(range(10))\n",
        "print(next(x))\n",
        "print(next(x))\n",
        "print(next(x))\n",
        "print(next(x))"
      ],
      "execution_count": 22,
      "outputs": [
        {
          "output_type": "stream",
          "text": [
            "[0, 1, 2, 3, 4, 5, 6, 7, 8, 9]\n",
            "[1, 2, 3, 4, 5, 6, 7, 8, 9]\n",
            "[0, 2, 4, 6, 8]\n",
            "[1, 3, 5, 7, 9]\n",
            "[5, 4, 3, 2, 1, 0, -1, -2, -3, -4]\n",
            "[10, 11, 12, 13, 14, 15, 16, 17, 18, 19]\n",
            "<class 'range'>\n",
            "0\n",
            "1\n",
            "2\n",
            "3\n"
          ],
          "name": "stdout"
        }
      ]
    },
    {
      "cell_type": "code",
      "metadata": {
        "colab": {
          "base_uri": "https://localhost:8080/"
        },
        "id": "6ZyUIvMPJFN4",
        "outputId": "0de0ec8a-1b2e-4629-cecf-c1475130bb49"
      },
      "source": [
        "# 8 for문\n",
        "\n",
        "# 변수 초기화\n",
        "result = 0\n",
        "\n",
        "# 1부터 100까지 합\n",
        "for i in range(101):\n",
        "  result +=i\n",
        "print(result)\n",
        "\n",
        "#result  = 0\n",
        "# 0부터 100까지 짝수 합\n",
        "for i in range(0,101,2):\n",
        "  result +=i\n",
        "print(result)\n",
        "\n",
        "#result = 0\n",
        "# 짝수 합\n",
        "for i in range(101):\n",
        "  if i%2 ==0:\n",
        "    result +=i\n",
        "print(result)"
      ],
      "execution_count": 26,
      "outputs": [
        {
          "output_type": "stream",
          "text": [
            "5050\n",
            "7600\n",
            "10150\n"
          ],
          "name": "stdout"
        }
      ]
    },
    {
      "cell_type": "markdown",
      "metadata": {
        "id": "Dnp1LF5INFwe"
      },
      "source": [
        "- 함수는 이름으로 코드를 묶은 것\n",
        "- 관리가 쉽고 재사용 가능\n",
        "- 함수는 코드를 논리적으로 불 수 있도록 만들어 줌"
      ]
    },
    {
      "cell_type": "code",
      "metadata": {
        "colab": {
          "base_uri": "https://localhost:8080/"
        },
        "id": "xCULgjrCK_HI",
        "outputId": "f310f76d-a9f9-42d9-edc7-74f587a0f7cb"
      },
      "source": [
        "# 9 함수\n",
        "\n",
        "def plus(x,y):\n",
        "  z = x+y\n",
        "  return z\n",
        "\n",
        "print(plus(3,8))"
      ],
      "execution_count": 28,
      "outputs": [
        {
          "output_type": "stream",
          "text": [
            "11\n"
          ],
          "name": "stdout"
        }
      ]
    },
    {
      "cell_type": "code",
      "metadata": {
        "id": "5pkqp-66M-iN"
      },
      "source": [
        ""
      ],
      "execution_count": null,
      "outputs": []
    }
  ]
}