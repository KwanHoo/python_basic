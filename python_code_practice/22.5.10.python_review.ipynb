{
  "nbformat": 4,
  "nbformat_minor": 0,
  "metadata": {
    "colab": {
      "name": "elice_5.10._실시간.ipynb",
      "provenance": []
    },
    "kernelspec": {
      "name": "python3",
      "display_name": "Python 3"
    },
    "language_info": {
      "name": "python"
    }
  },
  "cells": [
    {
      "cell_type": "code",
      "execution_count": 1,
      "metadata": {
        "id": "6tJGS4uEmpHq"
      },
      "outputs": [],
      "source": [
        "import numpy as np"
      ]
    },
    {
      "cell_type": "code",
      "source": [
        "ralo = 2400\n",
        "print(ralo)\n",
        "print(type(ralo))\n",
        "\n",
        "bool1 = True\n",
        "print(bool1)\n",
        "print(type(bool1))\n"
      ],
      "metadata": {
        "colab": {
          "base_uri": "https://localhost:8080/"
        },
        "id": "JT5qj0lBmscb",
        "outputId": "222c1afc-09fa-448c-8a1b-bccbad3d3200"
      },
      "execution_count": 2,
      "outputs": [
        {
          "output_type": "stream",
          "name": "stdout",
          "text": [
            "2400\n",
            "<class 'int'>\n",
            "True\n",
            "<class 'bool'>\n"
          ]
        }
      ]
    },
    {
      "cell_type": "code",
      "source": [
        "c = 'ABC'\n",
        "print(c)\n",
        "print(type(c))\n",
        "d = [1, '2', 3]\n",
        "print(d)\n",
        "print(type(d))\n",
        "e = {'a': 10, 'b': 20}\n",
        "print(e)\n",
        "print(type(e))\n",
        "f = {10, 20, 30}\n",
        "print(f)\n",
        "print(type(f))"
      ],
      "metadata": {
        "colab": {
          "base_uri": "https://localhost:8080/"
        },
        "id": "uI8PQjcqmvMc",
        "outputId": "4e7b78ce-f71e-4c4a-f485-d495d7f87d25"
      },
      "execution_count": 3,
      "outputs": [
        {
          "output_type": "stream",
          "name": "stdout",
          "text": [
            "ABC\n",
            "<class 'str'>\n",
            "[1, '2', 3]\n",
            "<class 'list'>\n",
            "{'a': 10, 'b': 20}\n",
            "<class 'dict'>\n",
            "{10, 20, 30}\n",
            "<class 'set'>\n"
          ]
        }
      ]
    },
    {
      "cell_type": "code",
      "source": [
        "ac = np.array([1, 2, 3])\n",
        "print(ac)\n",
        "print(ac.shape)\n",
        "print(ac.ndim)\n",
        "print(ac.dtype)\n",
        "print(ac.itemsize)\n",
        "print(ac.size)\n"
      ],
      "metadata": {
        "colab": {
          "base_uri": "https://localhost:8080/"
        },
        "id": "bd1Ap7Ymmwvy",
        "outputId": "74d61896-4c74-46e7-a30e-0472481592dc"
      },
      "execution_count": 5,
      "outputs": [
        {
          "output_type": "stream",
          "name": "stdout",
          "text": [
            "[1 2 3]\n",
            "(3,)\n",
            "1\n",
            "int64\n",
            "8\n",
            "3\n"
          ]
        }
      ]
    },
    {
      "cell_type": "code",
      "source": [
        "ab = np.array([[1, 2, 3], [5,6,7]])\n",
        "print(ab)\n",
        "print(ab.shape)\n",
        "print(ab.ndim)\n",
        "print(ab.dtype)\n",
        "print(ab.itemsize)\n",
        "print(ab.size)"
      ],
      "metadata": {
        "colab": {
          "base_uri": "https://localhost:8080/"
        },
        "id": "LGF8foqBmyB7",
        "outputId": "0b14a40a-3bb7-4adf-f11f-da088dd19398"
      },
      "execution_count": 13,
      "outputs": [
        {
          "output_type": "stream",
          "name": "stdout",
          "text": [
            "[[1 2 3]\n",
            " [5 6 7]]\n",
            "(2, 3)\n",
            "2\n",
            "int64\n",
            "8\n",
            "6\n"
          ]
        }
      ]
    },
    {
      "cell_type": "code",
      "source": [
        "A = np.array([10, 11, 12 , 13, 14])\n",
        "B = np.array([0, 1, 2, 3, 4])\n",
        "print(A +B)\n",
        "print(A-B)"
      ],
      "metadata": {
        "colab": {
          "base_uri": "https://localhost:8080/"
        },
        "id": "UWBZ2o0mnGIc",
        "outputId": "5dc3ebfa-b54d-41ad-fb5a-ca2ed40d7d2f"
      },
      "execution_count": 15,
      "outputs": [
        {
          "output_type": "stream",
          "name": "stdout",
          "text": [
            "[10 12 14 16 18]\n",
            "[10 10 10 10 10]\n"
          ]
        }
      ]
    },
    {
      "cell_type": "code",
      "source": [
        "C = np.array([[5,6],[7,8]])\n",
        "D = np.array([[10,20],[30,40]])\n",
        "print(C+D)\n",
        "print(C-D)"
      ],
      "metadata": {
        "colab": {
          "base_uri": "https://localhost:8080/"
        },
        "id": "9qbmlhCawb_j",
        "outputId": "00a4e067-e730-418b-b32d-98ca9baf555a"
      },
      "execution_count": 16,
      "outputs": [
        {
          "output_type": "stream",
          "name": "stdout",
          "text": [
            "[[15 26]\n",
            " [37 48]]\n",
            "[[ -5 -14]\n",
            " [-23 -32]]\n"
          ]
        }
      ]
    },
    {
      "cell_type": "code",
      "source": [
        "E = np.array([[100,100],[200,0]])\n",
        "F= np.array([[10,20],[30,40]])\n",
        "\n",
        "print(E+F)\n",
        "print(E-F)"
      ],
      "metadata": {
        "colab": {
          "base_uri": "https://localhost:8080/"
        },
        "id": "1CiKLKkIwtWy",
        "outputId": "745d56da-b176-4e81-c45a-44832eb4db2e"
      },
      "execution_count": 17,
      "outputs": [
        {
          "output_type": "stream",
          "name": "stdout",
          "text": [
            "[[110 120]\n",
            " [230  40]]\n",
            "[[ 90  80]\n",
            " [170 -40]]\n"
          ]
        }
      ]
    },
    {
      "cell_type": "code",
      "source": [
        "A=np.array([[19,22],[13,22]])\n",
        "B = np.array([[1,1],[2,2]])\n",
        "C = np.dot(A,B)\n",
        "\n",
        "print(C)"
      ],
      "metadata": {
        "colab": {
          "base_uri": "https://localhost:8080/"
        },
        "id": "knE15PoFw6NL",
        "outputId": "cefcb649-787c-4720-944f-8b193200005d"
      },
      "execution_count": 21,
      "outputs": [
        {
          "output_type": "stream",
          "name": "stdout",
          "text": [
            "[[63 63]\n",
            " [57 57]]\n"
          ]
        }
      ]
    },
    {
      "cell_type": "code",
      "source": [
        "A = np.array([[1,2],[3,4]])\n",
        "print(A.transpose())\n",
        "print(np.transpose(A))"
      ],
      "metadata": {
        "colab": {
          "base_uri": "https://localhost:8080/"
        },
        "id": "QjNpw4afyXLF",
        "outputId": "82450cac-fefc-4bee-af08-19ac54ae977b"
      },
      "execution_count": 24,
      "outputs": [
        {
          "output_type": "stream",
          "name": "stdout",
          "text": [
            "[[1 3]\n",
            " [2 4]]\n",
            "[[1 3]\n",
            " [2 4]]\n"
          ]
        }
      ]
    },
    {
      "cell_type": "code",
      "source": [
        "A = np.array([[1,2,3,4,5],[6,7,8,9,10]])\n",
        "print(A.transpose())\n",
        "print(np.transpose(A))"
      ],
      "metadata": {
        "colab": {
          "base_uri": "https://localhost:8080/"
        },
        "id": "9CXpWHvizb3r",
        "outputId": "77faed25-2f07-4094-e415-2cabc57222c9"
      },
      "execution_count": 25,
      "outputs": [
        {
          "output_type": "stream",
          "name": "stdout",
          "text": [
            "[[ 1  6]\n",
            " [ 2  7]\n",
            " [ 3  8]\n",
            " [ 4  9]\n",
            " [ 5 10]]\n",
            "[[ 1  6]\n",
            " [ 2  7]\n",
            " [ 3  8]\n",
            " [ 4  9]\n",
            " [ 5 10]]\n"
          ]
        }
      ]
    },
    {
      "cell_type": "code",
      "source": [
        "A = np.array([[0,1],[2,3]])\n",
        "print(np.linalg.inv(A))"
      ],
      "metadata": {
        "colab": {
          "base_uri": "https://localhost:8080/"
        },
        "id": "W6dzm-Tlzi4j",
        "outputId": "73c08f95-6a34-4535-862a-76861a8b307f"
      },
      "execution_count": 26,
      "outputs": [
        {
          "output_type": "stream",
          "name": "stdout",
          "text": [
            "[[-1.5  0.5]\n",
            " [ 1.   0. ]]\n"
          ]
        }
      ]
    },
    {
      "cell_type": "code",
      "source": [
        "B = np.array([[6,2,],[9,0]])\n",
        "print(np.linalg.inv(B))"
      ],
      "metadata": {
        "colab": {
          "base_uri": "https://localhost:8080/"
        },
        "id": "sbW-9q1k2ehj",
        "outputId": "a8594992-93b3-4f67-c6c5-6a28273f9760"
      },
      "execution_count": 29,
      "outputs": [
        {
          "output_type": "stream",
          "name": "stdout",
          "text": [
            "[[ 0.          0.11111111]\n",
            " [ 0.5        -0.33333333]]\n"
          ]
        }
      ]
    },
    {
      "cell_type": "code",
      "source": [
        ""
      ],
      "metadata": {
        "id": "0lZmXVVR2m_F"
      },
      "execution_count": null,
      "outputs": []
    }
  ]
}